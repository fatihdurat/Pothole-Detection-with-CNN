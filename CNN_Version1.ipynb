{
 "cells": [
  {
   "cell_type": "code",
   "execution_count": null,
   "metadata": {
    "id": "JALkbPEUKbHs"
   },
   "outputs": [],
   "source": [
    "from keras.layers import Dense,Dropout,Flatten,Conv2D,MaxPool2D,Activation\n",
    "from keras.preprocessing.image import ImageDataGenerator\n",
    "from keras.models import Sequential, model_from_json\n",
    "from sklearn.model_selection import train_test_split\n",
    "from sklearn.metrics import classification_report\n",
    "from sklearn.preprocessing import LabelEncoder\n",
    "from sklearn.metrics import confusion_matrix\n",
    "import matplotlib.pyplot as plt\n",
    "import seaborn as sns\n",
    "import numpy as np\n",
    "import glob\n",
    "import cv2\n",
    "import os"
   ]
  },
  {
   "cell_type": "code",
   "execution_count": null,
   "metadata": {
    "id": "iHcbTNDHUL5f"
   },
   "outputs": [],
   "source": [
    "Images = []\n",
    "Labels = []\n",
    "path = \"/content/drive/MyDrive/Resized Data\"\n",
    "DatasetFolders = os.listdir(path)\n",
    "MainFolder = os.getcwd()\n",
    "for SubFolders in DatasetFolders:\n",
    "    os.chdir(path)\n",
    "    if SubFolders == \"Negative Data\":  \n",
    "        os.chdir(SubFolders)\n",
    "        for img in glob.glob(os.getcwd() + \"/*.JPG\"):\n",
    "            Labels.append(\"Negative\")\n",
    "            img = cv2.imread(img,cv2.IMREAD_COLOR)\n",
    "            Images.append(np.array(img))\n",
    "        os.chdir(MainFolder)\n",
    "    else:\n",
    "        os.chdir(SubFolders)\n",
    "        for img in glob.glob(os.getcwd() + \"/*.JPG\"):\n",
    "            Labels.append(\"Positive\")\n",
    "            img = cv2.imread(img,cv2.IMREAD_COLOR)\n",
    "            Images.append(np.array(img))\n",
    "        os.chdir(MainFolder)"
   ]
  },
  {
   "cell_type": "code",
   "execution_count": null,
   "metadata": {
    "colab": {
     "base_uri": "https://localhost:8080/"
    },
    "id": "7CE4ZRbyUQEO",
    "outputId": "0506e9b7-fed1-4831-db94-3d71de5bf649"
   },
   "outputs": [
    {
     "name": "stdout",
     "output_type": "stream",
     "text": [
      "Labels Vector: ['Positive', 'Positive', 'Positive', 'Positive', 'Positive', 'Positive', 'Positive', 'Positive', 'Positive', 'Positive', 'Positive', 'Positive', 'Positive', 'Positive', 'Positive', 'Positive', 'Positive', 'Positive', 'Positive', 'Positive', 'Positive', 'Positive', 'Positive', 'Positive', 'Positive', 'Positive', 'Positive', 'Positive', 'Positive', 'Positive', 'Positive', 'Positive', 'Positive', 'Positive', 'Positive', 'Positive', 'Positive', 'Positive', 'Positive', 'Positive', 'Positive', 'Positive', 'Positive', 'Positive', 'Positive', 'Positive', 'Positive', 'Positive', 'Positive', 'Positive', 'Positive', 'Positive', 'Positive', 'Positive', 'Positive', 'Positive', 'Positive', 'Positive', 'Positive', 'Positive', 'Positive', 'Positive', 'Positive', 'Positive', 'Positive', 'Positive', 'Positive', 'Positive', 'Positive', 'Positive', 'Positive', 'Positive', 'Positive', 'Positive', 'Positive', 'Positive', 'Positive', 'Positive', 'Positive', 'Positive', 'Positive', 'Positive', 'Positive', 'Positive', 'Positive', 'Positive', 'Positive', 'Positive', 'Positive', 'Positive', 'Positive', 'Positive', 'Positive', 'Positive', 'Positive', 'Positive', 'Positive', 'Positive', 'Positive', 'Positive', 'Positive', 'Positive', 'Positive', 'Positive', 'Positive', 'Positive', 'Positive', 'Positive', 'Positive', 'Positive', 'Positive', 'Positive', 'Positive', 'Positive', 'Positive', 'Positive', 'Positive', 'Positive', 'Positive', 'Positive', 'Positive', 'Positive', 'Positive', 'Positive', 'Positive', 'Positive', 'Positive', 'Positive', 'Positive', 'Positive', 'Positive', 'Positive', 'Positive', 'Positive', 'Positive', 'Positive', 'Positive', 'Positive', 'Positive', 'Positive', 'Positive', 'Positive', 'Positive', 'Positive', 'Positive', 'Positive', 'Positive', 'Positive', 'Positive', 'Positive', 'Positive', 'Positive', 'Positive', 'Positive', 'Positive', 'Positive', 'Positive', 'Positive', 'Positive', 'Positive', 'Positive', 'Positive', 'Positive', 'Positive', 'Positive', 'Positive', 'Positive', 'Positive', 'Positive', 'Positive', 'Positive', 'Positive', 'Positive', 'Positive', 'Positive', 'Positive', 'Positive', 'Positive', 'Positive', 'Positive', 'Positive', 'Positive', 'Positive', 'Positive', 'Positive', 'Positive', 'Positive', 'Positive', 'Positive', 'Positive', 'Positive', 'Positive', 'Positive', 'Positive', 'Positive', 'Positive', 'Positive', 'Positive', 'Positive', 'Positive', 'Positive', 'Positive', 'Positive', 'Positive', 'Positive', 'Positive', 'Positive', 'Positive', 'Positive', 'Positive', 'Positive', 'Positive', 'Positive', 'Positive', 'Positive', 'Positive', 'Positive', 'Positive', 'Positive', 'Positive', 'Positive', 'Positive', 'Positive', 'Positive', 'Positive', 'Positive', 'Positive', 'Positive', 'Positive', 'Positive', 'Positive', 'Positive', 'Positive', 'Positive', 'Positive', 'Positive', 'Positive', 'Positive', 'Positive', 'Positive', 'Positive', 'Positive', 'Positive', 'Positive', 'Positive', 'Positive', 'Positive', 'Positive', 'Positive', 'Positive', 'Positive', 'Positive', 'Positive', 'Positive', 'Positive', 'Positive', 'Positive', 'Positive', 'Positive', 'Positive', 'Positive', 'Positive', 'Positive', 'Positive', 'Positive', 'Positive', 'Positive', 'Positive', 'Positive', 'Positive', 'Positive', 'Positive', 'Positive', 'Positive', 'Positive', 'Positive', 'Positive', 'Positive', 'Positive', 'Positive', 'Positive', 'Positive', 'Positive', 'Positive', 'Positive', 'Positive', 'Positive', 'Positive', 'Positive', 'Positive', 'Positive', 'Positive', 'Positive', 'Positive', 'Positive', 'Positive', 'Positive', 'Positive', 'Positive', 'Positive', 'Positive', 'Positive', 'Positive', 'Positive', 'Positive', 'Positive', 'Positive', 'Positive', 'Positive', 'Positive', 'Positive', 'Positive', 'Positive', 'Positive', 'Positive', 'Positive', 'Positive', 'Positive', 'Positive', 'Positive', 'Positive', 'Positive', 'Positive', 'Positive', 'Positive', 'Positive', 'Positive', 'Positive', 'Positive', 'Positive', 'Positive', 'Positive', 'Positive', 'Positive', 'Positive', 'Positive', 'Positive', 'Positive', 'Positive', 'Positive', 'Positive', 'Positive', 'Positive', 'Positive', 'Positive', 'Positive', 'Positive', 'Positive', 'Positive', 'Positive', 'Positive', 'Positive', 'Positive', 'Positive', 'Positive', 'Positive', 'Positive', 'Positive', 'Positive', 'Positive', 'Positive', 'Positive', 'Positive', 'Positive', 'Positive', 'Positive', 'Positive', 'Positive', 'Positive', 'Positive', 'Positive', 'Positive', 'Positive', 'Positive', 'Positive', 'Positive', 'Positive', 'Positive', 'Positive', 'Positive', 'Positive', 'Positive', 'Positive', 'Positive', 'Positive', 'Positive', 'Positive', 'Positive', 'Positive', 'Positive', 'Positive', 'Positive', 'Positive', 'Positive', 'Positive', 'Positive', 'Positive', 'Positive', 'Positive', 'Positive', 'Positive', 'Positive', 'Positive', 'Positive', 'Positive', 'Positive', 'Positive', 'Positive', 'Positive', 'Positive', 'Positive', 'Positive', 'Positive', 'Positive', 'Positive', 'Positive', 'Positive', 'Positive', 'Positive', 'Positive', 'Positive', 'Positive', 'Positive', 'Positive', 'Positive', 'Positive', 'Positive', 'Positive', 'Positive', 'Positive', 'Positive', 'Positive', 'Positive', 'Positive', 'Positive', 'Positive', 'Positive', 'Positive', 'Positive', 'Positive', 'Positive', 'Positive', 'Positive', 'Positive', 'Positive', 'Positive', 'Positive', 'Positive', 'Positive', 'Positive', 'Positive', 'Positive', 'Positive', 'Positive', 'Positive', 'Positive', 'Positive', 'Positive', 'Positive', 'Positive', 'Positive', 'Positive', 'Positive', 'Positive', 'Positive', 'Positive', 'Positive', 'Positive', 'Positive', 'Positive', 'Positive', 'Positive', 'Positive', 'Positive', 'Positive', 'Positive', 'Positive', 'Positive', 'Positive', 'Positive', 'Positive', 'Positive', 'Positive', 'Positive', 'Positive', 'Positive', 'Positive', 'Positive', 'Positive', 'Positive', 'Positive', 'Positive', 'Positive', 'Positive', 'Positive', 'Positive', 'Positive', 'Positive', 'Positive', 'Positive', 'Positive', 'Positive', 'Positive', 'Positive', 'Positive', 'Positive', 'Positive', 'Positive', 'Positive', 'Positive', 'Positive', 'Positive', 'Positive', 'Positive', 'Positive', 'Positive', 'Positive', 'Positive', 'Positive', 'Positive', 'Positive', 'Positive', 'Positive', 'Positive', 'Positive', 'Positive', 'Positive', 'Positive', 'Positive', 'Positive', 'Positive', 'Positive', 'Positive', 'Positive', 'Positive', 'Positive', 'Positive', 'Positive', 'Positive', 'Positive', 'Positive', 'Positive', 'Positive', 'Positive', 'Positive', 'Positive', 'Positive', 'Positive', 'Positive', 'Positive', 'Positive', 'Positive', 'Positive', 'Positive', 'Positive', 'Positive', 'Positive', 'Positive', 'Positive', 'Positive', 'Positive', 'Positive', 'Positive', 'Positive', 'Positive', 'Positive', 'Positive', 'Positive', 'Positive', 'Positive', 'Positive', 'Positive', 'Positive', 'Positive', 'Positive', 'Positive', 'Positive', 'Positive', 'Positive', 'Positive', 'Positive', 'Positive', 'Positive', 'Positive', 'Positive', 'Positive', 'Positive', 'Positive', 'Positive', 'Positive', 'Positive', 'Positive', 'Positive', 'Positive', 'Positive', 'Positive', 'Positive', 'Positive', 'Positive', 'Positive', 'Positive', 'Positive', 'Positive', 'Positive', 'Positive', 'Positive', 'Positive', 'Positive', 'Positive', 'Positive', 'Positive', 'Positive', 'Positive', 'Positive', 'Positive', 'Positive', 'Positive', 'Positive', 'Positive', 'Positive', 'Positive', 'Positive', 'Positive', 'Positive', 'Positive', 'Positive', 'Positive', 'Positive', 'Positive', 'Positive', 'Positive', 'Positive', 'Positive', 'Positive', 'Positive', 'Positive', 'Positive', 'Positive', 'Positive', 'Positive', 'Positive', 'Positive', 'Positive', 'Positive', 'Positive', 'Positive', 'Positive', 'Positive', 'Positive', 'Positive', 'Positive', 'Positive', 'Positive', 'Positive', 'Positive', 'Positive', 'Positive', 'Positive', 'Positive', 'Positive', 'Positive', 'Positive', 'Positive', 'Positive', 'Positive', 'Positive', 'Positive', 'Positive', 'Positive', 'Positive', 'Positive', 'Positive', 'Positive', 'Positive', 'Positive', 'Positive', 'Positive', 'Positive', 'Positive', 'Positive', 'Positive', 'Positive', 'Positive', 'Positive', 'Positive', 'Positive', 'Positive', 'Positive', 'Positive', 'Positive', 'Positive', 'Positive', 'Positive', 'Positive', 'Positive', 'Positive', 'Positive', 'Positive', 'Positive', 'Positive', 'Positive', 'Positive', 'Positive', 'Positive', 'Positive', 'Positive', 'Positive', 'Positive', 'Positive', 'Positive', 'Positive', 'Positive', 'Positive', 'Positive', 'Positive', 'Positive', 'Positive', 'Positive', 'Positive', 'Positive', 'Positive', 'Positive', 'Positive', 'Positive', 'Positive', 'Positive', 'Positive', 'Positive', 'Positive', 'Positive', 'Positive', 'Positive', 'Positive', 'Positive', 'Positive', 'Positive', 'Positive', 'Positive', 'Positive', 'Positive', 'Positive', 'Positive', 'Positive', 'Positive', 'Positive', 'Positive', 'Positive', 'Positive', 'Positive', 'Positive', 'Positive', 'Positive', 'Positive', 'Positive', 'Positive', 'Positive', 'Positive', 'Positive', 'Positive', 'Positive', 'Positive', 'Positive', 'Positive', 'Positive', 'Positive', 'Positive', 'Positive', 'Positive', 'Positive', 'Positive', 'Positive', 'Positive', 'Positive', 'Positive', 'Positive', 'Positive', 'Positive', 'Positive', 'Positive', 'Positive', 'Positive', 'Positive', 'Positive', 'Positive', 'Positive', 'Positive', 'Positive', 'Positive', 'Positive', 'Positive', 'Positive', 'Positive', 'Positive', 'Positive', 'Positive', 'Positive', 'Positive', 'Positive', 'Positive', 'Positive', 'Positive', 'Positive', 'Positive', 'Positive', 'Positive', 'Positive', 'Positive', 'Positive', 'Positive', 'Positive', 'Positive', 'Positive', 'Positive', 'Positive', 'Positive', 'Positive', 'Positive', 'Positive', 'Positive', 'Positive', 'Positive', 'Positive', 'Positive', 'Positive', 'Positive', 'Positive', 'Positive', 'Positive', 'Positive', 'Positive', 'Positive', 'Positive', 'Positive', 'Positive', 'Positive', 'Positive', 'Positive', 'Positive', 'Positive', 'Positive', 'Positive', 'Positive', 'Positive', 'Positive', 'Positive', 'Positive', 'Positive', 'Positive', 'Positive', 'Positive', 'Positive', 'Positive', 'Positive', 'Positive', 'Positive', 'Positive', 'Positive', 'Positive', 'Positive', 'Positive', 'Positive', 'Positive', 'Positive', 'Positive', 'Positive', 'Positive', 'Positive', 'Positive', 'Positive', 'Positive', 'Positive', 'Positive', 'Positive', 'Positive', 'Positive', 'Positive', 'Positive', 'Positive', 'Positive', 'Positive', 'Positive', 'Positive', 'Positive', 'Positive', 'Positive', 'Positive', 'Positive', 'Positive', 'Positive', 'Positive', 'Positive', 'Positive', 'Positive', 'Positive', 'Positive', 'Positive', 'Positive', 'Positive', 'Positive', 'Positive', 'Positive', 'Positive', 'Positive', 'Positive', 'Positive', 'Positive', 'Positive', 'Positive', 'Positive', 'Positive', 'Positive', 'Positive', 'Positive', 'Positive', 'Positive', 'Positive', 'Positive', 'Positive', 'Positive', 'Positive', 'Positive', 'Positive', 'Positive', 'Positive', 'Positive', 'Positive', 'Positive', 'Positive', 'Positive', 'Positive', 'Positive', 'Positive', 'Positive', 'Positive', 'Positive', 'Positive', 'Positive', 'Positive', 'Positive', 'Positive', 'Positive', 'Positive', 'Positive', 'Positive', 'Positive', 'Positive', 'Positive', 'Positive', 'Positive', 'Positive', 'Positive', 'Positive', 'Positive', 'Positive', 'Positive', 'Positive', 'Positive', 'Positive', 'Positive', 'Positive', 'Positive', 'Positive', 'Positive', 'Positive', 'Positive', 'Positive', 'Positive', 'Positive', 'Positive', 'Positive', 'Positive', 'Positive', 'Positive', 'Positive', 'Positive', 'Positive', 'Positive', 'Positive', 'Positive', 'Positive', 'Positive', 'Positive', 'Positive', 'Positive', 'Positive', 'Positive', 'Positive', 'Positive', 'Positive', 'Positive', 'Positive', 'Positive', 'Positive', 'Positive', 'Positive', 'Positive', 'Positive', 'Positive', 'Positive', 'Positive', 'Positive', 'Positive', 'Positive', 'Positive', 'Positive', 'Positive', 'Positive', 'Positive', 'Positive', 'Positive', 'Positive', 'Positive', 'Positive', 'Positive', 'Positive', 'Positive', 'Positive', 'Positive', 'Positive', 'Positive', 'Positive', 'Positive', 'Positive', 'Positive', 'Positive', 'Positive', 'Positive', 'Positive', 'Positive', 'Positive', 'Positive', 'Positive', 'Positive', 'Positive', 'Positive', 'Positive', 'Positive', 'Positive', 'Positive', 'Positive', 'Positive', 'Positive', 'Positive', 'Positive', 'Positive', 'Positive', 'Positive', 'Positive', 'Positive', 'Positive', 'Positive', 'Positive', 'Positive', 'Positive', 'Positive', 'Positive', 'Positive', 'Positive', 'Positive', 'Positive', 'Positive', 'Positive', 'Positive', 'Positive', 'Positive', 'Positive', 'Positive', 'Positive', 'Positive', 'Positive', 'Positive', 'Positive', 'Positive', 'Positive', 'Positive', 'Positive', 'Positive', 'Positive', 'Positive', 'Positive', 'Positive', 'Positive', 'Positive', 'Positive', 'Positive', 'Positive', 'Positive', 'Positive', 'Positive', 'Positive', 'Positive', 'Positive', 'Positive', 'Positive', 'Positive', 'Positive', 'Positive', 'Positive', 'Positive', 'Positive', 'Positive', 'Positive', 'Positive', 'Positive', 'Positive', 'Positive', 'Positive', 'Positive', 'Positive', 'Positive', 'Positive', 'Positive', 'Positive', 'Positive', 'Positive', 'Positive', 'Positive', 'Positive', 'Positive', 'Negative', 'Negative', 'Negative', 'Negative', 'Negative', 'Negative', 'Negative', 'Negative', 'Negative', 'Negative', 'Negative', 'Negative', 'Negative', 'Negative', 'Negative', 'Negative', 'Negative', 'Negative', 'Negative', 'Negative', 'Negative', 'Negative', 'Negative', 'Negative', 'Negative', 'Negative', 'Negative', 'Negative', 'Negative', 'Negative', 'Negative', 'Negative', 'Negative', 'Negative', 'Negative', 'Negative', 'Negative', 'Negative', 'Negative', 'Negative', 'Negative', 'Negative', 'Negative', 'Negative', 'Negative', 'Negative', 'Negative', 'Negative', 'Negative', 'Negative', 'Negative', 'Negative', 'Negative', 'Negative', 'Negative', 'Negative', 'Negative', 'Negative', 'Negative', 'Negative', 'Negative', 'Negative', 'Negative', 'Negative', 'Negative', 'Negative', 'Negative', 'Negative', 'Negative', 'Negative', 'Negative', 'Negative', 'Negative', 'Negative', 'Negative', 'Negative', 'Negative', 'Negative', 'Negative', 'Negative', 'Negative', 'Negative', 'Negative', 'Negative', 'Negative', 'Negative', 'Negative', 'Negative', 'Negative', 'Negative', 'Negative', 'Negative', 'Negative', 'Negative', 'Negative', 'Negative', 'Negative', 'Negative', 'Negative', 'Negative', 'Negative', 'Negative', 'Negative', 'Negative', 'Negative', 'Negative', 'Negative', 'Negative', 'Negative', 'Negative', 'Negative', 'Negative', 'Negative', 'Negative', 'Negative', 'Negative', 'Negative', 'Negative', 'Negative', 'Negative', 'Negative', 'Negative', 'Negative', 'Negative', 'Negative', 'Negative', 'Negative', 'Negative', 'Negative', 'Negative', 'Negative', 'Negative', 'Negative', 'Negative', 'Negative', 'Negative', 'Negative', 'Negative', 'Negative', 'Negative', 'Negative', 'Negative', 'Negative', 'Negative', 'Negative', 'Negative', 'Negative', 'Negative', 'Negative', 'Negative', 'Negative', 'Negative', 'Negative', 'Negative', 'Negative', 'Negative', 'Negative', 'Negative', 'Negative', 'Negative', 'Negative', 'Negative', 'Negative', 'Negative', 'Negative', 'Negative', 'Negative', 'Negative', 'Negative', 'Negative', 'Negative', 'Negative', 'Negative', 'Negative', 'Negative', 'Negative', 'Negative', 'Negative', 'Negative', 'Negative', 'Negative', 'Negative', 'Negative', 'Negative', 'Negative', 'Negative', 'Negative', 'Negative', 'Negative', 'Negative', 'Negative', 'Negative', 'Negative', 'Negative', 'Negative', 'Negative', 'Negative', 'Negative', 'Negative', 'Negative', 'Negative', 'Negative', 'Negative', 'Negative', 'Negative', 'Negative', 'Negative', 'Negative', 'Negative', 'Negative', 'Negative', 'Negative', 'Negative', 'Negative', 'Negative', 'Negative', 'Negative', 'Negative', 'Negative', 'Negative', 'Negative', 'Negative', 'Negative', 'Negative', 'Negative', 'Negative', 'Negative', 'Negative', 'Negative', 'Negative', 'Negative', 'Negative', 'Negative', 'Negative', 'Negative', 'Negative', 'Negative', 'Negative', 'Negative', 'Negative', 'Negative', 'Negative', 'Negative', 'Negative', 'Negative', 'Negative', 'Negative', 'Negative', 'Negative', 'Negative', 'Negative', 'Negative', 'Negative', 'Negative', 'Negative', 'Negative', 'Negative', 'Negative', 'Negative', 'Negative', 'Negative', 'Negative', 'Negative', 'Negative', 'Negative', 'Negative', 'Negative', 'Negative', 'Negative', 'Negative', 'Negative', 'Negative', 'Negative', 'Negative', 'Negative', 'Negative', 'Negative', 'Negative', 'Negative', 'Negative', 'Negative', 'Negative', 'Negative', 'Negative', 'Negative', 'Negative', 'Negative', 'Negative', 'Negative', 'Negative', 'Negative', 'Negative', 'Negative', 'Negative', 'Negative', 'Negative', 'Negative', 'Negative', 'Negative', 'Negative', 'Negative', 'Negative', 'Negative', 'Negative', 'Negative', 'Negative', 'Negative', 'Negative', 'Negative', 'Negative', 'Negative', 'Negative', 'Negative', 'Negative', 'Negative', 'Negative', 'Negative', 'Negative', 'Negative', 'Negative', 'Negative', 'Negative', 'Negative', 'Negative', 'Negative', 'Negative', 'Negative', 'Negative', 'Negative', 'Negative', 'Negative', 'Negative', 'Negative', 'Negative', 'Negative', 'Negative', 'Negative', 'Negative', 'Negative', 'Negative', 'Negative', 'Negative', 'Negative', 'Negative', 'Negative', 'Negative', 'Negative', 'Negative', 'Negative', 'Negative', 'Negative', 'Negative', 'Negative', 'Negative', 'Negative', 'Negative', 'Negative', 'Negative', 'Negative', 'Negative', 'Negative', 'Negative', 'Negative', 'Negative', 'Negative', 'Negative', 'Negative', 'Negative', 'Negative', 'Negative', 'Negative', 'Negative', 'Negative', 'Negative', 'Negative', 'Negative', 'Negative', 'Negative', 'Negative', 'Negative', 'Negative', 'Negative', 'Negative', 'Negative', 'Negative', 'Negative', 'Negative', 'Negative', 'Negative', 'Negative', 'Negative', 'Negative', 'Negative', 'Negative', 'Negative', 'Negative', 'Negative', 'Negative', 'Negative', 'Negative', 'Negative', 'Negative', 'Negative', 'Negative', 'Negative', 'Negative', 'Negative', 'Negative', 'Negative', 'Negative', 'Negative', 'Negative', 'Negative', 'Negative', 'Negative', 'Negative', 'Negative', 'Negative', 'Negative', 'Negative', 'Negative', 'Negative', 'Negative', 'Negative', 'Negative', 'Negative', 'Negative', 'Negative', 'Negative', 'Negative', 'Negative', 'Negative', 'Negative', 'Negative', 'Negative', 'Negative', 'Negative', 'Negative', 'Negative', 'Negative', 'Negative', 'Negative', 'Negative', 'Negative', 'Negative', 'Negative', 'Negative', 'Negative', 'Negative', 'Negative', 'Negative', 'Negative', 'Negative', 'Negative', 'Negative', 'Negative', 'Negative', 'Negative', 'Negative', 'Negative', 'Negative', 'Negative', 'Negative', 'Negative', 'Negative', 'Negative', 'Negative', 'Negative', 'Negative', 'Negative', 'Negative', 'Negative', 'Negative', 'Negative', 'Negative', 'Negative', 'Negative', 'Negative', 'Negative', 'Negative', 'Negative', 'Negative', 'Negative', 'Negative', 'Negative', 'Negative', 'Negative', 'Negative', 'Negative', 'Negative', 'Negative', 'Negative', 'Negative', 'Negative', 'Negative', 'Negative', 'Negative', 'Negative', 'Negative', 'Negative', 'Negative', 'Negative', 'Negative', 'Negative', 'Negative', 'Negative', 'Negative', 'Negative', 'Negative', 'Negative', 'Negative', 'Negative', 'Negative', 'Negative', 'Negative', 'Negative', 'Negative', 'Negative', 'Negative', 'Negative', 'Negative', 'Negative', 'Negative', 'Negative', 'Negative', 'Negative', 'Negative', 'Negative', 'Negative', 'Negative', 'Negative', 'Negative', 'Negative', 'Negative', 'Negative', 'Negative', 'Negative', 'Negative', 'Negative', 'Negative', 'Negative', 'Negative', 'Negative', 'Negative', 'Negative', 'Negative', 'Negative', 'Negative', 'Negative', 'Negative', 'Negative', 'Negative', 'Negative', 'Negative', 'Negative', 'Negative', 'Negative', 'Negative', 'Negative', 'Negative', 'Negative', 'Negative', 'Negative', 'Negative', 'Negative', 'Negative', 'Negative', 'Negative', 'Negative', 'Negative', 'Negative', 'Negative', 'Negative', 'Negative', 'Negative', 'Negative', 'Negative', 'Negative', 'Negative', 'Negative', 'Negative', 'Negative', 'Negative', 'Negative', 'Negative', 'Negative', 'Negative', 'Negative', 'Negative', 'Negative', 'Negative', 'Negative', 'Negative', 'Negative', 'Negative', 'Negative', 'Negative', 'Negative', 'Negative', 'Negative', 'Negative', 'Negative', 'Negative', 'Negative', 'Negative', 'Negative', 'Negative', 'Negative', 'Negative', 'Negative', 'Negative', 'Negative', 'Negative', 'Negative', 'Negative', 'Negative', 'Negative', 'Negative', 'Negative', 'Negative', 'Negative', 'Negative', 'Negative', 'Negative', 'Negative', 'Negative', 'Negative', 'Negative', 'Negative', 'Negative', 'Negative', 'Negative', 'Negative', 'Negative', 'Negative', 'Negative', 'Negative', 'Negative', 'Negative', 'Negative', 'Negative', 'Negative', 'Negative', 'Negative', 'Negative', 'Negative', 'Negative', 'Negative', 'Negative', 'Negative', 'Negative', 'Negative', 'Negative', 'Negative', 'Negative', 'Negative', 'Negative', 'Negative', 'Negative', 'Negative', 'Negative', 'Negative', 'Negative', 'Negative', 'Negative', 'Negative', 'Negative', 'Negative', 'Negative', 'Negative', 'Negative', 'Negative', 'Negative', 'Negative', 'Negative', 'Negative', 'Negative', 'Negative', 'Negative', 'Negative', 'Negative', 'Negative', 'Negative', 'Negative', 'Negative', 'Negative', 'Negative', 'Negative', 'Negative', 'Negative', 'Negative', 'Negative', 'Negative', 'Negative', 'Negative', 'Negative', 'Negative', 'Negative', 'Negative', 'Negative', 'Negative', 'Negative', 'Negative', 'Negative', 'Negative', 'Negative', 'Negative', 'Negative', 'Negative', 'Negative', 'Negative', 'Negative', 'Negative', 'Negative', 'Negative', 'Negative', 'Negative', 'Negative', 'Negative', 'Negative', 'Negative', 'Negative', 'Negative', 'Negative', 'Negative', 'Negative', 'Negative', 'Negative', 'Negative', 'Negative', 'Negative', 'Negative', 'Negative', 'Negative', 'Negative', 'Negative', 'Negative', 'Negative', 'Negative', 'Negative', 'Negative', 'Negative', 'Negative', 'Negative', 'Negative', 'Negative', 'Negative', 'Negative', 'Negative', 'Negative', 'Negative', 'Negative', 'Negative', 'Negative', 'Negative', 'Negative', 'Negative', 'Negative', 'Negative', 'Negative', 'Negative', 'Negative', 'Negative', 'Negative', 'Negative', 'Negative', 'Negative', 'Negative', 'Negative', 'Negative', 'Negative', 'Negative', 'Negative', 'Negative', 'Negative', 'Negative', 'Negative', 'Negative', 'Negative', 'Negative', 'Negative', 'Negative', 'Negative', 'Negative', 'Negative', 'Negative', 'Negative', 'Negative', 'Negative', 'Negative', 'Negative', 'Negative', 'Negative', 'Negative', 'Negative', 'Negative', 'Negative', 'Negative', 'Negative', 'Negative', 'Negative', 'Negative', 'Negative', 'Negative', 'Negative', 'Negative', 'Negative', 'Negative', 'Negative', 'Negative', 'Negative', 'Negative', 'Negative', 'Negative', 'Negative', 'Negative', 'Negative', 'Negative', 'Negative', 'Negative', 'Negative', 'Negative', 'Negative', 'Negative', 'Negative', 'Negative', 'Negative', 'Negative', 'Negative', 'Negative', 'Negative', 'Negative', 'Negative', 'Negative', 'Negative', 'Negative', 'Negative', 'Negative', 'Negative', 'Negative', 'Negative', 'Negative', 'Negative', 'Negative', 'Negative', 'Negative', 'Negative', 'Negative', 'Negative', 'Negative', 'Negative', 'Negative', 'Negative', 'Negative', 'Negative', 'Negative', 'Negative', 'Negative', 'Negative', 'Negative', 'Negative', 'Negative', 'Negative', 'Negative', 'Negative', 'Negative', 'Negative', 'Negative', 'Negative', 'Negative', 'Negative', 'Negative', 'Negative', 'Negative', 'Negative', 'Negative', 'Negative', 'Negative', 'Negative', 'Negative', 'Negative', 'Negative', 'Negative', 'Negative', 'Negative', 'Negative', 'Negative', 'Negative', 'Negative', 'Negative', 'Negative', 'Negative', 'Negative', 'Negative', 'Negative', 'Negative', 'Negative', 'Negative', 'Negative', 'Negative', 'Negative', 'Negative', 'Negative', 'Negative', 'Negative', 'Negative', 'Negative', 'Negative', 'Negative', 'Negative', 'Negative', 'Negative', 'Negative', 'Negative', 'Negative', 'Negative', 'Negative', 'Negative', 'Negative', 'Negative', 'Negative', 'Negative', 'Negative', 'Negative', 'Negative', 'Negative', 'Negative', 'Negative', 'Negative', 'Negative', 'Negative', 'Negative', 'Negative', 'Negative', 'Negative', 'Negative', 'Negative', 'Negative', 'Negative', 'Negative', 'Negative', 'Negative', 'Negative', 'Negative', 'Negative', 'Negative', 'Negative', 'Negative', 'Negative', 'Negative', 'Negative', 'Negative', 'Negative', 'Negative', 'Negative', 'Negative', 'Negative', 'Negative', 'Negative', 'Negative', 'Negative', 'Negative', 'Negative', 'Negative', 'Negative', 'Negative', 'Negative', 'Negative', 'Negative', 'Negative', 'Negative', 'Negative', 'Negative', 'Negative', 'Negative', 'Negative', 'Negative', 'Negative', 'Negative', 'Negative', 'Negative', 'Negative', 'Negative', 'Negative', 'Negative', 'Negative', 'Negative', 'Negative', 'Negative', 'Negative', 'Negative', 'Negative', 'Negative', 'Negative', 'Negative', 'Negative', 'Negative', 'Negative', 'Negative', 'Negative', 'Negative', 'Negative', 'Negative', 'Negative', 'Negative', 'Negative', 'Negative', 'Negative', 'Negative', 'Negative', 'Negative', 'Negative', 'Negative', 'Negative', 'Negative', 'Negative', 'Negative', 'Negative', 'Negative', 'Negative', 'Negative', 'Negative', 'Negative', 'Negative', 'Negative', 'Negative', 'Negative', 'Negative', 'Negative', 'Negative', 'Negative', 'Negative', 'Negative', 'Negative', 'Negative', 'Negative', 'Negative', 'Negative', 'Negative', 'Negative', 'Negative', 'Negative', 'Negative', 'Negative', 'Negative', 'Negative', 'Negative', 'Negative', 'Negative', 'Negative', 'Negative', 'Negative', 'Negative', 'Negative', 'Negative', 'Negative', 'Negative', 'Negative', 'Negative', 'Negative', 'Negative', 'Negative', 'Negative', 'Negative', 'Negative', 'Negative', 'Negative', 'Negative', 'Negative', 'Negative', 'Negative', 'Negative', 'Negative', 'Negative', 'Negative', 'Negative', 'Negative', 'Negative', 'Negative', 'Negative', 'Negative', 'Negative', 'Negative', 'Negative', 'Negative', 'Negative', 'Negative', 'Negative', 'Negative', 'Negative', 'Negative', 'Negative', 'Negative', 'Negative', 'Negative', 'Negative', 'Negative', 'Negative', 'Negative', 'Negative', 'Negative', 'Negative', 'Negative', 'Negative', 'Negative', 'Negative', 'Negative', 'Negative', 'Negative', 'Negative', 'Negative', 'Negative', 'Negative', 'Negative', 'Negative', 'Negative', 'Negative', 'Negative', 'Negative', 'Negative', 'Negative', 'Negative', 'Negative', 'Negative', 'Negative', 'Negative', 'Negative', 'Negative', 'Negative', 'Negative', 'Negative', 'Negative', 'Negative', 'Negative', 'Negative', 'Negative', 'Negative', 'Negative', 'Negative', 'Negative', 'Negative', 'Negative', 'Negative', 'Negative', 'Negative', 'Negative', 'Negative', 'Negative', 'Negative', 'Negative', 'Negative', 'Negative', 'Negative', 'Negative', 'Negative', 'Negative', 'Negative', 'Negative', 'Negative', 'Negative', 'Negative', 'Negative', 'Negative', 'Negative', 'Negative', 'Negative', 'Negative', 'Negative', 'Negative', 'Negative', 'Negative', 'Negative', 'Negative', 'Negative', 'Negative', 'Negative', 'Negative', 'Negative', 'Negative', 'Negative', 'Negative', 'Negative', 'Negative', 'Negative', 'Negative', 'Negative', 'Negative', 'Negative', 'Negative', 'Negative', 'Negative', 'Negative', 'Negative', 'Negative', 'Negative', 'Negative', 'Negative', 'Negative', 'Negative', 'Negative', 'Negative', 'Negative', 'Negative', 'Negative', 'Negative', 'Negative', 'Negative', 'Negative', 'Negative', 'Negative', 'Negative', 'Negative', 'Negative', 'Negative', 'Negative', 'Negative', 'Negative', 'Negative', 'Negative', 'Negative', 'Negative', 'Negative', 'Negative', 'Negative', 'Negative', 'Negative', 'Negative', 'Negative', 'Negative', 'Negative', 'Negative', 'Negative', 'Negative', 'Negative', 'Negative', 'Negative', 'Negative', 'Negative', 'Negative', 'Negative', 'Negative', 'Negative', 'Negative', 'Negative', 'Negative', 'Negative', 'Negative', 'Negative', 'Negative', 'Negative', 'Negative', 'Negative', 'Negative', 'Negative', 'Negative', 'Negative', 'Negative', 'Negative', 'Negative', 'Negative', 'Negative', 'Negative', 'Negative', 'Negative', 'Negative', 'Negative', 'Negative', 'Negative', 'Negative', 'Negative', 'Negative', 'Negative', 'Negative', 'Negative', 'Negative', 'Negative', 'Negative', 'Negative', 'Negative', 'Negative', 'Negative', 'Negative', 'Negative', 'Negative', 'Negative', 'Negative', 'Negative', 'Negative', 'Negative', 'Negative', 'Negative', 'Negative', 'Negative', 'Negative', 'Negative', 'Negative', 'Negative', 'Negative', 'Negative', 'Negative', 'Negative', 'Negative', 'Negative', 'Negative', 'Negative', 'Negative', 'Negative', 'Negative', 'Negative', 'Negative', 'Negative', 'Negative', 'Negative', 'Negative', 'Negative', 'Negative', 'Negative', 'Negative', 'Negative', 'Negative', 'Negative', 'Negative', 'Negative', 'Negative', 'Negative', 'Negative', 'Negative', 'Negative', 'Negative', 'Negative', 'Negative', 'Negative', 'Negative', 'Negative', 'Negative', 'Negative', 'Negative', 'Negative', 'Negative', 'Negative', 'Negative', 'Negative', 'Negative', 'Negative', 'Negative', 'Negative', 'Negative', 'Negative', 'Negative', 'Negative', 'Negative', 'Negative', 'Negative', 'Negative', 'Negative', 'Negative', 'Negative', 'Negative', 'Negative', 'Negative', 'Negative', 'Negative', 'Negative', 'Negative', 'Negative', 'Negative', 'Negative', 'Negative', 'Negative', 'Negative', 'Negative', 'Negative', 'Negative', 'Negative', 'Negative', 'Negative', 'Negative', 'Negative', 'Negative', 'Negative', 'Negative', 'Negative', 'Negative', 'Negative', 'Negative', 'Negative', 'Negative', 'Negative', 'Negative', 'Negative', 'Negative', 'Negative', 'Negative', 'Negative', 'Negative', 'Negative', 'Negative', 'Negative', 'Negative', 'Negative', 'Negative', 'Negative', 'Negative', 'Negative', 'Negative', 'Negative', 'Negative', 'Negative', 'Negative', 'Negative', 'Negative', 'Negative', 'Negative', 'Negative', 'Negative', 'Negative', 'Negative', 'Negative', 'Negative', 'Negative', 'Negative', 'Negative', 'Negative', 'Negative', 'Negative', 'Negative', 'Negative', 'Negative', 'Negative', 'Negative', 'Negative', 'Negative', 'Negative', 'Negative', 'Negative', 'Negative', 'Negative', 'Negative', 'Negative', 'Negative', 'Negative', 'Negative', 'Negative', 'Negative', 'Negative', 'Negative', 'Negative', 'Negative', 'Negative', 'Negative', 'Negative', 'Negative', 'Negative', 'Negative', 'Negative', 'Negative', 'Negative', 'Negative', 'Negative', 'Negative', 'Negative', 'Negative', 'Negative', 'Negative', 'Negative', 'Negative', 'Negative', 'Negative', 'Negative', 'Negative', 'Negative', 'Negative', 'Negative', 'Negative', 'Negative', 'Negative', 'Negative', 'Negative', 'Negative', 'Negative', 'Negative', 'Negative', 'Negative', 'Negative', 'Negative', 'Negative', 'Negative', 'Negative', 'Negative', 'Negative', 'Negative', 'Negative', 'Negative', 'Negative', 'Negative', 'Negative', 'Negative', 'Negative', 'Negative', 'Negative', 'Negative', 'Negative', 'Negative', 'Negative', 'Negative', 'Negative', 'Negative', 'Negative', 'Negative', 'Negative', 'Negative', 'Negative', 'Negative', 'Negative', 'Negative', 'Negative', 'Negative', 'Negative', 'Negative', 'Negative', 'Negative', 'Negative', 'Negative', 'Negative', 'Negative', 'Negative', 'Negative', 'Negative', 'Negative', 'Negative', 'Negative', 'Negative', 'Negative', 'Negative', 'Negative', 'Negative', 'Negative', 'Negative', 'Negative', 'Negative', 'Negative', 'Negative', 'Negative', 'Negative', 'Negative', 'Negative', 'Negative', 'Negative', 'Negative', 'Negative', 'Negative', 'Negative', 'Negative', 'Negative', 'Negative', 'Negative', 'Negative', 'Negative', 'Negative', 'Negative', 'Negative', 'Negative', 'Negative', 'Negative', 'Negative', 'Negative', 'Negative', 'Negative', 'Negative', 'Negative', 'Negative', 'Negative', 'Negative', 'Negative', 'Negative', 'Negative', 'Negative', 'Negative', 'Negative', 'Negative', 'Negative', 'Negative', 'Negative', 'Negative', 'Negative', 'Negative', 'Negative', 'Negative', 'Negative', 'Negative', 'Negative', 'Negative', 'Negative', 'Negative', 'Negative', 'Negative', 'Negative', 'Negative', 'Negative', 'Negative', 'Negative', 'Negative', 'Negative', 'Negative', 'Negative', 'Negative', 'Negative', 'Negative', 'Negative', 'Negative', 'Negative', 'Negative', 'Negative', 'Negative', 'Negative', 'Negative', 'Negative', 'Negative', 'Negative', 'Negative', 'Negative', 'Negative', 'Negative', 'Negative', 'Negative', 'Negative', 'Negative', 'Negative', 'Negative', 'Negative', 'Negative', 'Negative', 'Negative', 'Negative', 'Negative', 'Negative', 'Negative', 'Negative', 'Negative', 'Negative', 'Negative', 'Negative', 'Negative', 'Negative', 'Negative', 'Negative', 'Negative', 'Negative', 'Negative', 'Negative', 'Negative', 'Negative', 'Negative', 'Negative', 'Negative', 'Negative', 'Negative', 'Negative', 'Negative', 'Negative', 'Negative', 'Negative', 'Negative', 'Negative', 'Negative', 'Negative', 'Negative', 'Negative', 'Negative', 'Negative', 'Negative', 'Negative', 'Negative', 'Negative', 'Negative', 'Negative', 'Negative', 'Negative', 'Negative', 'Negative', 'Negative', 'Negative', 'Negative', 'Negative', 'Negative', 'Negative', 'Negative', 'Negative', 'Negative', 'Negative', 'Negative', 'Negative', 'Negative', 'Negative', 'Negative', 'Negative', 'Negative', 'Negative', 'Negative', 'Negative', 'Negative', 'Negative', 'Negative', 'Negative', 'Negative', 'Negative', 'Negative', 'Negative', 'Negative', 'Negative', 'Negative', 'Negative', 'Negative', 'Negative', 'Negative', 'Negative', 'Negative', 'Negative', 'Negative', 'Negative', 'Negative', 'Negative', 'Negative', 'Negative', 'Negative', 'Negative', 'Negative', 'Negative', 'Negative', 'Negative', 'Negative', 'Negative', 'Negative', 'Negative', 'Negative', 'Negative', 'Negative', 'Negative', 'Negative', 'Negative', 'Negative', 'Negative', 'Negative', 'Negative', 'Negative', 'Negative', 'Negative', 'Negative', 'Negative', 'Negative', 'Negative', 'Negative', 'Negative', 'Negative', 'Negative', 'Negative', 'Negative', 'Negative', 'Negative', 'Negative', 'Negative', 'Negative', 'Negative', 'Negative', 'Negative', 'Negative', 'Negative', 'Negative', 'Negative', 'Negative', 'Negative', 'Negative', 'Negative', 'Negative', 'Negative', 'Negative', 'Negative', 'Negative', 'Negative', 'Negative', 'Negative', 'Negative', 'Negative', 'Negative', 'Negative', 'Negative', 'Negative', 'Negative', 'Negative', 'Negative', 'Negative', 'Negative', 'Negative', 'Negative', 'Negative', 'Negative', 'Negative', 'Negative', 'Negative', 'Negative', 'Negative', 'Negative', 'Negative', 'Negative', 'Negative', 'Negative', 'Negative', 'Negative', 'Negative', 'Negative', 'Negative', 'Negative', 'Negative', 'Negative', 'Negative', 'Negative', 'Negative', 'Negative', 'Negative', 'Negative', 'Negative', 'Negative', 'Negative', 'Negative', 'Negative', 'Negative', 'Negative', 'Negative', 'Negative', 'Negative', 'Negative', 'Negative', 'Negative', 'Negative', 'Negative', 'Negative', 'Negative', 'Negative', 'Negative', 'Negative', 'Negative', 'Negative', 'Negative', 'Negative', 'Negative', 'Negative', 'Negative', 'Negative', 'Negative', 'Negative', 'Negative', 'Negative', 'Negative', 'Negative', 'Negative', 'Negative', 'Negative', 'Negative', 'Negative', 'Negative', 'Negative', 'Negative', 'Negative', 'Negative', 'Negative', 'Negative', 'Negative', 'Negative', 'Negative', 'Negative', 'Negative', 'Negative', 'Negative', 'Negative', 'Negative', 'Negative', 'Negative', 'Negative', 'Negative', 'Negative', 'Negative', 'Negative', 'Negative', 'Negative', 'Negative', 'Negative', 'Negative', 'Negative', 'Negative', 'Negative', 'Negative', 'Negative', 'Negative', 'Negative', 'Negative', 'Negative', 'Negative', 'Negative', 'Negative', 'Negative', 'Negative', 'Negative', 'Negative', 'Negative', 'Negative', 'Negative', 'Negative', 'Negative', 'Negative', 'Negative', 'Negative', 'Negative', 'Negative', 'Negative', 'Negative', 'Negative', 'Negative', 'Negative', 'Negative', 'Negative', 'Negative', 'Negative', 'Negative', 'Negative', 'Negative', 'Negative', 'Negative', 'Negative', 'Negative', 'Negative', 'Negative', 'Negative', 'Negative', 'Negative', 'Negative', 'Negative', 'Negative', 'Negative', 'Negative', 'Negative', 'Negative', 'Negative', 'Negative', 'Negative', 'Negative', 'Negative', 'Negative', 'Negative', 'Negative', 'Negative', 'Negative', 'Negative', 'Negative', 'Negative', 'Negative', 'Negative', 'Negative', 'Negative', 'Negative', 'Negative', 'Negative', 'Negative', 'Negative', 'Negative', 'Negative', 'Negative', 'Negative', 'Negative', 'Negative', 'Negative', 'Negative', 'Negative', 'Negative', 'Negative', 'Negative', 'Negative', 'Negative', 'Negative', 'Negative', 'Negative', 'Negative', 'Negative', 'Negative', 'Negative', 'Negative', 'Negative', 'Negative', 'Negative', 'Negative', 'Negative', 'Negative', 'Negative', 'Negative', 'Negative', 'Negative', 'Negative', 'Negative', 'Negative', 'Negative', 'Negative', 'Negative', 'Negative', 'Negative', 'Negative', 'Negative', 'Negative', 'Negative', 'Negative', 'Negative', 'Negative', 'Negative', 'Negative', 'Negative', 'Negative', 'Negative', 'Negative', 'Negative', 'Negative', 'Negative', 'Negative', 'Negative', 'Negative', 'Negative', 'Negative', 'Negative', 'Negative', 'Negative', 'Negative', 'Negative', 'Negative', 'Negative', 'Negative', 'Negative', 'Negative', 'Negative', 'Negative', 'Negative', 'Negative', 'Negative', 'Negative', 'Negative', 'Negative', 'Negative', 'Negative', 'Negative', 'Negative', 'Negative', 'Negative', 'Negative', 'Negative', 'Negative', 'Negative', 'Negative', 'Negative', 'Negative', 'Negative', 'Negative', 'Negative', 'Negative', 'Negative', 'Negative', 'Negative', 'Negative', 'Negative', 'Negative', 'Negative', 'Negative', 'Negative', 'Negative', 'Negative', 'Negative', 'Negative', 'Negative', 'Negative', 'Negative', 'Negative', 'Negative', 'Negative', 'Negative', 'Negative', 'Negative', 'Negative', 'Negative', 'Negative', 'Negative', 'Negative', 'Negative', 'Negative', 'Negative', 'Negative', 'Negative', 'Negative', 'Negative', 'Negative', 'Negative', 'Negative', 'Negative', 'Negative', 'Negative', 'Negative', 'Negative', 'Negative', 'Negative', 'Negative', 'Negative', 'Negative', 'Negative', 'Negative', 'Negative', 'Negative', 'Negative', 'Negative', 'Negative', 'Negative', 'Negative', 'Negative', 'Negative', 'Negative', 'Negative', 'Negative', 'Negative', 'Negative', 'Negative', 'Negative', 'Negative', 'Negative', 'Negative', 'Negative', 'Negative', 'Negative', 'Negative', 'Negative', 'Negative', 'Negative', 'Negative', 'Negative', 'Negative', 'Negative', 'Negative', 'Negative', 'Negative', 'Negative', 'Negative', 'Negative', 'Negative', 'Negative', 'Negative', 'Negative', 'Negative', 'Negative', 'Negative', 'Negative', 'Negative', 'Negative', 'Negative', 'Negative', 'Negative', 'Negative', 'Negative', 'Negative', 'Negative', 'Negative', 'Negative', 'Negative', 'Negative', 'Negative', 'Negative', 'Negative', 'Negative', 'Negative', 'Negative', 'Negative', 'Negative', 'Negative', 'Negative', 'Negative', 'Negative', 'Negative', 'Negative', 'Negative', 'Negative', 'Negative', 'Negative', 'Negative', 'Negative', 'Negative', 'Negative', 'Negative', 'Negative', 'Negative', 'Negative', 'Negative', 'Negative', 'Negative', 'Negative', 'Negative', 'Negative', 'Negative', 'Negative', 'Negative', 'Negative', 'Negative', 'Negative', 'Negative', 'Negative', 'Negative', 'Negative', 'Negative', 'Negative', 'Negative', 'Negative', 'Negative', 'Negative', 'Negative', 'Negative', 'Negative', 'Negative', 'Negative', 'Negative', 'Negative', 'Negative', 'Negative', 'Negative', 'Negative', 'Negative', 'Negative', 'Negative', 'Negative', 'Negative', 'Negative', 'Negative', 'Negative', 'Negative', 'Negative', 'Negative', 'Negative', 'Negative', 'Negative', 'Negative', 'Negative', 'Negative', 'Negative', 'Negative', 'Negative', 'Negative', 'Negative', 'Negative', 'Negative', 'Negative', 'Negative', 'Negative', 'Negative', 'Negative', 'Negative', 'Negative', 'Negative', 'Negative', 'Negative', 'Negative', 'Negative', 'Negative', 'Negative', 'Negative', 'Negative', 'Negative', 'Negative', 'Negative', 'Negative', 'Negative', 'Negative', 'Negative', 'Negative', 'Negative', 'Negative', 'Negative', 'Negative', 'Negative', 'Negative', 'Negative', 'Negative', 'Negative', 'Negative', 'Negative', 'Negative', 'Negative', 'Negative', 'Negative', 'Negative', 'Negative', 'Negative', 'Negative', 'Negative', 'Negative', 'Negative', 'Negative', 'Negative', 'Negative', 'Negative', 'Negative', 'Negative', 'Negative', 'Negative', 'Negative', 'Negative', 'Negative', 'Negative', 'Negative', 'Negative', 'Negative', 'Negative', 'Negative', 'Negative', 'Negative', 'Negative', 'Negative', 'Negative', 'Negative', 'Negative', 'Negative', 'Negative', 'Negative', 'Negative', 'Negative', 'Negative', 'Negative', 'Negative', 'Negative', 'Negative', 'Negative', 'Negative', 'Negative', 'Negative', 'Negative', 'Negative', 'Negative', 'Negative', 'Negative', 'Negative', 'Negative', 'Negative', 'Negative', 'Negative', 'Negative', 'Negative', 'Negative', 'Negative', 'Negative', 'Negative', 'Negative', 'Negative', 'Negative', 'Negative', 'Negative', 'Negative', 'Negative', 'Negative', 'Negative', 'Negative', 'Negative', 'Negative', 'Negative', 'Negative', 'Negative', 'Negative', 'Negative', 'Negative', 'Negative', 'Negative', 'Negative', 'Negative', 'Negative', 'Negative', 'Negative', 'Negative', 'Negative', 'Negative', 'Negative', 'Negative', 'Negative', 'Negative', 'Negative', 'Negative', 'Negative', 'Negative', 'Negative', 'Negative', 'Negative', 'Negative', 'Negative', 'Negative', 'Negative', 'Negative', 'Negative', 'Negative', 'Negative', 'Negative', 'Negative', 'Negative', 'Negative', 'Negative', 'Negative', 'Negative', 'Negative', 'Negative', 'Negative', 'Negative', 'Negative', 'Negative', 'Negative', 'Negative', 'Negative', 'Negative', 'Negative', 'Negative', 'Negative', 'Negative', 'Negative', 'Negative', 'Negative', 'Negative', 'Negative', 'Negative', 'Negative', 'Negative', 'Negative', 'Negative', 'Negative', 'Negative', 'Negative', 'Negative', 'Negative', 'Negative', 'Negative', 'Negative', 'Negative', 'Negative', 'Negative', 'Negative', 'Negative', 'Negative', 'Negative', 'Negative', 'Negative', 'Negative', 'Negative', 'Negative', 'Negative', 'Negative', 'Negative', 'Negative', 'Negative', 'Negative', 'Negative', 'Negative', 'Negative', 'Negative', 'Negative', 'Negative', 'Negative', 'Negative', 'Negative', 'Negative', 'Negative', 'Negative', 'Negative', 'Negative', 'Negative', 'Negative', 'Negative', 'Negative', 'Negative', 'Negative', 'Negative', 'Negative', 'Negative', 'Negative', 'Negative', 'Negative', 'Negative', 'Negative', 'Negative', 'Negative', 'Negative', 'Negative', 'Negative', 'Negative', 'Negative', 'Negative', 'Negative', 'Negative', 'Negative', 'Negative', 'Negative', 'Negative', 'Negative', 'Negative', 'Negative', 'Negative', 'Negative', 'Negative', 'Negative', 'Negative', 'Negative', 'Negative', 'Negative', 'Negative', 'Negative', 'Negative', 'Negative', 'Negative', 'Negative', 'Negative', 'Negative', 'Negative', 'Negative', 'Negative', 'Negative', 'Negative', 'Negative', 'Negative', 'Negative', 'Negative', 'Negative', 'Negative', 'Negative', 'Negative', 'Negative', 'Negative', 'Negative', 'Negative', 'Negative', 'Negative', 'Negative', 'Negative', 'Negative', 'Negative', 'Negative', 'Negative', 'Negative', 'Negative', 'Negative', 'Negative', 'Negative', 'Negative', 'Negative', 'Negative', 'Negative', 'Negative', 'Negative', 'Negative', 'Negative', 'Negative', 'Negative', 'Negative', 'Negative', 'Negative', 'Negative', 'Negative', 'Negative', 'Negative', 'Negative', 'Negative', 'Negative', 'Negative', 'Negative', 'Negative', 'Negative', 'Negative', 'Negative', 'Negative', 'Negative', 'Negative', 'Negative', 'Negative', 'Negative', 'Negative', 'Negative', 'Negative', 'Negative', 'Negative', 'Negative', 'Negative', 'Negative', 'Negative', 'Negative', 'Negative', 'Negative', 'Negative', 'Negative', 'Negative', 'Negative', 'Negative', 'Negative', 'Negative', 'Negative', 'Negative', 'Negative', 'Negative', 'Negative', 'Negative', 'Negative', 'Negative', 'Negative', 'Negative', 'Negative', 'Negative', 'Negative', 'Negative', 'Negative', 'Negative', 'Negative', 'Negative', 'Negative', 'Negative', 'Negative', 'Negative', 'Negative', 'Negative', 'Negative', 'Negative', 'Negative', 'Negative', 'Negative', 'Negative', 'Negative', 'Negative', 'Negative', 'Negative', 'Negative', 'Negative', 'Negative', 'Negative', 'Negative', 'Negative', 'Negative', 'Negative', 'Negative', 'Negative', 'Negative', 'Negative', 'Negative', 'Negative', 'Negative', 'Negative', 'Negative', 'Negative', 'Negative', 'Negative', 'Negative', 'Negative', 'Negative', 'Negative', 'Negative', 'Negative', 'Negative', 'Negative', 'Negative', 'Negative']\n"
     ]
    }
   ],
   "source": [
    "print(\"Labels Vector:\",Labels)"
   ]
  },
  {
   "cell_type": "code",
   "execution_count": null,
   "metadata": {
    "id": "G7rKo-Q6UQ6x"
   },
   "outputs": [],
   "source": [
    "le=LabelEncoder()\n",
    "Labels=le.fit_transform(Labels)"
   ]
  },
  {
   "cell_type": "code",
   "execution_count": null,
   "metadata": {
    "id": "qWom9j2IUTa9"
   },
   "outputs": [],
   "source": [
    "Images = np.array(Images)"
   ]
  },
  {
   "cell_type": "code",
   "execution_count": null,
   "metadata": {
    "colab": {
     "base_uri": "https://localhost:8080/"
    },
    "id": "XzybP-qYUXuf",
    "outputId": "3c1b17d0-f35c-4d13-d447-3b600ee6f5f4"
   },
   "outputs": [
    {
     "name": "stdout",
     "output_type": "stream",
     "text": [
      "Label Vector: [1 1 1 ... 0 0 0]\n",
      "Length of Labels Vector: 3777\n",
      "Shape of Images (3777, 200, 200, 3)\n",
      "Number of Images: (3777, 200, 200, 3)\n",
      "Size of Images: (200,200,3)\n"
     ]
    }
   ],
   "source": [
    "print(\"Label Vector:\",Labels)\n",
    "print(\"Length of Labels Vector:\",len(Labels))\n",
    "print(\"Shape of Images\",Images.shape)\n",
    "print(\"Number of Images:\",Images.shape)\n",
    "print(\"Size of Images: ({},{},{})\".format(Images.shape[1],Images.shape[2],Images.shape[3]))"
   ]
  },
  {
   "cell_type": "code",
   "execution_count": null,
   "metadata": {
    "id": "VM5lOPvdUbfU"
   },
   "outputs": [],
   "source": [
    "TrainImages , TestImages, TrainLabels, TestLabels = train_test_split(Images, Labels, test_size = 0.2, random_state = 5)\n",
    "TrainImages , ValidationImages, TrainLabels, ValidationLabels = train_test_split(TrainImages, TrainLabels, test_size = 0.25, random_state = 5)"
   ]
  },
  {
   "cell_type": "code",
   "execution_count": null,
   "metadata": {
    "colab": {
     "base_uri": "https://localhost:8080/"
    },
    "id": "cegv8ppkUd3i",
    "outputId": "524241b7-3591-4023-d740-c2944c38712a"
   },
   "outputs": [
    {
     "name": "stdout",
     "output_type": "stream",
     "text": [
      "Shape of Train Imgaes is: (2265, 200, 200, 3)\n",
      "Shape of Test Imgaes is: (756, 200, 200, 3)\n",
      "Shape of Validation Imgaes is: (756, 200, 200, 3)\n",
      "Length of Train Label Vector is: 2265\n",
      "Length of Test Label Vector is: 756\n",
      "Length of Validation Label Vector is: 756\n"
     ]
    }
   ],
   "source": [
    "print(\"Shape of Train Imgaes is:\",TrainImages.shape)\n",
    "print(\"Shape of Test Imgaes is:\",TestImages.shape)\n",
    "print(\"Shape of Validation Imgaes is:\",ValidationImages.shape)\n",
    "print(\"Length of Train Label Vector is:\",len(TrainLabels))\n",
    "print(\"Length of Test Label Vector is:\",len(TestLabels))\n",
    "print(\"Length of Validation Label Vector is:\",len(ValidationLabels))"
   ]
  },
  {
   "cell_type": "code",
   "execution_count": null,
   "metadata": {
    "id": "h5l-gEacUghm"
   },
   "outputs": [],
   "source": [
    "dataGen = ImageDataGenerator(shear_range = 0.2,\n",
    "                             zoom_range = 0.1,\n",
    "                             validation_split=0.2)\n",
    "dataGen.fit(TrainImages)"
   ]
  },
  {
   "cell_type": "code",
   "execution_count": null,
   "metadata": {
    "colab": {
     "base_uri": "https://localhost:8080/"
    },
    "id": "1gVqBkwbUi2Y",
    "outputId": "a61333e3-7e67-4ce9-8fae-b6f8ee7b0506"
   },
   "outputs": [
    {
     "name": "stdout",
     "output_type": "stream",
     "text": [
      "Epoch 1/175\n",
      "70/70 [==============================] - 61s 254ms/step - loss: 17.3739 - accuracy: 0.6138 - val_loss: 0.6833 - val_accuracy: 0.6746\n",
      "Epoch 2/175\n",
      "70/70 [==============================] - 16s 232ms/step - loss: 0.5994 - accuracy: 0.7219 - val_loss: 0.6642 - val_accuracy: 0.6733\n",
      "Epoch 3/175\n",
      "70/70 [==============================] - 16s 230ms/step - loss: 0.5849 - accuracy: 0.7246 - val_loss: 0.5940 - val_accuracy: 0.6905\n",
      "Epoch 4/175\n",
      "70/70 [==============================] - 16s 230ms/step - loss: 0.5318 - accuracy: 0.7694 - val_loss: 0.5740 - val_accuracy: 0.7275\n",
      "Epoch 5/175\n",
      "70/70 [==============================] - 16s 234ms/step - loss: 0.5198 - accuracy: 0.7749 - val_loss: 0.5699 - val_accuracy: 0.7302\n",
      "Epoch 6/175\n",
      "70/70 [==============================] - 16s 235ms/step - loss: 0.5012 - accuracy: 0.8035 - val_loss: 0.5402 - val_accuracy: 0.7606\n",
      "Epoch 7/175\n",
      "70/70 [==============================] - 17s 240ms/step - loss: 0.4690 - accuracy: 0.8156 - val_loss: 0.5716 - val_accuracy: 0.7474\n",
      "Epoch 8/175\n",
      "70/70 [==============================] - 16s 235ms/step - loss: 0.4854 - accuracy: 0.8000 - val_loss: 0.5843 - val_accuracy: 0.7526\n",
      "Epoch 9/175\n",
      "70/70 [==============================] - 16s 235ms/step - loss: 0.4587 - accuracy: 0.8143 - val_loss: 0.5172 - val_accuracy: 0.7579\n",
      "Epoch 10/175\n",
      "70/70 [==============================] - 16s 233ms/step - loss: 0.4355 - accuracy: 0.8356 - val_loss: 0.5309 - val_accuracy: 0.7487\n",
      "Epoch 11/175\n",
      "70/70 [==============================] - 16s 233ms/step - loss: 0.4265 - accuracy: 0.8324 - val_loss: 0.4950 - val_accuracy: 0.7672\n",
      "Epoch 12/175\n",
      "70/70 [==============================] - 16s 232ms/step - loss: 0.3925 - accuracy: 0.8585 - val_loss: 0.4712 - val_accuracy: 0.7923\n",
      "Epoch 13/175\n",
      "70/70 [==============================] - 16s 230ms/step - loss: 0.4016 - accuracy: 0.8531 - val_loss: 0.4998 - val_accuracy: 0.7606\n",
      "Epoch 14/175\n",
      "70/70 [==============================] - 16s 232ms/step - loss: 0.3877 - accuracy: 0.8521 - val_loss: 0.4822 - val_accuracy: 0.7804\n",
      "Epoch 15/175\n",
      "70/70 [==============================] - 16s 228ms/step - loss: 0.3901 - accuracy: 0.8397 - val_loss: 0.4803 - val_accuracy: 0.8003\n",
      "Epoch 16/175\n",
      "70/70 [==============================] - 16s 233ms/step - loss: 0.3597 - accuracy: 0.8605 - val_loss: 0.4646 - val_accuracy: 0.7751\n",
      "Epoch 17/175\n",
      "70/70 [==============================] - 16s 230ms/step - loss: 0.3588 - accuracy: 0.8585 - val_loss: 0.4288 - val_accuracy: 0.8082\n",
      "Epoch 18/175\n",
      "70/70 [==============================] - 16s 232ms/step - loss: 0.4130 - accuracy: 0.8416 - val_loss: 0.4676 - val_accuracy: 0.7897\n",
      "Epoch 19/175\n",
      "70/70 [==============================] - 16s 232ms/step - loss: 0.3273 - accuracy: 0.8757 - val_loss: 0.4596 - val_accuracy: 0.7989\n",
      "Epoch 20/175\n",
      "70/70 [==============================] - 16s 231ms/step - loss: 0.3509 - accuracy: 0.8660 - val_loss: 0.4175 - val_accuracy: 0.8056\n",
      "Epoch 21/175\n",
      "70/70 [==============================] - 16s 229ms/step - loss: 0.3321 - accuracy: 0.8736 - val_loss: 0.4365 - val_accuracy: 0.7976\n",
      "Epoch 22/175\n",
      "70/70 [==============================] - 16s 231ms/step - loss: 0.3450 - accuracy: 0.8566 - val_loss: 0.4352 - val_accuracy: 0.8122\n",
      "Epoch 23/175\n",
      "70/70 [==============================] - 16s 228ms/step - loss: 0.3429 - accuracy: 0.8569 - val_loss: 0.4249 - val_accuracy: 0.8095\n",
      "Epoch 24/175\n",
      "70/70 [==============================] - 16s 231ms/step - loss: 0.3203 - accuracy: 0.8696 - val_loss: 0.4402 - val_accuracy: 0.8122\n",
      "Epoch 25/175\n",
      "70/70 [==============================] - 16s 231ms/step - loss: 0.3448 - accuracy: 0.8624 - val_loss: 0.4290 - val_accuracy: 0.8122\n",
      "Epoch 26/175\n",
      "70/70 [==============================] - 16s 228ms/step - loss: 0.3401 - accuracy: 0.8663 - val_loss: 0.4066 - val_accuracy: 0.8161\n",
      "Epoch 27/175\n",
      "70/70 [==============================] - 16s 229ms/step - loss: 0.3388 - accuracy: 0.8582 - val_loss: 0.5064 - val_accuracy: 0.7579\n",
      "Epoch 28/175\n",
      "70/70 [==============================] - 16s 228ms/step - loss: 0.3437 - accuracy: 0.8600 - val_loss: 0.4332 - val_accuracy: 0.8108\n",
      "Epoch 29/175\n",
      "70/70 [==============================] - 16s 229ms/step - loss: 0.3274 - accuracy: 0.8685 - val_loss: 0.4184 - val_accuracy: 0.8175\n",
      "Epoch 30/175\n",
      "70/70 [==============================] - 16s 228ms/step - loss: 0.3111 - accuracy: 0.8664 - val_loss: 0.4644 - val_accuracy: 0.8148\n",
      "Epoch 31/175\n",
      "70/70 [==============================] - 16s 229ms/step - loss: 0.3010 - accuracy: 0.8783 - val_loss: 0.4370 - val_accuracy: 0.8029\n",
      "Epoch 32/175\n",
      "70/70 [==============================] - 16s 231ms/step - loss: 0.3022 - accuracy: 0.8710 - val_loss: 0.4101 - val_accuracy: 0.8201\n",
      "Epoch 33/175\n",
      "70/70 [==============================] - 16s 230ms/step - loss: 0.3234 - accuracy: 0.8651 - val_loss: 0.4056 - val_accuracy: 0.8214\n",
      "Epoch 34/175\n",
      "70/70 [==============================] - 16s 229ms/step - loss: 0.2891 - accuracy: 0.8896 - val_loss: 0.4095 - val_accuracy: 0.8148\n",
      "Epoch 35/175\n",
      "70/70 [==============================] - 16s 228ms/step - loss: 0.3114 - accuracy: 0.8650 - val_loss: 0.3919 - val_accuracy: 0.8161\n",
      "Epoch 36/175\n",
      "70/70 [==============================] - 16s 230ms/step - loss: 0.3135 - accuracy: 0.8771 - val_loss: 0.3817 - val_accuracy: 0.8307\n",
      "Epoch 37/175\n",
      "70/70 [==============================] - 16s 229ms/step - loss: 0.2810 - accuracy: 0.8865 - val_loss: 0.3542 - val_accuracy: 0.8333\n",
      "Epoch 38/175\n",
      "70/70 [==============================] - 16s 230ms/step - loss: 0.2710 - accuracy: 0.8867 - val_loss: 0.3745 - val_accuracy: 0.8254\n",
      "Epoch 39/175\n",
      "70/70 [==============================] - 16s 230ms/step - loss: 0.2631 - accuracy: 0.8895 - val_loss: 0.3542 - val_accuracy: 0.8399\n",
      "Epoch 40/175\n",
      "70/70 [==============================] - 16s 228ms/step - loss: 0.2797 - accuracy: 0.8872 - val_loss: 0.5125 - val_accuracy: 0.7751\n",
      "Epoch 41/175\n",
      "70/70 [==============================] - 16s 228ms/step - loss: 0.2755 - accuracy: 0.8858 - val_loss: 0.3711 - val_accuracy: 0.8267\n",
      "Epoch 42/175\n",
      "70/70 [==============================] - 16s 235ms/step - loss: 0.2828 - accuracy: 0.8902 - val_loss: 0.4624 - val_accuracy: 0.8056\n",
      "Epoch 43/175\n",
      "70/70 [==============================] - 16s 229ms/step - loss: 0.2789 - accuracy: 0.8907 - val_loss: 0.3086 - val_accuracy: 0.8664\n",
      "Epoch 44/175\n",
      "70/70 [==============================] - 16s 229ms/step - loss: 0.2760 - accuracy: 0.8943 - val_loss: 0.4819 - val_accuracy: 0.8122\n",
      "Epoch 45/175\n",
      "70/70 [==============================] - 16s 230ms/step - loss: 0.2562 - accuracy: 0.8910 - val_loss: 0.3006 - val_accuracy: 0.8690\n",
      "Epoch 46/175\n",
      "70/70 [==============================] - 16s 232ms/step - loss: 0.2559 - accuracy: 0.9020 - val_loss: 0.3594 - val_accuracy: 0.8399\n",
      "Epoch 47/175\n",
      "70/70 [==============================] - 16s 231ms/step - loss: 0.2946 - accuracy: 0.8763 - val_loss: 0.3285 - val_accuracy: 0.8532\n",
      "Epoch 48/175\n",
      "70/70 [==============================] - 16s 228ms/step - loss: 0.2727 - accuracy: 0.8944 - val_loss: 0.3249 - val_accuracy: 0.8598\n",
      "Epoch 49/175\n",
      "70/70 [==============================] - 16s 232ms/step - loss: 0.2676 - accuracy: 0.8900 - val_loss: 0.3069 - val_accuracy: 0.8690\n",
      "Epoch 50/175\n",
      "70/70 [==============================] - 16s 231ms/step - loss: 0.2530 - accuracy: 0.8965 - val_loss: 0.3327 - val_accuracy: 0.8638\n",
      "Epoch 51/175\n",
      "70/70 [==============================] - 16s 231ms/step - loss: 0.2365 - accuracy: 0.9027 - val_loss: 0.3437 - val_accuracy: 0.8545\n",
      "Epoch 52/175\n",
      "70/70 [==============================] - 16s 230ms/step - loss: 0.2543 - accuracy: 0.8880 - val_loss: 0.3067 - val_accuracy: 0.8757\n",
      "Epoch 53/175\n",
      "70/70 [==============================] - 16s 230ms/step - loss: 0.2350 - accuracy: 0.9040 - val_loss: 0.3078 - val_accuracy: 0.8651\n",
      "Epoch 54/175\n",
      "70/70 [==============================] - 16s 230ms/step - loss: 0.2261 - accuracy: 0.9070 - val_loss: 0.3357 - val_accuracy: 0.8532\n",
      "Epoch 55/175\n",
      "70/70 [==============================] - 16s 230ms/step - loss: 0.2123 - accuracy: 0.9144 - val_loss: 0.2621 - val_accuracy: 0.8942\n",
      "Epoch 56/175\n",
      "70/70 [==============================] - 16s 234ms/step - loss: 0.2470 - accuracy: 0.9033 - val_loss: 0.4050 - val_accuracy: 0.8347\n",
      "Epoch 57/175\n",
      "70/70 [==============================] - 16s 228ms/step - loss: 0.2368 - accuracy: 0.9035 - val_loss: 0.3039 - val_accuracy: 0.8836\n",
      "Epoch 58/175\n",
      "70/70 [==============================] - 16s 230ms/step - loss: 0.2062 - accuracy: 0.9236 - val_loss: 0.2703 - val_accuracy: 0.8849\n",
      "Epoch 59/175\n",
      "70/70 [==============================] - 16s 229ms/step - loss: 0.2523 - accuracy: 0.9028 - val_loss: 0.3639 - val_accuracy: 0.8545\n",
      "Epoch 60/175\n",
      "70/70 [==============================] - 16s 230ms/step - loss: 0.2281 - accuracy: 0.9111 - val_loss: 0.3230 - val_accuracy: 0.8585\n",
      "Epoch 61/175\n",
      "70/70 [==============================] - 16s 228ms/step - loss: 0.2071 - accuracy: 0.9143 - val_loss: 0.3035 - val_accuracy: 0.8677\n",
      "Epoch 62/175\n",
      "70/70 [==============================] - 16s 230ms/step - loss: 0.2579 - accuracy: 0.9010 - val_loss: 0.4236 - val_accuracy: 0.8386\n",
      "Epoch 63/175\n",
      "70/70 [==============================] - 16s 229ms/step - loss: 0.2305 - accuracy: 0.8961 - val_loss: 0.3274 - val_accuracy: 0.8585\n",
      "Epoch 64/175\n",
      "70/70 [==============================] - 16s 228ms/step - loss: 0.1848 - accuracy: 0.9279 - val_loss: 0.2762 - val_accuracy: 0.8849\n",
      "Epoch 65/175\n",
      "70/70 [==============================] - 16s 229ms/step - loss: 0.1858 - accuracy: 0.9323 - val_loss: 0.3074 - val_accuracy: 0.8810\n",
      "Epoch 66/175\n",
      "70/70 [==============================] - 16s 228ms/step - loss: 0.1682 - accuracy: 0.9308 - val_loss: 0.2689 - val_accuracy: 0.9034\n",
      "Epoch 67/175\n",
      "70/70 [==============================] - 16s 230ms/step - loss: 0.1796 - accuracy: 0.9265 - val_loss: 0.2756 - val_accuracy: 0.8876\n",
      "Epoch 68/175\n",
      "70/70 [==============================] - 16s 228ms/step - loss: 0.2051 - accuracy: 0.9185 - val_loss: 0.2589 - val_accuracy: 0.8942\n",
      "Epoch 69/175\n",
      "70/70 [==============================] - 16s 230ms/step - loss: 0.1864 - accuracy: 0.9343 - val_loss: 0.2753 - val_accuracy: 0.8862\n",
      "Epoch 70/175\n",
      "70/70 [==============================] - 16s 228ms/step - loss: 0.1965 - accuracy: 0.9164 - val_loss: 0.3604 - val_accuracy: 0.8558\n",
      "Epoch 71/175\n",
      "70/70 [==============================] - 16s 230ms/step - loss: 0.1792 - accuracy: 0.9267 - val_loss: 0.4309 - val_accuracy: 0.8452\n",
      "Epoch 72/175\n",
      "70/70 [==============================] - 16s 230ms/step - loss: 0.1918 - accuracy: 0.9262 - val_loss: 0.2720 - val_accuracy: 0.8915\n",
      "Epoch 73/175\n",
      "70/70 [==============================] - 16s 231ms/step - loss: 0.2107 - accuracy: 0.9137 - val_loss: 0.2945 - val_accuracy: 0.8770\n",
      "Epoch 74/175\n",
      "70/70 [==============================] - 16s 230ms/step - loss: 0.2115 - accuracy: 0.9173 - val_loss: 0.4126 - val_accuracy: 0.8519\n",
      "Epoch 75/175\n",
      "70/70 [==============================] - 16s 230ms/step - loss: 0.2068 - accuracy: 0.9177 - val_loss: 0.2326 - val_accuracy: 0.9087\n",
      "Epoch 76/175\n",
      "70/70 [==============================] - 16s 231ms/step - loss: 0.1635 - accuracy: 0.9407 - val_loss: 0.2366 - val_accuracy: 0.9114\n",
      "Epoch 77/175\n",
      "70/70 [==============================] - 16s 233ms/step - loss: 0.1728 - accuracy: 0.9382 - val_loss: 0.2732 - val_accuracy: 0.8849\n",
      "Epoch 78/175\n",
      "70/70 [==============================] - 16s 230ms/step - loss: 0.1933 - accuracy: 0.9265 - val_loss: 0.2713 - val_accuracy: 0.8889\n",
      "Epoch 79/175\n",
      "70/70 [==============================] - 16s 232ms/step - loss: 0.1924 - accuracy: 0.9203 - val_loss: 0.3140 - val_accuracy: 0.8942\n",
      "Epoch 80/175\n",
      "70/70 [==============================] - 16s 231ms/step - loss: 0.1603 - accuracy: 0.9404 - val_loss: 0.4079 - val_accuracy: 0.8717\n",
      "Epoch 81/175\n",
      "70/70 [==============================] - 16s 232ms/step - loss: 0.1846 - accuracy: 0.9305 - val_loss: 0.3011 - val_accuracy: 0.8862\n",
      "Epoch 82/175\n",
      "70/70 [==============================] - 16s 232ms/step - loss: 0.1469 - accuracy: 0.9353 - val_loss: 0.2785 - val_accuracy: 0.8836\n",
      "Epoch 83/175\n",
      "70/70 [==============================] - 16s 232ms/step - loss: 0.1549 - accuracy: 0.9418 - val_loss: 0.3570 - val_accuracy: 0.8757\n",
      "Epoch 84/175\n",
      "70/70 [==============================] - 16s 231ms/step - loss: 0.1700 - accuracy: 0.9353 - val_loss: 0.3397 - val_accuracy: 0.8730\n",
      "Epoch 85/175\n",
      "70/70 [==============================] - 16s 231ms/step - loss: 0.1568 - accuracy: 0.9420 - val_loss: 0.2865 - val_accuracy: 0.8902\n",
      "Epoch 86/175\n",
      "70/70 [==============================] - 16s 233ms/step - loss: 0.1352 - accuracy: 0.9482 - val_loss: 0.3350 - val_accuracy: 0.8889\n",
      "Epoch 87/175\n",
      "70/70 [==============================] - 16s 230ms/step - loss: 0.1489 - accuracy: 0.9359 - val_loss: 0.2756 - val_accuracy: 0.8915\n",
      "Epoch 88/175\n",
      "70/70 [==============================] - 16s 231ms/step - loss: 0.1596 - accuracy: 0.9373 - val_loss: 0.2272 - val_accuracy: 0.9167\n",
      "Epoch 89/175\n",
      "70/70 [==============================] - 16s 233ms/step - loss: 0.1244 - accuracy: 0.9528 - val_loss: 0.3219 - val_accuracy: 0.8836\n",
      "Epoch 90/175\n",
      "70/70 [==============================] - 16s 234ms/step - loss: 0.1379 - accuracy: 0.9472 - val_loss: 0.2759 - val_accuracy: 0.8981\n",
      "Epoch 91/175\n",
      "70/70 [==============================] - 16s 231ms/step - loss: 0.1524 - accuracy: 0.9385 - val_loss: 0.2645 - val_accuracy: 0.9074\n",
      "Epoch 92/175\n",
      "70/70 [==============================] - 16s 231ms/step - loss: 0.1561 - accuracy: 0.9387 - val_loss: 0.3218 - val_accuracy: 0.8862\n",
      "Epoch 93/175\n",
      "70/70 [==============================] - 16s 231ms/step - loss: 0.1809 - accuracy: 0.9260 - val_loss: 0.2871 - val_accuracy: 0.8849\n",
      "Epoch 94/175\n",
      "70/70 [==============================] - 16s 233ms/step - loss: 0.1758 - accuracy: 0.9327 - val_loss: 0.3092 - val_accuracy: 0.8876\n",
      "Epoch 95/175\n",
      "70/70 [==============================] - 16s 232ms/step - loss: 0.1329 - accuracy: 0.9454 - val_loss: 0.2662 - val_accuracy: 0.9048\n",
      "Epoch 96/175\n",
      "70/70 [==============================] - 16s 229ms/step - loss: 0.1673 - accuracy: 0.9304 - val_loss: 0.2861 - val_accuracy: 0.8929\n",
      "Epoch 97/175\n",
      "70/70 [==============================] - 16s 231ms/step - loss: 0.1179 - accuracy: 0.9502 - val_loss: 0.2931 - val_accuracy: 0.8929\n",
      "Epoch 98/175\n",
      "70/70 [==============================] - 16s 232ms/step - loss: 0.1511 - accuracy: 0.9365 - val_loss: 0.3083 - val_accuracy: 0.8929\n",
      "Epoch 99/175\n",
      "70/70 [==============================] - 16s 232ms/step - loss: 0.1587 - accuracy: 0.9407 - val_loss: 0.2709 - val_accuracy: 0.8902\n",
      "Epoch 100/175\n",
      "70/70 [==============================] - 16s 231ms/step - loss: 0.1247 - accuracy: 0.9566 - val_loss: 0.3155 - val_accuracy: 0.9061\n",
      "Epoch 101/175\n",
      "70/70 [==============================] - 16s 232ms/step - loss: 0.1104 - accuracy: 0.9553 - val_loss: 0.3234 - val_accuracy: 0.8915\n",
      "Epoch 102/175\n",
      "70/70 [==============================] - 16s 230ms/step - loss: 0.1484 - accuracy: 0.9358 - val_loss: 0.3130 - val_accuracy: 0.8929\n",
      "Epoch 103/175\n",
      "70/70 [==============================] - 16s 233ms/step - loss: 0.1074 - accuracy: 0.9594 - val_loss: 0.3885 - val_accuracy: 0.8743\n",
      "Epoch 104/175\n",
      "70/70 [==============================] - 16s 233ms/step - loss: 0.1229 - accuracy: 0.9531 - val_loss: 0.2539 - val_accuracy: 0.9167\n",
      "Epoch 105/175\n",
      "70/70 [==============================] - 16s 231ms/step - loss: 0.1324 - accuracy: 0.9501 - val_loss: 0.3730 - val_accuracy: 0.8929\n",
      "Epoch 106/175\n",
      "70/70 [==============================] - 16s 229ms/step - loss: 0.1155 - accuracy: 0.9548 - val_loss: 0.3263 - val_accuracy: 0.8929\n",
      "Epoch 107/175\n",
      "70/70 [==============================] - 16s 232ms/step - loss: 0.1152 - accuracy: 0.9533 - val_loss: 0.2920 - val_accuracy: 0.9114\n",
      "Epoch 108/175\n",
      "70/70 [==============================] - 16s 231ms/step - loss: 0.1212 - accuracy: 0.9516 - val_loss: 0.3018 - val_accuracy: 0.9101\n",
      "Epoch 109/175\n",
      "70/70 [==============================] - 16s 232ms/step - loss: 0.0982 - accuracy: 0.9589 - val_loss: 0.2696 - val_accuracy: 0.9074\n",
      "Epoch 110/175\n",
      "70/70 [==============================] - 16s 231ms/step - loss: 0.1485 - accuracy: 0.9382 - val_loss: 0.3414 - val_accuracy: 0.8876\n",
      "Epoch 111/175\n",
      "70/70 [==============================] - 16s 230ms/step - loss: 0.0957 - accuracy: 0.9589 - val_loss: 0.2685 - val_accuracy: 0.9127\n",
      "Epoch 112/175\n",
      "70/70 [==============================] - 16s 232ms/step - loss: 0.1087 - accuracy: 0.9642 - val_loss: 0.3282 - val_accuracy: 0.8810\n",
      "Epoch 113/175\n",
      "70/70 [==============================] - 16s 232ms/step - loss: 0.1363 - accuracy: 0.9506 - val_loss: 0.3288 - val_accuracy: 0.8955\n",
      "Epoch 114/175\n",
      "70/70 [==============================] - 16s 232ms/step - loss: 0.1859 - accuracy: 0.9260 - val_loss: 0.2589 - val_accuracy: 0.9233\n",
      "Epoch 115/175\n",
      "70/70 [==============================] - 16s 230ms/step - loss: 0.1069 - accuracy: 0.9624 - val_loss: 0.2824 - val_accuracy: 0.8968\n",
      "Epoch 116/175\n",
      "70/70 [==============================] - 16s 232ms/step - loss: 0.1104 - accuracy: 0.9506 - val_loss: 0.2917 - val_accuracy: 0.9087\n",
      "Epoch 117/175\n",
      "70/70 [==============================] - 16s 231ms/step - loss: 0.1116 - accuracy: 0.9548 - val_loss: 0.3920 - val_accuracy: 0.8810\n",
      "Epoch 118/175\n",
      "70/70 [==============================] - 16s 232ms/step - loss: 0.1346 - accuracy: 0.9512 - val_loss: 0.2803 - val_accuracy: 0.9127\n",
      "Epoch 119/175\n",
      "70/70 [==============================] - 16s 232ms/step - loss: 0.0853 - accuracy: 0.9655 - val_loss: 0.3895 - val_accuracy: 0.8955\n",
      "Epoch 120/175\n",
      "70/70 [==============================] - 16s 229ms/step - loss: 0.1250 - accuracy: 0.9490 - val_loss: 0.2379 - val_accuracy: 0.9114\n",
      "Epoch 121/175\n",
      "70/70 [==============================] - 16s 232ms/step - loss: 0.1119 - accuracy: 0.9620 - val_loss: 0.3524 - val_accuracy: 0.8955\n",
      "Epoch 122/175\n",
      "70/70 [==============================] - 16s 230ms/step - loss: 0.1030 - accuracy: 0.9572 - val_loss: 0.3917 - val_accuracy: 0.9048\n",
      "Epoch 123/175\n",
      "70/70 [==============================] - 16s 231ms/step - loss: 0.1053 - accuracy: 0.9600 - val_loss: 0.3867 - val_accuracy: 0.9034\n",
      "Epoch 124/175\n",
      "70/70 [==============================] - 16s 234ms/step - loss: 0.1249 - accuracy: 0.9485 - val_loss: 0.3649 - val_accuracy: 0.9021\n",
      "Epoch 125/175\n",
      "70/70 [==============================] - 16s 230ms/step - loss: 0.0949 - accuracy: 0.9625 - val_loss: 0.3046 - val_accuracy: 0.9087\n",
      "Epoch 126/175\n",
      "70/70 [==============================] - 16s 231ms/step - loss: 0.1001 - accuracy: 0.9587 - val_loss: 0.3580 - val_accuracy: 0.9061\n",
      "Epoch 127/175\n",
      "70/70 [==============================] - 16s 228ms/step - loss: 0.0998 - accuracy: 0.9581 - val_loss: 0.3034 - val_accuracy: 0.9101\n",
      "Epoch 128/175\n",
      "70/70 [==============================] - 16s 230ms/step - loss: 0.0691 - accuracy: 0.9727 - val_loss: 0.3082 - val_accuracy: 0.9167\n",
      "Epoch 129/175\n",
      "70/70 [==============================] - 16s 231ms/step - loss: 0.1056 - accuracy: 0.9623 - val_loss: 0.3123 - val_accuracy: 0.9220\n",
      "Epoch 130/175\n",
      "70/70 [==============================] - 16s 232ms/step - loss: 0.0737 - accuracy: 0.9651 - val_loss: 0.2741 - val_accuracy: 0.9180\n",
      "Epoch 131/175\n",
      "70/70 [==============================] - 16s 232ms/step - loss: 0.1410 - accuracy: 0.9422 - val_loss: 0.2498 - val_accuracy: 0.9153\n",
      "Epoch 132/175\n",
      "70/70 [==============================] - 16s 230ms/step - loss: 0.1006 - accuracy: 0.9527 - val_loss: 0.2780 - val_accuracy: 0.9127\n",
      "Epoch 133/175\n",
      "70/70 [==============================] - 16s 231ms/step - loss: 0.1293 - accuracy: 0.9573 - val_loss: 0.2989 - val_accuracy: 0.9193\n",
      "Epoch 134/175\n",
      "70/70 [==============================] - 16s 232ms/step - loss: 0.1010 - accuracy: 0.9603 - val_loss: 0.3916 - val_accuracy: 0.8730\n",
      "Epoch 135/175\n",
      "70/70 [==============================] - 16s 233ms/step - loss: 0.0955 - accuracy: 0.9627 - val_loss: 0.3168 - val_accuracy: 0.9074\n",
      "Epoch 136/175\n",
      "70/70 [==============================] - 16s 231ms/step - loss: 0.0820 - accuracy: 0.9677 - val_loss: 0.4055 - val_accuracy: 0.8955\n",
      "Epoch 137/175\n",
      "70/70 [==============================] - 16s 231ms/step - loss: 0.0761 - accuracy: 0.9699 - val_loss: 0.2363 - val_accuracy: 0.9101\n",
      "Epoch 138/175\n",
      "70/70 [==============================] - 16s 230ms/step - loss: 0.1098 - accuracy: 0.9591 - val_loss: 0.3552 - val_accuracy: 0.9074\n",
      "Epoch 139/175\n",
      "70/70 [==============================] - 16s 231ms/step - loss: 0.0973 - accuracy: 0.9610 - val_loss: 0.3563 - val_accuracy: 0.9140\n",
      "Epoch 140/175\n",
      "70/70 [==============================] - 16s 230ms/step - loss: 0.0946 - accuracy: 0.9632 - val_loss: 0.3925 - val_accuracy: 0.9114\n",
      "Epoch 141/175\n",
      "70/70 [==============================] - 16s 231ms/step - loss: 0.0754 - accuracy: 0.9685 - val_loss: 0.4256 - val_accuracy: 0.9074\n",
      "Epoch 142/175\n",
      "70/70 [==============================] - 16s 231ms/step - loss: 0.1288 - accuracy: 0.9614 - val_loss: 0.2984 - val_accuracy: 0.9220\n",
      "Epoch 143/175\n",
      "70/70 [==============================] - 16s 229ms/step - loss: 0.0993 - accuracy: 0.9557 - val_loss: 0.2954 - val_accuracy: 0.9061\n",
      "Epoch 144/175\n",
      "70/70 [==============================] - 16s 230ms/step - loss: 0.1429 - accuracy: 0.9563 - val_loss: 0.3060 - val_accuracy: 0.9153\n",
      "Epoch 145/175\n",
      "70/70 [==============================] - 16s 229ms/step - loss: 0.0752 - accuracy: 0.9753 - val_loss: 0.2915 - val_accuracy: 0.9114\n",
      "Epoch 146/175\n",
      "70/70 [==============================] - 16s 229ms/step - loss: 0.0987 - accuracy: 0.9701 - val_loss: 0.3780 - val_accuracy: 0.9127\n",
      "Epoch 147/175\n",
      "70/70 [==============================] - 16s 228ms/step - loss: 0.0659 - accuracy: 0.9743 - val_loss: 0.3050 - val_accuracy: 0.9206\n",
      "Epoch 148/175\n",
      "70/70 [==============================] - 16s 229ms/step - loss: 0.0995 - accuracy: 0.9604 - val_loss: 0.2986 - val_accuracy: 0.9101\n",
      "Epoch 149/175\n",
      "70/70 [==============================] - 16s 231ms/step - loss: 0.0701 - accuracy: 0.9722 - val_loss: 0.4269 - val_accuracy: 0.9180\n",
      "Epoch 150/175\n",
      "70/70 [==============================] - 16s 229ms/step - loss: 0.0637 - accuracy: 0.9774 - val_loss: 0.3837 - val_accuracy: 0.9180\n",
      "Epoch 151/175\n",
      "70/70 [==============================] - 16s 229ms/step - loss: 0.0637 - accuracy: 0.9753 - val_loss: 0.2722 - val_accuracy: 0.9392\n",
      "Epoch 152/175\n",
      "70/70 [==============================] - 16s 231ms/step - loss: 0.1146 - accuracy: 0.9579 - val_loss: 0.3725 - val_accuracy: 0.9167\n",
      "Epoch 153/175\n",
      "70/70 [==============================] - 16s 232ms/step - loss: 0.0868 - accuracy: 0.9655 - val_loss: 0.2684 - val_accuracy: 0.9325\n",
      "Epoch 154/175\n",
      "70/70 [==============================] - 16s 232ms/step - loss: 0.0888 - accuracy: 0.9692 - val_loss: 0.3195 - val_accuracy: 0.9153\n",
      "Epoch 155/175\n",
      "70/70 [==============================] - 16s 229ms/step - loss: 0.0757 - accuracy: 0.9645 - val_loss: 0.2874 - val_accuracy: 0.9246\n",
      "Epoch 156/175\n",
      "70/70 [==============================] - 16s 230ms/step - loss: 0.0524 - accuracy: 0.9834 - val_loss: 0.2982 - val_accuracy: 0.9286\n",
      "Epoch 157/175\n",
      "70/70 [==============================] - 16s 230ms/step - loss: 0.0823 - accuracy: 0.9684 - val_loss: 0.3208 - val_accuracy: 0.9180\n",
      "Epoch 158/175\n",
      "70/70 [==============================] - 16s 231ms/step - loss: 0.0700 - accuracy: 0.9716 - val_loss: 0.4064 - val_accuracy: 0.8889\n",
      "Epoch 159/175\n",
      "70/70 [==============================] - 16s 230ms/step - loss: 0.1378 - accuracy: 0.9479 - val_loss: 0.3403 - val_accuracy: 0.8968\n",
      "Epoch 160/175\n",
      "70/70 [==============================] - 16s 229ms/step - loss: 0.0876 - accuracy: 0.9624 - val_loss: 0.3620 - val_accuracy: 0.8730\n",
      "Epoch 161/175\n",
      "70/70 [==============================] - 16s 230ms/step - loss: 0.1375 - accuracy: 0.9502 - val_loss: 0.3195 - val_accuracy: 0.9074\n",
      "Epoch 162/175\n",
      "70/70 [==============================] - 16s 231ms/step - loss: 0.1051 - accuracy: 0.9625 - val_loss: 0.3346 - val_accuracy: 0.9048\n",
      "Epoch 163/175\n",
      "70/70 [==============================] - 16s 230ms/step - loss: 0.0709 - accuracy: 0.9739 - val_loss: 0.3922 - val_accuracy: 0.9034\n",
      "Epoch 164/175\n",
      "70/70 [==============================] - 16s 230ms/step - loss: 0.0620 - accuracy: 0.9778 - val_loss: 0.3508 - val_accuracy: 0.9167\n",
      "Epoch 165/175\n",
      "70/70 [==============================] - 16s 228ms/step - loss: 0.0717 - accuracy: 0.9666 - val_loss: 0.4023 - val_accuracy: 0.9127\n",
      "Epoch 166/175\n",
      "70/70 [==============================] - 16s 232ms/step - loss: 0.1141 - accuracy: 0.9565 - val_loss: 0.3140 - val_accuracy: 0.9087\n",
      "Epoch 167/175\n",
      "70/70 [==============================] - 16s 230ms/step - loss: 0.0962 - accuracy: 0.9676 - val_loss: 0.3026 - val_accuracy: 0.9140\n",
      "Epoch 168/175\n",
      "70/70 [==============================] - 16s 229ms/step - loss: 0.0952 - accuracy: 0.9638 - val_loss: 0.2402 - val_accuracy: 0.9140\n",
      "Epoch 169/175\n",
      "70/70 [==============================] - 16s 230ms/step - loss: 0.0924 - accuracy: 0.9627 - val_loss: 0.3034 - val_accuracy: 0.9114\n",
      "Epoch 170/175\n",
      "70/70 [==============================] - 16s 232ms/step - loss: 0.0856 - accuracy: 0.9667 - val_loss: 0.2649 - val_accuracy: 0.9286\n",
      "Epoch 171/175\n",
      "70/70 [==============================] - 16s 229ms/step - loss: 0.0555 - accuracy: 0.9833 - val_loss: 0.3226 - val_accuracy: 0.9325\n",
      "Epoch 172/175\n",
      "70/70 [==============================] - 16s 227ms/step - loss: 0.0416 - accuracy: 0.9831 - val_loss: 0.3946 - val_accuracy: 0.9272\n",
      "Epoch 173/175\n",
      "70/70 [==============================] - 16s 230ms/step - loss: 0.0625 - accuracy: 0.9793 - val_loss: 0.4437 - val_accuracy: 0.9021\n",
      "Epoch 174/175\n",
      "70/70 [==============================] - 16s 230ms/step - loss: 0.0543 - accuracy: 0.9732 - val_loss: 0.2660 - val_accuracy: 0.9272\n",
      "Epoch 175/175\n",
      "70/70 [==============================] - 16s 234ms/step - loss: 0.0666 - accuracy: 0.9741 - val_loss: 0.2962 - val_accuracy: 0.9272\n"
     ]
    }
   ],
   "source": [
    "BatchSize = 32\n",
    "model = Sequential()\n",
    "\n",
    "model.add(Conv2D(32, (3,3), activation = 'relu', input_shape=(200,200,3)))\n",
    "model.add(MaxPool2D((2,2)))\n",
    "\n",
    "model.add(Dropout(0.2))\n",
    "\n",
    "model.add(Conv2D(64, (3, 3), activation='relu')) \n",
    "model.add(MaxPool2D((2, 2)))\n",
    "\n",
    "model.add(Dropout(0.2))\n",
    "\n",
    "model.add(Conv2D(128, (3, 3), activation='relu')) \n",
    "model.add(MaxPool2D((2, 2)))\n",
    "\n",
    "model.add(Dropout(0.2))\n",
    "\n",
    "model.add(Conv2D(128, (3, 3), activation='relu')) \n",
    "model.add(MaxPool2D((2, 2)))\n",
    "\n",
    "model.add(Dropout(0.2))\n",
    "\n",
    "model.add(Conv2D(128, (3, 3), activation='relu')) \n",
    "model.add(MaxPool2D((2, 2)))\n",
    "\n",
    "model.add(Dropout(0.2))\n",
    "\n",
    "model.add(Flatten())\n",
    "\n",
    "model.add(Dropout(0.2))\n",
    "\n",
    "model.add(Dense(128, activation='relu'))\n",
    "\n",
    "model.add(Dense(1, activation='sigmoid')) #softmax\n",
    "\n",
    "model.compile(loss = \"binary_crossentropy\", optimizer = \"Adam\", metrics = [\"accuracy\"])\n",
    "\n",
    "history = model.fit(dataGen.flow(TrainImages, TrainLabels, batch_size = BatchSize), \n",
    "                                           validation_data = (ValidationImages, ValidationLabels), epochs = 175,\n",
    "                                           steps_per_epoch = TrainImages.shape[0]//BatchSize, shuffle =1)"
   ]
  },
  {
   "cell_type": "code",
   "execution_count": null,
   "metadata": {
    "colab": {
     "base_uri": "https://localhost:8080/"
    },
    "id": "zEGaAtfxUlJ3",
    "outputId": "64d1e5a1-bc19-4292-fb77-3a8740664f3d"
   },
   "outputs": [
    {
     "name": "stdout",
     "output_type": "stream",
     "text": [
      "71/71 [==============================] - 1s 12ms/step - loss: 0.0353 - accuracy: 0.9890\n",
      "Loss of Training: %3.533254936337471\n",
      "Accuracy of Training: %98.8962471485138\n"
     ]
    }
   ],
   "source": [
    "TrainScore = model.evaluate(TrainImages,TrainLabels)\n",
    "print(\"Loss of Training: %{}\".format(TrainScore[0]*100))\n",
    "print(\"Accuracy of Training: %{}\".format(TrainScore[1]*100))"
   ]
  },
  {
   "cell_type": "code",
   "execution_count": null,
   "metadata": {
    "colab": {
     "base_uri": "https://localhost:8080/"
    },
    "id": "Q5IZiaXdUqWl",
    "outputId": "bad46736-7223-4d8d-d797-ce4723e3d80f"
   },
   "outputs": [
    {
     "name": "stdout",
     "output_type": "stream",
     "text": [
      "24/24 [==============================] - 0s 12ms/step - loss: 0.2962 - accuracy: 0.9272\n",
      "Loss of Validation: %29.618683457374573\n",
      "Accuracy of Validation: %92.72486567497253\n"
     ]
    }
   ],
   "source": [
    "ValidationScore = model.evaluate(ValidationImages,ValidationLabels)\n",
    "print(\"Loss of Validation: %{}\".format(ValidationScore[0]*100))\n",
    "print(\"Accuracy of Validation: %{}\".format(ValidationScore[1]*100))"
   ]
  },
  {
   "cell_type": "code",
   "execution_count": null,
   "metadata": {
    "colab": {
     "base_uri": "https://localhost:8080/"
    },
    "id": "AkkfdaumUsRl",
    "outputId": "e0ae30ed-2123-4ac0-f913-d40a1e4c01fa"
   },
   "outputs": [
    {
     "name": "stdout",
     "output_type": "stream",
     "text": [
      "24/24 [==============================] - 0s 12ms/step - loss: 0.3860 - accuracy: 0.9246\n",
      "Loss of Test: %38.60495686531067\n",
      "Accuracy of Test: %92.46031641960144\n"
     ]
    }
   ],
   "source": [
    "TestScore = model.evaluate(TestImages,TestLabels)\n",
    "print(\"Loss of Test: %{}\".format(TestScore[0]*100))\n",
    "print(\"Accuracy of Test: %{}\".format(TestScore[1]*100))"
   ]
  },
  {
   "cell_type": "code",
   "execution_count": null,
   "metadata": {
    "colab": {
     "base_uri": "https://localhost:8080/",
     "height": 295
    },
    "id": "qcKLH908AZiB",
    "outputId": "5d1c34b6-ae0b-46e7-b684-288818a0f5f8"
   },
   "outputs": [
    {
     "data": {
      "image/png": "[encoded data removed]",
      "text/plain": [
       "<Figure size 432x288 with 1 Axes>"
      ]
     },
     "metadata": {
      "needs_background": "light",
      "tags": []
     },
     "output_type": "display_data"
    }
   ],
   "source": [
    "plt.plot(history.history['accuracy'], label='Training Accuracy')\n",
    "plt.plot(history.history['val_accuracy'], label = 'Validation Accuracy')\n",
    "plt.title('Training and Validation Accuracy'), plt.ylabel('Accuracy'), plt.xlabel('Epoch')\n",
    "plt.legend(loc='lower right'), plt.ylim([0.5, 1]), plt.grid()\n",
    "plt.savefig(\"/content/drive/MyDrive/PHOTOS/EightCodeWithTestAndValidationMatrix/ValidationTrainingAccuracy.png\")"
   ]
  },
  {
   "cell_type": "code",
   "execution_count": null,
   "metadata": {
    "colab": {
     "base_uri": "https://localhost:8080/",
     "height": 295
    },
    "id": "qLQeYij0AZvf",
    "outputId": "6bd44f80-6553-4284-8d9f-059e2ca2b057"
   },
   "outputs": [
    {
     "data": {
      "image/png": "[encoded data removed]",
      "text/plain": [
       "<Figure size 432x288 with 1 Axes>"
      ]
     },
     "metadata": {
      "needs_background": "light",
      "tags": []
     },
     "output_type": "display_data"
    }
   ],
   "source": [
    "plt.plot(history.history['loss'], label='Training Loss')\n",
    "plt.plot(history.history['val_loss'], label = 'Validation Loss')\n",
    "plt.xlabel('Epoch'), plt.ylabel('Loss'), plt.title('Training and Validation Loss')\n",
    "plt.legend(loc='upper right'), plt.ylim([0, 3]), plt.grid()\n",
    "plt.savefig(\"/content/drive/MyDrive/PHOTOS/EightCodeWithTestAndValidationMatrix/ValidationTrainingLoss.png\")"
   ]
  },
  {
   "cell_type": "code",
   "execution_count": null,
   "metadata": {
    "colab": {
     "base_uri": "https://localhost:8080/"
    },
    "id": "FKYniupDJe-0",
    "outputId": "ed5e9b17-3a17-4d35-9069-b5bd3499b0f2"
   },
   "outputs": [
    {
     "name": "stdout",
     "output_type": "stream",
     "text": [
      "Confusion matrix : \n",
      " [[514  11]\n",
      " [ 46 185]]\n",
      "\n",
      "True Positive : 185\n",
      "False Negative: 46\n",
      "False Positive: 11\n",
      "True Negative: 514\n",
      "\n",
      "Presicion: %94.39\n",
      "Recall: %80.09\n",
      "Accuracy: %92.46\n",
      "F1-Score: %86.65\n",
      "Classification report : \n",
      "\n",
      "               precision    recall  f1-score   support\n",
      "\n",
      "           1       0.94      0.80      0.87       231\n",
      "           0       0.92      0.98      0.95       525\n",
      "\n",
      "    accuracy                           0.92       756\n",
      "   macro avg       0.93      0.89      0.91       756\n",
      "weighted avg       0.93      0.92      0.92       756\n",
      "\n"
     ]
    }
   ],
   "source": [
    "PredictionTestLabels = model.predict(TestImages)\n",
    "PredictionTestLabels=np.round(PredictionTestLabels)\n",
    "ConfusionTestMatrix = confusion_matrix(TestLabels, PredictionTestLabels)\n",
    "print(\"Confusion matrix : \\n\",ConfusionTestMatrix)\n",
    "\n",
    "TN, FP, FN, TP = confusion_matrix(TestLabels, PredictionTestLabels).ravel()\n",
    "print('\\nTrue Positive : {}\\nFalse Negative: {}\\nFalse Positive: {}\\nTrue Negative: {}'.format(TP, FN, FP, TN))\n",
    "\n",
    "TestPrecisionValue = TP / (TP+FP)\n",
    "TestRecallValue = TP / (TP+FN)\n",
    "TestAccurayValue = (TP + TN) /(TP + FN + FP + TN)\n",
    "TestF1Score =   2 * (TestPrecisionValue * TestRecallValue) / (TestPrecisionValue + TestRecallValue)\n",
    "print(\"\\nPresicion: %{:.2f}\\nRecall: %{:.2f}\\nAccuracy: %{:.2f}\\nF1-Score: %{:.2f}\".format(TestPrecisionValue*100,TestRecallValue*100,TestAccurayValue*100,TestF1Score*100))\n",
    "\n",
    "TestTable = classification_report(TestLabels,PredictionTestLabels,labels=[1,0])\n",
    "print(\"Classification report : \\n\\n\",TestTable)"
   ]
  },
  {
   "cell_type": "code",
   "execution_count": null,
   "metadata": {
    "id": "7VsjGOC6BMfr"
   },
   "outputs": [],
   "source": [
    "open(\"/content/drive/MyDrive/CNN TYPES/Version1.json\",\"w\").write(model.to_json())\n",
    "model.save_weights(\"/content/drive/MyDrive/CNN TYPES/Version1.h5\")"
   ]
  },
  {
   "cell_type": "code",
   "execution_count": null,
   "metadata": {
    "id": "KFvdifXGBViw"
   },
   "outputs": [],
   "source": [
    "model.save(\"/content/drive/MyDrive/CNN TYPES/Version1.h5\")"
   ]
  }
 ],
 "metadata": {
  "accelerator": "GPU",
  "colab": {
   "collapsed_sections": [],
   "name": "Version1.ipynb adlı not defterinin kopyası",
   "provenance": []
  },
  "kernelspec": {
   "display_name": "Python 3",
   "language": "python",
   "name": "python3"
  },
  "language_info": {
   "codemirror_mode": {
    "name": "ipython",
    "version": 3
   },
   "file_extension": ".py",
   "mimetype": "text/x-python",
   "name": "python",
   "nbconvert_exporter": "python",
   "pygments_lexer": "ipython3",
   "version": "3.7.6"
  }
 },
 "nbformat": 4,
 "nbformat_minor": 1
}
