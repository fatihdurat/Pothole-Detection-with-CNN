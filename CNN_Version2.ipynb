{
  "nbformat": 4,
  "nbformat_minor": 0,
  "metadata": {
    "colab": {
      "name": "Version2.ipynb adlı not defterinin kopyası",
      "provenance": [],
      "collapsed_sections": []
    },
    "kernelspec": {
      "name": "python3",
      "display_name": "Python 3"
    },
    "language_info": {
      "name": "python"
    },
    "accelerator": "GPU"
  },
  "cells": [
    {
      "cell_type": "code",
      "metadata": {
        "id": "JALkbPEUKbHs"
      },
      "source": [
        "from keras.layers import Dense,Dropout,Flatten,Conv2D,MaxPool2D,Activation\n",
        "from keras.preprocessing.image import ImageDataGenerator\n",
        "from keras.models import Sequential, model_from_json\n",
        "from sklearn.model_selection import train_test_split\n",
        "from sklearn.metrics import classification_report\n",
        "from sklearn.preprocessing import LabelEncoder\n",
        "from sklearn.metrics import confusion_matrix\n",
        "import matplotlib.pyplot as plt\n",
        "import seaborn as sns\n",
        "import numpy as np\n",
        "import glob\n",
        "import cv2\n",
        "import os"
      ],
      "execution_count": null,
      "outputs": []
    },
    {
      "cell_type": "code",
      "metadata": {
        "id": "iHcbTNDHUL5f"
      },
      "source": [
        "Images = []\n",
        "Labels = []\n",
        "path = \"/content/drive/MyDrive/Resized Data\"\n",
        "DatasetFolders = os.listdir(path)\n",
        "MainFolder = os.getcwd()\n",
        "for SubFolders in DatasetFolders:\n",
        "    os.chdir(path)\n",
        "    if SubFolders == \"Negative Data\":  \n",
        "        os.chdir(SubFolders)\n",
        "        for img in glob.glob(os.getcwd() + \"/*.JPG\"):\n",
        "            Labels.append(\"Negative\")\n",
        "            img = cv2.imread(img,cv2.IMREAD_COLOR)\n",
        "            Images.append(np.array(img))\n",
        "        os.chdir(MainFolder)\n",
        "    else:\n",
        "        os.chdir(SubFolders)\n",
        "        for img in glob.glob(os.getcwd() + \"/*.JPG\"):\n",
        "            Labels.append(\"Positive\")\n",
        "            img = cv2.imread(img,cv2.IMREAD_COLOR)\n",
        "            Images.append(np.array(img))\n",
        "        os.chdir(MainFolder)"
      ],
      "execution_count": null,
      "outputs": []
    },
    {
      "cell_type": "code",
      "metadata": {
        "id": "7CE4ZRbyUQEO",
        "colab": {
          "base_uri": "https://localhost:8080/"
        },
        "outputId": "0739a954-e0a7-48aa-e5e4-df3be128ce48"
      },
      "source": [
        "print(\"Labels Vector:\",Labels)"
      ],
      "execution_count": null,
      "outputs": [
        {
          "output_type": "stream",
          "text": [
            "Labels Vector: ['Positive', 'Positive', 'Positive', 'Positive', 'Positive', 'Positive', 'Positive', 'Positive', 'Positive', 'Positive', 'Positive', 'Positive', 'Positive', 'Positive', 'Positive', 'Positive', 'Positive', 'Positive', 'Positive', 'Positive', 'Positive', 'Positive', 'Positive', 'Positive', 'Positive', 'Positive', 'Positive', 'Positive', 'Positive', 'Positive', 'Positive', 'Positive', 'Positive', 'Positive', 'Positive', 'Positive', 'Positive', 'Positive', 'Positive', 'Positive', 'Positive', 'Positive', 'Positive', 'Positive', 'Positive', 'Positive', 'Positive', 'Positive', 'Positive', 'Positive', 'Positive', 'Positive', 'Positive', 'Positive', 'Positive', 'Positive', 'Positive', 'Positive', 'Positive', 'Positive', 'Positive', 'Positive', 'Positive', 'Positive', 'Positive', 'Positive', 'Positive', 'Positive', 'Positive', 'Positive', 'Positive', 'Positive', 'Positive', 'Positive', 'Positive', 'Positive', 'Positive', 'Positive', 'Positive', 'Positive', 'Positive', 'Positive', 'Positive', 'Positive', 'Positive', 'Positive', 'Positive', 'Positive', 'Positive', 'Positive', 'Positive', 'Positive', 'Positive', 'Positive', 'Positive', 'Positive', 'Positive', 'Positive', 'Positive', 'Positive', 'Positive', 'Positive', 'Positive', 'Positive', 'Positive', 'Positive', 'Positive', 'Positive', 'Positive', 'Positive', 'Positive', 'Positive', 'Positive', 'Positive', 'Positive', 'Positive', 'Positive', 'Positive', 'Positive', 'Positive', 'Positive', 'Positive', 'Positive', 'Positive', 'Positive', 'Positive', 'Positive', 'Positive', 'Positive', 'Positive', 'Positive', 'Positive', 'Positive', 'Positive', 'Positive', 'Positive', 'Positive', 'Positive', 'Positive', 'Positive', 'Positive', 'Positive', 'Positive', 'Positive', 'Positive', 'Positive', 'Positive', 'Positive', 'Positive', 'Positive', 'Positive', 'Positive', 'Positive', 'Positive', 'Positive', 'Positive', 'Positive', 'Positive', 'Positive', 'Positive', 'Positive', 'Positive', 'Positive', 'Positive', 'Positive', 'Positive', 'Positive', 'Positive', 'Positive', 'Positive', 'Positive', 'Positive', 'Positive', 'Positive', 'Positive', 'Positive', 'Positive', 'Positive', 'Positive', 'Positive', 'Positive', 'Positive', 'Positive', 'Positive', 'Positive', 'Positive', 'Positive', 'Positive', 'Positive', 'Positive', 'Positive', 'Positive', 'Positive', 'Positive', 'Positive', 'Positive', 'Positive', 'Positive', 'Positive', 'Positive', 'Positive', 'Positive', 'Positive', 'Positive', 'Positive', 'Positive', 'Positive', 'Positive', 'Positive', 'Positive', 'Positive', 'Positive', 'Positive', 'Positive', 'Positive', 'Positive', 'Positive', 'Positive', 'Positive', 'Positive', 'Positive', 'Positive', 'Positive', 'Positive', 'Positive', 'Positive', 'Positive', 'Positive', 'Positive', 'Positive', 'Positive', 'Positive', 'Positive', 'Positive', 'Positive', 'Positive', 'Positive', 'Positive', 'Positive', 'Positive', 'Positive', 'Positive', 'Positive', 'Positive', 'Positive', 'Positive', 'Positive', 'Positive', 'Positive', 'Positive', 'Positive', 'Positive', 'Positive', 'Positive', 'Positive', 'Positive', 'Positive', 'Positive', 'Positive', 'Positive', 'Positive', 'Positive', 'Positive', 'Positive', 'Positive', 'Positive', 'Positive', 'Positive', 'Positive', 'Positive', 'Positive', 'Positive', 'Positive', 'Positive', 'Positive', 'Positive', 'Positive', 'Positive', 'Positive', 'Positive', 'Positive', 'Positive', 'Positive', 'Positive', 'Positive', 'Positive', 'Positive', 'Positive', 'Positive', 'Positive', 'Positive', 'Positive', 'Positive', 'Positive', 'Positive', 'Positive', 'Positive', 'Positive', 'Positive', 'Positive', 'Positive', 'Positive', 'Positive', 'Positive', 'Positive', 'Positive', 'Positive', 'Positive', 'Positive', 'Positive', 'Positive', 'Positive', 'Positive', 'Positive', 'Positive', 'Positive', 'Positive', 'Positive', 'Positive', 'Positive', 'Positive', 'Positive', 'Positive', 'Positive', 'Positive', 'Positive', 'Positive', 'Positive', 'Positive', 'Positive', 'Positive', 'Positive', 'Positive', 'Positive', 'Positive', 'Positive', 'Positive', 'Positive', 'Positive', 'Positive', 'Positive', 'Positive', 'Positive', 'Positive', 'Positive', 'Positive', 'Positive', 'Positive', 'Positive', 'Positive', 'Positive', 'Positive', 'Positive', 'Positive', 'Positive', 'Positive', 'Positive', 'Positive', 'Positive', 'Positive', 'Positive', 'Positive', 'Positive', 'Positive', 'Positive', 'Positive', 'Positive', 'Positive', 'Positive', 'Positive', 'Positive', 'Positive', 'Positive', 'Positive', 'Positive', 'Positive', 'Positive', 'Positive', 'Positive', 'Positive', 'Positive', 'Positive', 'Positive', 'Positive', 'Positive', 'Positive', 'Positive', 'Positive', 'Positive', 'Positive', 'Positive', 'Positive', 'Positive', 'Positive', 'Positive', 'Positive', 'Positive', 'Positive', 'Positive', 'Positive', 'Positive', 'Positive', 'Positive', 'Positive', 'Positive', 'Positive', 'Positive', 'Positive', 'Positive', 'Positive', 'Positive', 'Positive', 'Positive', 'Positive', 'Positive', 'Positive', 'Positive', 'Positive', 'Positive', 'Positive', 'Positive', 'Positive', 'Positive', 'Positive', 'Positive', 'Positive', 'Positive', 'Positive', 'Positive', 'Positive', 'Positive', 'Positive', 'Positive', 'Positive', 'Positive', 'Positive', 'Positive', 'Positive', 'Positive', 'Positive', 'Positive', 'Positive', 'Positive', 'Positive', 'Positive', 'Positive', 'Positive', 'Positive', 'Positive', 'Positive', 'Positive', 'Positive', 'Positive', 'Positive', 'Positive', 'Positive', 'Positive', 'Positive', 'Positive', 'Positive', 'Positive', 'Positive', 'Positive', 'Positive', 'Positive', 'Positive', 'Positive', 'Positive', 'Positive', 'Positive', 'Positive', 'Positive', 'Positive', 'Positive', 'Positive', 'Positive', 'Positive', 'Positive', 'Positive', 'Positive', 'Positive', 'Positive', 'Positive', 'Positive', 'Positive', 'Positive', 'Positive', 'Positive', 'Positive', 'Positive', 'Positive', 'Positive', 'Positive', 'Positive', 'Positive', 'Positive', 'Positive', 'Positive', 'Positive', 'Positive', 'Positive', 'Positive', 'Positive', 'Positive', 'Positive', 'Positive', 'Positive', 'Positive', 'Positive', 'Positive', 'Positive', 'Positive', 'Positive', 'Positive', 'Positive', 'Positive', 'Positive', 'Positive', 'Positive', 'Positive', 'Positive', 'Positive', 'Positive', 'Positive', 'Positive', 'Positive', 'Positive', 'Positive', 'Positive', 'Positive', 'Positive', 'Positive', 'Positive', 'Positive', 'Positive', 'Positive', 'Positive', 'Positive', 'Positive', 'Positive', 'Positive', 'Positive', 'Positive', 'Positive', 'Positive', 'Positive', 'Positive', 'Positive', 'Positive', 'Positive', 'Positive', 'Positive', 'Positive', 'Positive', 'Positive', 'Positive', 'Positive', 'Positive', 'Positive', 'Positive', 'Positive', 'Positive', 'Positive', 'Positive', 'Positive', 'Positive', 'Positive', 'Positive', 'Positive', 'Positive', 'Positive', 'Positive', 'Positive', 'Positive', 'Positive', 'Positive', 'Positive', 'Positive', 'Positive', 'Positive', 'Positive', 'Positive', 'Positive', 'Positive', 'Positive', 'Positive', 'Positive', 'Positive', 'Positive', 'Positive', 'Positive', 'Positive', 'Positive', 'Positive', 'Positive', 'Positive', 'Positive', 'Positive', 'Positive', 'Positive', 'Positive', 'Positive', 'Positive', 'Positive', 'Positive', 'Positive', 'Positive', 'Positive', 'Positive', 'Positive', 'Positive', 'Positive', 'Positive', 'Positive', 'Positive', 'Positive', 'Positive', 'Positive', 'Positive', 'Positive', 'Positive', 'Positive', 'Positive', 'Positive', 'Positive', 'Positive', 'Positive', 'Positive', 'Positive', 'Positive', 'Positive', 'Positive', 'Positive', 'Positive', 'Positive', 'Positive', 'Positive', 'Positive', 'Positive', 'Positive', 'Positive', 'Positive', 'Positive', 'Positive', 'Positive', 'Positive', 'Positive', 'Positive', 'Positive', 'Positive', 'Positive', 'Positive', 'Positive', 'Positive', 'Positive', 'Positive', 'Positive', 'Positive', 'Positive', 'Positive', 'Positive', 'Positive', 'Positive', 'Positive', 'Positive', 'Positive', 'Positive', 'Positive', 'Positive', 'Positive', 'Positive', 'Positive', 'Positive', 'Positive', 'Positive', 'Positive', 'Positive', 'Positive', 'Positive', 'Positive', 'Positive', 'Positive', 'Positive', 'Positive', 'Positive', 'Positive', 'Positive', 'Positive', 'Positive', 'Positive', 'Positive', 'Positive', 'Positive', 'Positive', 'Positive', 'Positive', 'Positive', 'Positive', 'Positive', 'Positive', 'Positive', 'Positive', 'Positive', 'Positive', 'Positive', 'Positive', 'Positive', 'Positive', 'Positive', 'Positive', 'Positive', 'Positive', 'Positive', 'Positive', 'Positive', 'Positive', 'Positive', 'Positive', 'Positive', 'Positive', 'Positive', 'Positive', 'Positive', 'Positive', 'Positive', 'Positive', 'Positive', 'Positive', 'Positive', 'Positive', 'Positive', 'Positive', 'Positive', 'Positive', 'Positive', 'Positive', 'Positive', 'Positive', 'Positive', 'Positive', 'Positive', 'Positive', 'Positive', 'Positive', 'Positive', 'Positive', 'Positive', 'Positive', 'Positive', 'Positive', 'Positive', 'Positive', 'Positive', 'Positive', 'Positive', 'Positive', 'Positive', 'Positive', 'Positive', 'Positive', 'Positive', 'Positive', 'Positive', 'Positive', 'Positive', 'Positive', 'Positive', 'Positive', 'Positive', 'Positive', 'Positive', 'Positive', 'Positive', 'Positive', 'Positive', 'Positive', 'Positive', 'Positive', 'Positive', 'Positive', 'Positive', 'Positive', 'Positive', 'Positive', 'Positive', 'Positive', 'Positive', 'Positive', 'Positive', 'Positive', 'Positive', 'Positive', 'Positive', 'Positive', 'Positive', 'Positive', 'Positive', 'Positive', 'Positive', 'Positive', 'Positive', 'Positive', 'Positive', 'Positive', 'Positive', 'Positive', 'Positive', 'Positive', 'Positive', 'Positive', 'Positive', 'Positive', 'Positive', 'Positive', 'Positive', 'Positive', 'Positive', 'Positive', 'Positive', 'Positive', 'Positive', 'Positive', 'Positive', 'Positive', 'Positive', 'Positive', 'Positive', 'Positive', 'Positive', 'Positive', 'Positive', 'Positive', 'Positive', 'Positive', 'Positive', 'Positive', 'Positive', 'Positive', 'Positive', 'Positive', 'Positive', 'Positive', 'Positive', 'Positive', 'Positive', 'Positive', 'Positive', 'Positive', 'Positive', 'Positive', 'Positive', 'Positive', 'Positive', 'Positive', 'Positive', 'Positive', 'Positive', 'Positive', 'Positive', 'Positive', 'Positive', 'Positive', 'Positive', 'Positive', 'Positive', 'Positive', 'Positive', 'Positive', 'Positive', 'Positive', 'Positive', 'Positive', 'Positive', 'Positive', 'Positive', 'Positive', 'Positive', 'Positive', 'Positive', 'Positive', 'Positive', 'Positive', 'Positive', 'Positive', 'Positive', 'Positive', 'Positive', 'Positive', 'Positive', 'Positive', 'Positive', 'Positive', 'Positive', 'Positive', 'Positive', 'Positive', 'Positive', 'Positive', 'Positive', 'Positive', 'Positive', 'Positive', 'Positive', 'Positive', 'Positive', 'Positive', 'Positive', 'Positive', 'Positive', 'Positive', 'Positive', 'Positive', 'Positive', 'Positive', 'Positive', 'Positive', 'Positive', 'Positive', 'Positive', 'Positive', 'Positive', 'Positive', 'Positive', 'Positive', 'Positive', 'Positive', 'Positive', 'Positive', 'Positive', 'Positive', 'Positive', 'Positive', 'Positive', 'Positive', 'Positive', 'Positive', 'Positive', 'Positive', 'Positive', 'Positive', 'Positive', 'Positive', 'Positive', 'Positive', 'Positive', 'Positive', 'Positive', 'Positive', 'Positive', 'Positive', 'Positive', 'Positive', 'Positive', 'Positive', 'Positive', 'Positive', 'Positive', 'Positive', 'Positive', 'Positive', 'Positive', 'Positive', 'Positive', 'Positive', 'Positive', 'Positive', 'Positive', 'Positive', 'Positive', 'Positive', 'Positive', 'Positive', 'Positive', 'Positive', 'Positive', 'Positive', 'Positive', 'Positive', 'Positive', 'Positive', 'Positive', 'Positive', 'Positive', 'Positive', 'Positive', 'Positive', 'Positive', 'Positive', 'Positive', 'Positive', 'Positive', 'Positive', 'Positive', 'Positive', 'Positive', 'Positive', 'Positive', 'Positive', 'Positive', 'Positive', 'Positive', 'Positive', 'Positive', 'Positive', 'Positive', 'Positive', 'Positive', 'Positive', 'Positive', 'Positive', 'Positive', 'Positive', 'Positive', 'Positive', 'Positive', 'Positive', 'Positive', 'Positive', 'Positive', 'Positive', 'Positive', 'Positive', 'Positive', 'Positive', 'Positive', 'Positive', 'Positive', 'Positive', 'Positive', 'Positive', 'Positive', 'Positive', 'Positive', 'Positive', 'Positive', 'Positive', 'Positive', 'Positive', 'Positive', 'Positive', 'Positive', 'Positive', 'Positive', 'Positive', 'Positive', 'Positive', 'Positive', 'Positive', 'Positive', 'Positive', 'Positive', 'Positive', 'Positive', 'Positive', 'Positive', 'Positive', 'Positive', 'Positive', 'Positive', 'Positive', 'Positive', 'Positive', 'Positive', 'Positive', 'Positive', 'Positive', 'Positive', 'Positive', 'Positive', 'Positive', 'Positive', 'Positive', 'Positive', 'Positive', 'Positive', 'Positive', 'Positive', 'Positive', 'Positive', 'Positive', 'Positive', 'Positive', 'Positive', 'Positive', 'Positive', 'Positive', 'Positive', 'Positive', 'Positive', 'Positive', 'Positive', 'Positive', 'Positive', 'Positive', 'Positive', 'Positive', 'Positive', 'Positive', 'Positive', 'Positive', 'Positive', 'Positive', 'Positive', 'Positive', 'Positive', 'Positive', 'Positive', 'Positive', 'Positive', 'Positive', 'Positive', 'Positive', 'Positive', 'Positive', 'Positive', 'Positive', 'Positive', 'Positive', 'Positive', 'Negative', 'Negative', 'Negative', 'Negative', 'Negative', 'Negative', 'Negative', 'Negative', 'Negative', 'Negative', 'Negative', 'Negative', 'Negative', 'Negative', 'Negative', 'Negative', 'Negative', 'Negative', 'Negative', 'Negative', 'Negative', 'Negative', 'Negative', 'Negative', 'Negative', 'Negative', 'Negative', 'Negative', 'Negative', 'Negative', 'Negative', 'Negative', 'Negative', 'Negative', 'Negative', 'Negative', 'Negative', 'Negative', 'Negative', 'Negative', 'Negative', 'Negative', 'Negative', 'Negative', 'Negative', 'Negative', 'Negative', 'Negative', 'Negative', 'Negative', 'Negative', 'Negative', 'Negative', 'Negative', 'Negative', 'Negative', 'Negative', 'Negative', 'Negative', 'Negative', 'Negative', 'Negative', 'Negative', 'Negative', 'Negative', 'Negative', 'Negative', 'Negative', 'Negative', 'Negative', 'Negative', 'Negative', 'Negative', 'Negative', 'Negative', 'Negative', 'Negative', 'Negative', 'Negative', 'Negative', 'Negative', 'Negative', 'Negative', 'Negative', 'Negative', 'Negative', 'Negative', 'Negative', 'Negative', 'Negative', 'Negative', 'Negative', 'Negative', 'Negative', 'Negative', 'Negative', 'Negative', 'Negative', 'Negative', 'Negative', 'Negative', 'Negative', 'Negative', 'Negative', 'Negative', 'Negative', 'Negative', 'Negative', 'Negative', 'Negative', 'Negative', 'Negative', 'Negative', 'Negative', 'Negative', 'Negative', 'Negative', 'Negative', 'Negative', 'Negative', 'Negative', 'Negative', 'Negative', 'Negative', 'Negative', 'Negative', 'Negative', 'Negative', 'Negative', 'Negative', 'Negative', 'Negative', 'Negative', 'Negative', 'Negative', 'Negative', 'Negative', 'Negative', 'Negative', 'Negative', 'Negative', 'Negative', 'Negative', 'Negative', 'Negative', 'Negative', 'Negative', 'Negative', 'Negative', 'Negative', 'Negative', 'Negative', 'Negative', 'Negative', 'Negative', 'Negative', 'Negative', 'Negative', 'Negative', 'Negative', 'Negative', 'Negative', 'Negative', 'Negative', 'Negative', 'Negative', 'Negative', 'Negative', 'Negative', 'Negative', 'Negative', 'Negative', 'Negative', 'Negative', 'Negative', 'Negative', 'Negative', 'Negative', 'Negative', 'Negative', 'Negative', 'Negative', 'Negative', 'Negative', 'Negative', 'Negative', 'Negative', 'Negative', 'Negative', 'Negative', 'Negative', 'Negative', 'Negative', 'Negative', 'Negative', 'Negative', 'Negative', 'Negative', 'Negative', 'Negative', 'Negative', 'Negative', 'Negative', 'Negative', 'Negative', 'Negative', 'Negative', 'Negative', 'Negative', 'Negative', 'Negative', 'Negative', 'Negative', 'Negative', 'Negative', 'Negative', 'Negative', 'Negative', 'Negative', 'Negative', 'Negative', 'Negative', 'Negative', 'Negative', 'Negative', 'Negative', 'Negative', 'Negative', 'Negative', 'Negative', 'Negative', 'Negative', 'Negative', 'Negative', 'Negative', 'Negative', 'Negative', 'Negative', 'Negative', 'Negative', 'Negative', 'Negative', 'Negative', 'Negative', 'Negative', 'Negative', 'Negative', 'Negative', 'Negative', 'Negative', 'Negative', 'Negative', 'Negative', 'Negative', 'Negative', 'Negative', 'Negative', 'Negative', 'Negative', 'Negative', 'Negative', 'Negative', 'Negative', 'Negative', 'Negative', 'Negative', 'Negative', 'Negative', 'Negative', 'Negative', 'Negative', 'Negative', 'Negative', 'Negative', 'Negative', 'Negative', 'Negative', 'Negative', 'Negative', 'Negative', 'Negative', 'Negative', 'Negative', 'Negative', 'Negative', 'Negative', 'Negative', 'Negative', 'Negative', 'Negative', 'Negative', 'Negative', 'Negative', 'Negative', 'Negative', 'Negative', 'Negative', 'Negative', 'Negative', 'Negative', 'Negative', 'Negative', 'Negative', 'Negative', 'Negative', 'Negative', 'Negative', 'Negative', 'Negative', 'Negative', 'Negative', 'Negative', 'Negative', 'Negative', 'Negative', 'Negative', 'Negative', 'Negative', 'Negative', 'Negative', 'Negative', 'Negative', 'Negative', 'Negative', 'Negative', 'Negative', 'Negative', 'Negative', 'Negative', 'Negative', 'Negative', 'Negative', 'Negative', 'Negative', 'Negative', 'Negative', 'Negative', 'Negative', 'Negative', 'Negative', 'Negative', 'Negative', 'Negative', 'Negative', 'Negative', 'Negative', 'Negative', 'Negative', 'Negative', 'Negative', 'Negative', 'Negative', 'Negative', 'Negative', 'Negative', 'Negative', 'Negative', 'Negative', 'Negative', 'Negative', 'Negative', 'Negative', 'Negative', 'Negative', 'Negative', 'Negative', 'Negative', 'Negative', 'Negative', 'Negative', 'Negative', 'Negative', 'Negative', 'Negative', 'Negative', 'Negative', 'Negative', 'Negative', 'Negative', 'Negative', 'Negative', 'Negative', 'Negative', 'Negative', 'Negative', 'Negative', 'Negative', 'Negative', 'Negative', 'Negative', 'Negative', 'Negative', 'Negative', 'Negative', 'Negative', 'Negative', 'Negative', 'Negative', 'Negative', 'Negative', 'Negative', 'Negative', 'Negative', 'Negative', 'Negative', 'Negative', 'Negative', 'Negative', 'Negative', 'Negative', 'Negative', 'Negative', 'Negative', 'Negative', 'Negative', 'Negative', 'Negative', 'Negative', 'Negative', 'Negative', 'Negative', 'Negative', 'Negative', 'Negative', 'Negative', 'Negative', 'Negative', 'Negative', 'Negative', 'Negative', 'Negative', 'Negative', 'Negative', 'Negative', 'Negative', 'Negative', 'Negative', 'Negative', 'Negative', 'Negative', 'Negative', 'Negative', 'Negative', 'Negative', 'Negative', 'Negative', 'Negative', 'Negative', 'Negative', 'Negative', 'Negative', 'Negative', 'Negative', 'Negative', 'Negative', 'Negative', 'Negative', 'Negative', 'Negative', 'Negative', 'Negative', 'Negative', 'Negative', 'Negative', 'Negative', 'Negative', 'Negative', 'Negative', 'Negative', 'Negative', 'Negative', 'Negative', 'Negative', 'Negative', 'Negative', 'Negative', 'Negative', 'Negative', 'Negative', 'Negative', 'Negative', 'Negative', 'Negative', 'Negative', 'Negative', 'Negative', 'Negative', 'Negative', 'Negative', 'Negative', 'Negative', 'Negative', 'Negative', 'Negative', 'Negative', 'Negative', 'Negative', 'Negative', 'Negative', 'Negative', 'Negative', 'Negative', 'Negative', 'Negative', 'Negative', 'Negative', 'Negative', 'Negative', 'Negative', 'Negative', 'Negative', 'Negative', 'Negative', 'Negative', 'Negative', 'Negative', 'Negative', 'Negative', 'Negative', 'Negative', 'Negative', 'Negative', 'Negative', 'Negative', 'Negative', 'Negative', 'Negative', 'Negative', 'Negative', 'Negative', 'Negative', 'Negative', 'Negative', 'Negative', 'Negative', 'Negative', 'Negative', 'Negative', 'Negative', 'Negative', 'Negative', 'Negative', 'Negative', 'Negative', 'Negative', 'Negative', 'Negative', 'Negative', 'Negative', 'Negative', 'Negative', 'Negative', 'Negative', 'Negative', 'Negative', 'Negative', 'Negative', 'Negative', 'Negative', 'Negative', 'Negative', 'Negative', 'Negative', 'Negative', 'Negative', 'Negative', 'Negative', 'Negative', 'Negative', 'Negative', 'Negative', 'Negative', 'Negative', 'Negative', 'Negative', 'Negative', 'Negative', 'Negative', 'Negative', 'Negative', 'Negative', 'Negative', 'Negative', 'Negative', 'Negative', 'Negative', 'Negative', 'Negative', 'Negative', 'Negative', 'Negative', 'Negative', 'Negative', 'Negative', 'Negative', 'Negative', 'Negative', 'Negative', 'Negative', 'Negative', 'Negative', 'Negative', 'Negative', 'Negative', 'Negative', 'Negative', 'Negative', 'Negative', 'Negative', 'Negative', 'Negative', 'Negative', 'Negative', 'Negative', 'Negative', 'Negative', 'Negative', 'Negative', 'Negative', 'Negative', 'Negative', 'Negative', 'Negative', 'Negative', 'Negative', 'Negative', 'Negative', 'Negative', 'Negative', 'Negative', 'Negative', 'Negative', 'Negative', 'Negative', 'Negative', 'Negative', 'Negative', 'Negative', 'Negative', 'Negative', 'Negative', 'Negative', 'Negative', 'Negative', 'Negative', 'Negative', 'Negative', 'Negative', 'Negative', 'Negative', 'Negative', 'Negative', 'Negative', 'Negative', 'Negative', 'Negative', 'Negative', 'Negative', 'Negative', 'Negative', 'Negative', 'Negative', 'Negative', 'Negative', 'Negative', 'Negative', 'Negative', 'Negative', 'Negative', 'Negative', 'Negative', 'Negative', 'Negative', 'Negative', 'Negative', 'Negative', 'Negative', 'Negative', 'Negative', 'Negative', 'Negative', 'Negative', 'Negative', 'Negative', 'Negative', 'Negative', 'Negative', 'Negative', 'Negative', 'Negative', 'Negative', 'Negative', 'Negative', 'Negative', 'Negative', 'Negative', 'Negative', 'Negative', 'Negative', 'Negative', 'Negative', 'Negative', 'Negative', 'Negative', 'Negative', 'Negative', 'Negative', 'Negative', 'Negative', 'Negative', 'Negative', 'Negative', 'Negative', 'Negative', 'Negative', 'Negative', 'Negative', 'Negative', 'Negative', 'Negative', 'Negative', 'Negative', 'Negative', 'Negative', 'Negative', 'Negative', 'Negative', 'Negative', 'Negative', 'Negative', 'Negative', 'Negative', 'Negative', 'Negative', 'Negative', 'Negative', 'Negative', 'Negative', 'Negative', 'Negative', 'Negative', 'Negative', 'Negative', 'Negative', 'Negative', 'Negative', 'Negative', 'Negative', 'Negative', 'Negative', 'Negative', 'Negative', 'Negative', 'Negative', 'Negative', 'Negative', 'Negative', 'Negative', 'Negative', 'Negative', 'Negative', 'Negative', 'Negative', 'Negative', 'Negative', 'Negative', 'Negative', 'Negative', 'Negative', 'Negative', 'Negative', 'Negative', 'Negative', 'Negative', 'Negative', 'Negative', 'Negative', 'Negative', 'Negative', 'Negative', 'Negative', 'Negative', 'Negative', 'Negative', 'Negative', 'Negative', 'Negative', 'Negative', 'Negative', 'Negative', 'Negative', 'Negative', 'Negative', 'Negative', 'Negative', 'Negative', 'Negative', 'Negative', 'Negative', 'Negative', 'Negative', 'Negative', 'Negative', 'Negative', 'Negative', 'Negative', 'Negative', 'Negative', 'Negative', 'Negative', 'Negative', 'Negative', 'Negative', 'Negative', 'Negative', 'Negative', 'Negative', 'Negative', 'Negative', 'Negative', 'Negative', 'Negative', 'Negative', 'Negative', 'Negative', 'Negative', 'Negative', 'Negative', 'Negative', 'Negative', 'Negative', 'Negative', 'Negative', 'Negative', 'Negative', 'Negative', 'Negative', 'Negative', 'Negative', 'Negative', 'Negative', 'Negative', 'Negative', 'Negative', 'Negative', 'Negative', 'Negative', 'Negative', 'Negative', 'Negative', 'Negative', 'Negative', 'Negative', 'Negative', 'Negative', 'Negative', 'Negative', 'Negative', 'Negative', 'Negative', 'Negative', 'Negative', 'Negative', 'Negative', 'Negative', 'Negative', 'Negative', 'Negative', 'Negative', 'Negative', 'Negative', 'Negative', 'Negative', 'Negative', 'Negative', 'Negative', 'Negative', 'Negative', 'Negative', 'Negative', 'Negative', 'Negative', 'Negative', 'Negative', 'Negative', 'Negative', 'Negative', 'Negative', 'Negative', 'Negative', 'Negative', 'Negative', 'Negative', 'Negative', 'Negative', 'Negative', 'Negative', 'Negative', 'Negative', 'Negative', 'Negative', 'Negative', 'Negative', 'Negative', 'Negative', 'Negative', 'Negative', 'Negative', 'Negative', 'Negative', 'Negative', 'Negative', 'Negative', 'Negative', 'Negative', 'Negative', 'Negative', 'Negative', 'Negative', 'Negative', 'Negative', 'Negative', 'Negative', 'Negative', 'Negative', 'Negative', 'Negative', 'Negative', 'Negative', 'Negative', 'Negative', 'Negative', 'Negative', 'Negative', 'Negative', 'Negative', 'Negative', 'Negative', 'Negative', 'Negative', 'Negative', 'Negative', 'Negative', 'Negative', 'Negative', 'Negative', 'Negative', 'Negative', 'Negative', 'Negative', 'Negative', 'Negative', 'Negative', 'Negative', 'Negative', 'Negative', 'Negative', 'Negative', 'Negative', 'Negative', 'Negative', 'Negative', 'Negative', 'Negative', 'Negative', 'Negative', 'Negative', 'Negative', 'Negative', 'Negative', 'Negative', 'Negative', 'Negative', 'Negative', 'Negative', 'Negative', 'Negative', 'Negative', 'Negative', 'Negative', 'Negative', 'Negative', 'Negative', 'Negative', 'Negative', 'Negative', 'Negative', 'Negative', 'Negative', 'Negative', 'Negative', 'Negative', 'Negative', 'Negative', 'Negative', 'Negative', 'Negative', 'Negative', 'Negative', 'Negative', 'Negative', 'Negative', 'Negative', 'Negative', 'Negative', 'Negative', 'Negative', 'Negative', 'Negative', 'Negative', 'Negative', 'Negative', 'Negative', 'Negative', 'Negative', 'Negative', 'Negative', 'Negative', 'Negative', 'Negative', 'Negative', 'Negative', 'Negative', 'Negative', 'Negative', 'Negative', 'Negative', 'Negative', 'Negative', 'Negative', 'Negative', 'Negative', 'Negative', 'Negative', 'Negative', 'Negative', 'Negative', 'Negative', 'Negative', 'Negative', 'Negative', 'Negative', 'Negative', 'Negative', 'Negative', 'Negative', 'Negative', 'Negative', 'Negative', 'Negative', 'Negative', 'Negative', 'Negative', 'Negative', 'Negative', 'Negative', 'Negative', 'Negative', 'Negative', 'Negative', 'Negative', 'Negative', 'Negative', 'Negative', 'Negative', 'Negative', 'Negative', 'Negative', 'Negative', 'Negative', 'Negative', 'Negative', 'Negative', 'Negative', 'Negative', 'Negative', 'Negative', 'Negative', 'Negative', 'Negative', 'Negative', 'Negative', 'Negative', 'Negative', 'Negative', 'Negative', 'Negative', 'Negative', 'Negative', 'Negative', 'Negative', 'Negative', 'Negative', 'Negative', 'Negative', 'Negative', 'Negative', 'Negative', 'Negative', 'Negative', 'Negative', 'Negative', 'Negative', 'Negative', 'Negative', 'Negative', 'Negative', 'Negative', 'Negative', 'Negative', 'Negative', 'Negative', 'Negative', 'Negative', 'Negative', 'Negative', 'Negative', 'Negative', 'Negative', 'Negative', 'Negative', 'Negative', 'Negative', 'Negative', 'Negative', 'Negative', 'Negative', 'Negative', 'Negative', 'Negative', 'Negative', 'Negative', 'Negative', 'Negative', 'Negative', 'Negative', 'Negative', 'Negative', 'Negative', 'Negative', 'Negative', 'Negative', 'Negative', 'Negative', 'Negative', 'Negative', 'Negative', 'Negative', 'Negative', 'Negative', 'Negative', 'Negative', 'Negative', 'Negative', 'Negative', 'Negative', 'Negative', 'Negative', 'Negative', 'Negative', 'Negative', 'Negative', 'Negative', 'Negative', 'Negative', 'Negative', 'Negative', 'Negative', 'Negative', 'Negative', 'Negative', 'Negative', 'Negative', 'Negative', 'Negative', 'Negative', 'Negative', 'Negative', 'Negative', 'Negative', 'Negative', 'Negative', 'Negative', 'Negative', 'Negative', 'Negative', 'Negative', 'Negative', 'Negative', 'Negative', 'Negative', 'Negative', 'Negative', 'Negative', 'Negative', 'Negative', 'Negative', 'Negative', 'Negative', 'Negative', 'Negative', 'Negative', 'Negative', 'Negative', 'Negative', 'Negative', 'Negative', 'Negative', 'Negative', 'Negative', 'Negative', 'Negative', 'Negative', 'Negative', 'Negative', 'Negative', 'Negative', 'Negative', 'Negative', 'Negative', 'Negative', 'Negative', 'Negative', 'Negative', 'Negative', 'Negative', 'Negative', 'Negative', 'Negative', 'Negative', 'Negative', 'Negative', 'Negative', 'Negative', 'Negative', 'Negative', 'Negative', 'Negative', 'Negative', 'Negative', 'Negative', 'Negative', 'Negative', 'Negative', 'Negative', 'Negative', 'Negative', 'Negative', 'Negative', 'Negative', 'Negative', 'Negative', 'Negative', 'Negative', 'Negative', 'Negative', 'Negative', 'Negative', 'Negative', 'Negative', 'Negative', 'Negative', 'Negative', 'Negative', 'Negative', 'Negative', 'Negative', 'Negative', 'Negative', 'Negative', 'Negative', 'Negative', 'Negative', 'Negative', 'Negative', 'Negative', 'Negative', 'Negative', 'Negative', 'Negative', 'Negative', 'Negative', 'Negative', 'Negative', 'Negative', 'Negative', 'Negative', 'Negative', 'Negative', 'Negative', 'Negative', 'Negative', 'Negative', 'Negative', 'Negative', 'Negative', 'Negative', 'Negative', 'Negative', 'Negative', 'Negative', 'Negative', 'Negative', 'Negative', 'Negative', 'Negative', 'Negative', 'Negative', 'Negative', 'Negative', 'Negative', 'Negative', 'Negative', 'Negative', 'Negative', 'Negative', 'Negative', 'Negative', 'Negative', 'Negative', 'Negative', 'Negative', 'Negative', 'Negative', 'Negative', 'Negative', 'Negative', 'Negative', 'Negative', 'Negative', 'Negative', 'Negative', 'Negative', 'Negative', 'Negative', 'Negative', 'Negative', 'Negative', 'Negative', 'Negative', 'Negative', 'Negative', 'Negative', 'Negative', 'Negative', 'Negative', 'Negative', 'Negative', 'Negative', 'Negative', 'Negative', 'Negative', 'Negative', 'Negative', 'Negative', 'Negative', 'Negative', 'Negative', 'Negative', 'Negative', 'Negative', 'Negative', 'Negative', 'Negative', 'Negative', 'Negative', 'Negative', 'Negative', 'Negative', 'Negative', 'Negative', 'Negative', 'Negative', 'Negative', 'Negative', 'Negative', 'Negative', 'Negative', 'Negative', 'Negative', 'Negative', 'Negative', 'Negative', 'Negative', 'Negative', 'Negative', 'Negative', 'Negative', 'Negative', 'Negative', 'Negative', 'Negative', 'Negative', 'Negative', 'Negative', 'Negative', 'Negative', 'Negative', 'Negative', 'Negative', 'Negative', 'Negative', 'Negative', 'Negative', 'Negative', 'Negative', 'Negative', 'Negative', 'Negative', 'Negative', 'Negative', 'Negative', 'Negative', 'Negative', 'Negative', 'Negative', 'Negative', 'Negative', 'Negative', 'Negative', 'Negative', 'Negative', 'Negative', 'Negative', 'Negative', 'Negative', 'Negative', 'Negative', 'Negative', 'Negative', 'Negative', 'Negative', 'Negative', 'Negative', 'Negative', 'Negative', 'Negative', 'Negative', 'Negative', 'Negative', 'Negative', 'Negative', 'Negative', 'Negative', 'Negative', 'Negative', 'Negative', 'Negative', 'Negative', 'Negative', 'Negative', 'Negative', 'Negative', 'Negative', 'Negative', 'Negative', 'Negative', 'Negative', 'Negative', 'Negative', 'Negative', 'Negative', 'Negative', 'Negative', 'Negative', 'Negative', 'Negative', 'Negative', 'Negative', 'Negative', 'Negative', 'Negative', 'Negative', 'Negative', 'Negative', 'Negative', 'Negative', 'Negative', 'Negative', 'Negative', 'Negative', 'Negative', 'Negative', 'Negative', 'Negative', 'Negative', 'Negative', 'Negative', 'Negative', 'Negative', 'Negative', 'Negative', 'Negative', 'Negative', 'Negative', 'Negative', 'Negative', 'Negative', 'Negative', 'Negative', 'Negative', 'Negative', 'Negative', 'Negative', 'Negative', 'Negative', 'Negative', 'Negative', 'Negative', 'Negative', 'Negative', 'Negative', 'Negative', 'Negative', 'Negative', 'Negative', 'Negative', 'Negative', 'Negative', 'Negative', 'Negative', 'Negative', 'Negative', 'Negative', 'Negative', 'Negative', 'Negative', 'Negative', 'Negative', 'Negative', 'Negative', 'Negative', 'Negative', 'Negative', 'Negative', 'Negative', 'Negative', 'Negative', 'Negative', 'Negative', 'Negative', 'Negative', 'Negative', 'Negative', 'Negative', 'Negative', 'Negative', 'Negative', 'Negative', 'Negative', 'Negative', 'Negative', 'Negative', 'Negative', 'Negative', 'Negative', 'Negative', 'Negative', 'Negative', 'Negative', 'Negative', 'Negative', 'Negative', 'Negative', 'Negative', 'Negative', 'Negative', 'Negative', 'Negative', 'Negative', 'Negative', 'Negative', 'Negative', 'Negative', 'Negative', 'Negative', 'Negative', 'Negative', 'Negative', 'Negative', 'Negative', 'Negative', 'Negative', 'Negative', 'Negative', 'Negative', 'Negative', 'Negative', 'Negative', 'Negative', 'Negative', 'Negative', 'Negative', 'Negative', 'Negative', 'Negative', 'Negative', 'Negative', 'Negative', 'Negative', 'Negative', 'Negative', 'Negative', 'Negative', 'Negative', 'Negative', 'Negative', 'Negative', 'Negative', 'Negative', 'Negative', 'Negative', 'Negative', 'Negative', 'Negative', 'Negative', 'Negative', 'Negative', 'Negative', 'Negative', 'Negative', 'Negative', 'Negative', 'Negative', 'Negative', 'Negative', 'Negative', 'Negative', 'Negative', 'Negative', 'Negative', 'Negative', 'Negative', 'Negative', 'Negative', 'Negative', 'Negative', 'Negative', 'Negative', 'Negative', 'Negative', 'Negative', 'Negative', 'Negative', 'Negative', 'Negative', 'Negative', 'Negative', 'Negative', 'Negative', 'Negative', 'Negative', 'Negative', 'Negative', 'Negative', 'Negative', 'Negative', 'Negative', 'Negative', 'Negative', 'Negative', 'Negative', 'Negative', 'Negative', 'Negative', 'Negative', 'Negative', 'Negative', 'Negative', 'Negative', 'Negative', 'Negative', 'Negative', 'Negative', 'Negative', 'Negative', 'Negative', 'Negative', 'Negative', 'Negative', 'Negative', 'Negative', 'Negative', 'Negative', 'Negative', 'Negative', 'Negative', 'Negative', 'Negative', 'Negative', 'Negative', 'Negative', 'Negative', 'Negative', 'Negative', 'Negative', 'Negative', 'Negative', 'Negative', 'Negative', 'Negative', 'Negative', 'Negative', 'Negative', 'Negative', 'Negative', 'Negative', 'Negative', 'Negative', 'Negative', 'Negative', 'Negative', 'Negative', 'Negative', 'Negative', 'Negative', 'Negative', 'Negative', 'Negative', 'Negative', 'Negative', 'Negative', 'Negative', 'Negative', 'Negative', 'Negative', 'Negative', 'Negative', 'Negative', 'Negative', 'Negative', 'Negative', 'Negative', 'Negative', 'Negative', 'Negative', 'Negative', 'Negative', 'Negative', 'Negative', 'Negative', 'Negative', 'Negative', 'Negative', 'Negative', 'Negative', 'Negative', 'Negative', 'Negative', 'Negative', 'Negative', 'Negative', 'Negative', 'Negative', 'Negative', 'Negative', 'Negative', 'Negative', 'Negative', 'Negative', 'Negative', 'Negative', 'Negative', 'Negative', 'Negative', 'Negative', 'Negative', 'Negative', 'Negative', 'Negative', 'Negative', 'Negative', 'Negative', 'Negative', 'Negative', 'Negative', 'Negative', 'Negative', 'Negative', 'Negative', 'Negative', 'Negative', 'Negative', 'Negative', 'Negative', 'Negative', 'Negative', 'Negative', 'Negative', 'Negative', 'Negative', 'Negative', 'Negative', 'Negative', 'Negative', 'Negative', 'Negative', 'Negative', 'Negative', 'Negative', 'Negative', 'Negative', 'Negative', 'Negative', 'Negative', 'Negative', 'Negative', 'Negative', 'Negative', 'Negative', 'Negative', 'Negative', 'Negative', 'Negative', 'Negative', 'Negative', 'Negative', 'Negative', 'Negative', 'Negative', 'Negative', 'Negative', 'Negative', 'Negative', 'Negative', 'Negative', 'Negative', 'Negative', 'Negative', 'Negative', 'Negative', 'Negative', 'Negative', 'Negative', 'Negative', 'Negative', 'Negative', 'Negative', 'Negative', 'Negative', 'Negative', 'Negative', 'Negative', 'Negative', 'Negative', 'Negative', 'Negative', 'Negative', 'Negative', 'Negative', 'Negative', 'Negative', 'Negative', 'Negative', 'Negative', 'Negative', 'Negative', 'Negative', 'Negative', 'Negative', 'Negative', 'Negative', 'Negative', 'Negative', 'Negative', 'Negative', 'Negative', 'Negative', 'Negative', 'Negative', 'Negative', 'Negative', 'Negative', 'Negative', 'Negative', 'Negative', 'Negative', 'Negative', 'Negative', 'Negative', 'Negative', 'Negative', 'Negative', 'Negative', 'Negative', 'Negative', 'Negative', 'Negative', 'Negative', 'Negative', 'Negative', 'Negative', 'Negative', 'Negative', 'Negative', 'Negative', 'Negative', 'Negative', 'Negative', 'Negative', 'Negative', 'Negative', 'Negative', 'Negative', 'Negative', 'Negative', 'Negative', 'Negative', 'Negative', 'Negative', 'Negative', 'Negative', 'Negative', 'Negative', 'Negative', 'Negative', 'Negative', 'Negative', 'Negative', 'Negative', 'Negative', 'Negative', 'Negative', 'Negative', 'Negative', 'Negative', 'Negative', 'Negative', 'Negative', 'Negative', 'Negative', 'Negative', 'Negative', 'Negative', 'Negative', 'Negative', 'Negative', 'Negative', 'Negative', 'Negative', 'Negative', 'Negative', 'Negative', 'Negative', 'Negative', 'Negative', 'Negative', 'Negative', 'Negative', 'Negative', 'Negative', 'Negative', 'Negative', 'Negative', 'Negative', 'Negative', 'Negative', 'Negative', 'Negative', 'Negative', 'Negative', 'Negative', 'Negative', 'Negative', 'Negative', 'Negative', 'Negative', 'Negative', 'Negative', 'Negative', 'Negative', 'Negative', 'Negative', 'Negative', 'Negative', 'Negative', 'Negative', 'Negative', 'Negative', 'Negative', 'Negative', 'Negative', 'Negative', 'Negative', 'Negative', 'Negative', 'Negative', 'Negative', 'Negative', 'Negative', 'Negative', 'Negative', 'Negative', 'Negative', 'Negative', 'Negative', 'Negative', 'Negative', 'Negative', 'Negative', 'Negative', 'Negative', 'Negative', 'Negative', 'Negative', 'Negative', 'Negative', 'Negative', 'Negative', 'Negative', 'Negative', 'Negative', 'Negative', 'Negative', 'Negative', 'Negative', 'Negative', 'Negative', 'Negative', 'Negative', 'Negative', 'Negative', 'Negative', 'Negative', 'Negative', 'Negative', 'Negative', 'Negative', 'Negative', 'Negative', 'Negative', 'Negative', 'Negative', 'Negative', 'Negative', 'Negative', 'Negative', 'Negative', 'Negative', 'Negative', 'Negative', 'Negative', 'Negative', 'Negative', 'Negative', 'Negative', 'Negative', 'Negative', 'Negative', 'Negative', 'Negative', 'Negative', 'Negative', 'Negative', 'Negative', 'Negative', 'Negative', 'Negative', 'Negative', 'Negative', 'Negative', 'Negative', 'Negative', 'Negative', 'Negative', 'Negative', 'Negative', 'Negative', 'Negative', 'Negative', 'Negative', 'Negative', 'Negative', 'Negative', 'Negative', 'Negative', 'Negative', 'Negative', 'Negative', 'Negative', 'Negative', 'Negative', 'Negative', 'Negative', 'Negative', 'Negative', 'Negative', 'Negative', 'Negative', 'Negative', 'Negative', 'Negative', 'Negative', 'Negative', 'Negative', 'Negative', 'Negative', 'Negative', 'Negative', 'Negative', 'Negative', 'Negative', 'Negative', 'Negative', 'Negative', 'Negative', 'Negative', 'Negative', 'Negative', 'Negative', 'Negative', 'Negative', 'Negative', 'Negative', 'Negative', 'Negative', 'Negative', 'Negative', 'Negative', 'Negative', 'Negative', 'Negative', 'Negative', 'Negative', 'Negative', 'Negative', 'Negative', 'Negative', 'Negative', 'Negative', 'Negative', 'Negative', 'Negative', 'Negative', 'Negative', 'Negative', 'Negative', 'Negative', 'Negative', 'Negative', 'Negative', 'Negative', 'Negative', 'Negative', 'Negative', 'Negative', 'Negative', 'Negative', 'Negative', 'Negative', 'Negative', 'Negative', 'Negative', 'Negative', 'Negative', 'Negative', 'Negative', 'Negative', 'Negative', 'Negative', 'Negative', 'Negative', 'Negative', 'Negative', 'Negative', 'Negative', 'Negative', 'Negative', 'Negative', 'Negative', 'Negative', 'Negative', 'Negative', 'Negative', 'Negative', 'Negative', 'Negative', 'Negative', 'Negative', 'Negative', 'Negative', 'Negative', 'Negative', 'Negative', 'Negative', 'Negative', 'Negative', 'Negative', 'Negative', 'Negative', 'Negative', 'Negative', 'Negative', 'Negative', 'Negative', 'Negative', 'Negative', 'Negative', 'Negative', 'Negative', 'Negative', 'Negative', 'Negative', 'Negative', 'Negative', 'Negative', 'Negative', 'Negative', 'Negative', 'Negative', 'Negative', 'Negative', 'Negative', 'Negative', 'Negative', 'Negative', 'Negative', 'Negative', 'Negative', 'Negative', 'Negative', 'Negative', 'Negative', 'Negative', 'Negative', 'Negative', 'Negative', 'Negative', 'Negative', 'Negative', 'Negative', 'Negative', 'Negative', 'Negative', 'Negative', 'Negative', 'Negative', 'Negative', 'Negative', 'Negative', 'Negative', 'Negative', 'Negative', 'Negative', 'Negative', 'Negative', 'Negative', 'Negative', 'Negative', 'Negative', 'Negative', 'Negative', 'Negative', 'Negative', 'Negative', 'Negative', 'Negative', 'Negative', 'Negative', 'Negative', 'Negative', 'Negative', 'Negative', 'Negative', 'Negative', 'Negative', 'Negative', 'Negative', 'Negative', 'Negative', 'Negative', 'Negative', 'Negative', 'Negative', 'Negative', 'Negative', 'Negative', 'Negative', 'Negative', 'Negative', 'Negative', 'Negative', 'Negative', 'Negative', 'Negative', 'Negative', 'Negative', 'Negative', 'Negative', 'Negative', 'Negative', 'Negative', 'Negative', 'Negative', 'Negative', 'Negative', 'Negative', 'Negative', 'Negative', 'Negative', 'Negative', 'Negative', 'Negative', 'Negative', 'Negative', 'Negative', 'Negative', 'Negative', 'Negative', 'Negative', 'Negative', 'Negative', 'Negative', 'Negative', 'Negative', 'Negative', 'Negative', 'Negative', 'Negative', 'Negative', 'Negative', 'Negative', 'Negative', 'Negative', 'Negative', 'Negative', 'Negative', 'Negative', 'Negative', 'Negative', 'Negative', 'Negative', 'Negative', 'Negative', 'Negative', 'Negative', 'Negative', 'Negative', 'Negative', 'Negative', 'Negative', 'Negative', 'Negative', 'Negative', 'Negative', 'Negative', 'Negative', 'Negative', 'Negative', 'Negative', 'Negative', 'Negative', 'Negative', 'Negative', 'Negative', 'Negative', 'Negative', 'Negative', 'Negative', 'Negative', 'Negative', 'Negative', 'Negative', 'Negative', 'Negative', 'Negative', 'Negative', 'Negative', 'Negative', 'Negative', 'Negative', 'Negative', 'Negative', 'Negative', 'Negative', 'Negative', 'Negative', 'Negative', 'Negative', 'Negative', 'Negative', 'Negative', 'Negative', 'Negative', 'Negative', 'Negative', 'Negative', 'Negative', 'Negative', 'Negative', 'Negative', 'Negative', 'Negative', 'Negative', 'Negative', 'Negative', 'Negative', 'Negative', 'Negative', 'Negative', 'Negative', 'Negative', 'Negative', 'Negative', 'Negative', 'Negative', 'Negative', 'Negative', 'Negative', 'Negative', 'Negative', 'Negative', 'Negative', 'Negative', 'Negative', 'Negative', 'Negative', 'Negative', 'Negative', 'Negative', 'Negative', 'Negative', 'Negative', 'Negative', 'Negative', 'Negative', 'Negative', 'Negative', 'Negative', 'Negative', 'Negative', 'Negative', 'Negative', 'Negative', 'Negative', 'Negative', 'Negative', 'Negative', 'Negative', 'Negative', 'Negative', 'Negative', 'Negative', 'Negative', 'Negative', 'Negative', 'Negative', 'Negative', 'Negative', 'Negative', 'Negative', 'Negative', 'Negative', 'Negative', 'Negative', 'Negative', 'Negative', 'Negative', 'Negative', 'Negative', 'Negative', 'Negative', 'Negative', 'Negative', 'Negative', 'Negative', 'Negative', 'Negative', 'Negative', 'Negative', 'Negative', 'Negative', 'Negative', 'Negative', 'Negative', 'Negative', 'Negative', 'Negative', 'Negative', 'Negative', 'Negative', 'Negative', 'Negative', 'Negative', 'Negative', 'Negative', 'Negative', 'Negative', 'Negative', 'Negative', 'Negative', 'Negative', 'Negative', 'Negative', 'Negative', 'Negative', 'Negative', 'Negative', 'Negative', 'Negative', 'Negative', 'Negative', 'Negative', 'Negative', 'Negative', 'Negative', 'Negative', 'Negative', 'Negative', 'Negative', 'Negative', 'Negative', 'Negative', 'Negative', 'Negative', 'Negative', 'Negative', 'Negative', 'Negative', 'Negative', 'Negative', 'Negative', 'Negative', 'Negative', 'Negative', 'Negative', 'Negative', 'Negative', 'Negative', 'Negative', 'Negative', 'Negative', 'Negative', 'Negative', 'Negative', 'Negative', 'Negative', 'Negative', 'Negative', 'Negative', 'Negative', 'Negative', 'Negative', 'Negative', 'Negative', 'Negative', 'Negative', 'Negative', 'Negative', 'Negative', 'Negative', 'Negative', 'Negative', 'Negative', 'Negative', 'Negative', 'Negative', 'Negative', 'Negative', 'Negative', 'Negative', 'Negative', 'Negative', 'Negative', 'Negative', 'Negative', 'Negative', 'Negative', 'Negative', 'Negative', 'Negative', 'Negative', 'Negative', 'Negative', 'Negative', 'Negative', 'Negative', 'Negative', 'Negative', 'Negative', 'Negative', 'Negative', 'Negative', 'Negative', 'Negative', 'Negative', 'Negative', 'Negative', 'Negative', 'Negative', 'Negative', 'Negative', 'Negative', 'Negative', 'Negative', 'Negative', 'Negative', 'Negative', 'Negative', 'Negative', 'Negative', 'Negative', 'Negative', 'Negative', 'Negative', 'Negative', 'Negative', 'Negative', 'Negative', 'Negative', 'Negative', 'Negative', 'Negative', 'Negative', 'Negative', 'Negative', 'Negative', 'Negative', 'Negative', 'Negative', 'Negative', 'Negative', 'Negative', 'Negative', 'Negative', 'Negative', 'Negative', 'Negative', 'Negative', 'Negative', 'Negative', 'Negative', 'Negative', 'Negative', 'Negative', 'Negative', 'Negative', 'Negative', 'Negative', 'Negative', 'Negative', 'Negative', 'Negative', 'Negative', 'Negative', 'Negative', 'Negative', 'Negative', 'Negative', 'Negative', 'Negative', 'Negative', 'Negative', 'Negative', 'Negative', 'Negative', 'Negative', 'Negative']\n"
          ],
          "name": "stdout"
        }
      ]
    },
    {
      "cell_type": "code",
      "metadata": {
        "id": "G7rKo-Q6UQ6x"
      },
      "source": [
        "le=LabelEncoder()\n",
        "Labels=le.fit_transform(Labels)"
      ],
      "execution_count": null,
      "outputs": []
    },
    {
      "cell_type": "code",
      "metadata": {
        "id": "qWom9j2IUTa9"
      },
      "source": [
        "Images = np.array(Images)"
      ],
      "execution_count": null,
      "outputs": []
    },
    {
      "cell_type": "code",
      "metadata": {
        "id": "XzybP-qYUXuf",
        "colab": {
          "base_uri": "https://localhost:8080/"
        },
        "outputId": "3431041a-66b4-41cc-c617-f19185a08290"
      },
      "source": [
        "print(\"Label Vector:\",Labels)\n",
        "print(\"Length of Labels Vector:\",len(Labels))\n",
        "print(\"Shape of Images\",Images.shape)\n",
        "print(\"Number of Images:\",Images.shape)\n",
        "print(\"Size of Images: ({},{},{})\".format(Images.shape[1],Images.shape[2],Images.shape[3]))"
      ],
      "execution_count": null,
      "outputs": [
        {
          "output_type": "stream",
          "text": [
            "Label Vector: [1 1 1 ... 0 0 0]\n",
            "Length of Labels Vector: 3777\n",
            "Shape of Images (3777, 200, 200, 3)\n",
            "Number of Images: (3777, 200, 200, 3)\n",
            "Size of Images: (200,200,3)\n"
          ],
          "name": "stdout"
        }
      ]
    },
    {
      "cell_type": "code",
      "metadata": {
        "id": "VM5lOPvdUbfU"
      },
      "source": [
        "TrainImages , TestImages, TrainLabels, TestLabels = train_test_split(Images, Labels, test_size = 0.2, random_state = 2)\n",
        "TrainImages , ValidationImages, TrainLabels, ValidationLabels = train_test_split(TrainImages, TrainLabels, test_size = 0.25, random_state = 2)"
      ],
      "execution_count": null,
      "outputs": []
    },
    {
      "cell_type": "code",
      "metadata": {
        "id": "cegv8ppkUd3i",
        "colab": {
          "base_uri": "https://localhost:8080/"
        },
        "outputId": "2d6c74b8-a7e8-41f1-d711-6e5cb4280b61"
      },
      "source": [
        "print(\"Shape of Train Imgaes is:\",TrainImages.shape)\n",
        "print(\"Shape of Test Imgaes is:\",TestImages.shape)\n",
        "print(\"Shape of Validation Imgaes is:\",ValidationImages.shape)\n",
        "print(\"Length of Train Label Vector is:\",len(TrainLabels))\n",
        "print(\"Length of Test Label Vector is:\",len(TestLabels))\n",
        "print(\"Length of Validation Label Vector is:\",len(ValidationLabels))"
      ],
      "execution_count": null,
      "outputs": [
        {
          "output_type": "stream",
          "text": [
            "Shape of Train Imgaes is: (2265, 200, 200, 3)\n",
            "Shape of Test Imgaes is: (756, 200, 200, 3)\n",
            "Shape of Validation Imgaes is: (756, 200, 200, 3)\n",
            "Length of Train Label Vector is: 2265\n",
            "Length of Test Label Vector is: 756\n",
            "Length of Validation Label Vector is: 756\n"
          ],
          "name": "stdout"
        }
      ]
    },
    {
      "cell_type": "code",
      "metadata": {
        "id": "h5l-gEacUghm"
      },
      "source": [
        "dataGen = ImageDataGenerator(shear_range = 0.2,\n",
        "                             zoom_range = 0.1,\n",
        "                             validation_split=0.2)\n",
        "dataGen.fit(TrainImages)"
      ],
      "execution_count": null,
      "outputs": []
    },
    {
      "cell_type": "code",
      "metadata": {
        "id": "1gVqBkwbUi2Y",
        "colab": {
          "base_uri": "https://localhost:8080/"
        },
        "outputId": "416cf8eb-0d89-4d4a-94c9-346e2179e4c3"
      },
      "source": [
        "BatchSize = 16\n",
        "model = Sequential()\n",
        "\n",
        "model.add(Conv2D(32, (3,3), activation = 'relu', input_shape=(200,200,3)))\n",
        "model.add(MaxPool2D((2,2)))\n",
        "\n",
        "model.add(Conv2D(64, (3, 3), activation='relu')) \n",
        "model.add(MaxPool2D((2, 2)))\n",
        "\n",
        "model.add(Conv2D(128, (3, 3), activation='relu')) \n",
        "model.add(MaxPool2D((2, 2)))\n",
        "\n",
        "model.add(Conv2D(128, (3, 3), activation='relu')) \n",
        "model.add(MaxPool2D((2, 2)))\n",
        "\n",
        "model.add(Conv2D(128, (3, 3), activation='relu')) \n",
        "model.add(MaxPool2D((2, 2)))\n",
        "\n",
        "model.add(Flatten())\n",
        "\n",
        "model.add(Dropout(0.2))\n",
        "\n",
        "model.add(Dense(128, activation='relu'))\n",
        "\n",
        "model.add(Dropout(0.2))\n",
        "\n",
        "model.add(Dense(1, activation='sigmoid'))\n",
        "\n",
        "model.compile(loss = \"binary_crossentropy\", optimizer = \"Adam\", metrics = [\"accuracy\"])\n",
        "\n",
        "history = model.fit(dataGen.flow(TrainImages, TrainLabels, batch_size = BatchSize), \n",
        "                                           validation_data = (ValidationImages, ValidationLabels), epochs = 200,\n",
        "                                           steps_per_epoch = TrainImages.shape[0]//BatchSize, shuffle =1)"
      ],
      "execution_count": null,
      "outputs": [
        {
          "output_type": "stream",
          "text": [
            "Epoch 1/200\n",
            "141/141 [==============================] - 64s 140ms/step - loss: 14.2157 - accuracy: 0.6315 - val_loss: 0.6660 - val_accuracy: 0.7817\n",
            "Epoch 2/200\n",
            "141/141 [==============================] - 18s 126ms/step - loss: 0.5876 - accuracy: 0.7157 - val_loss: 0.5769 - val_accuracy: 0.7354\n",
            "Epoch 3/200\n",
            "141/141 [==============================] - 18s 126ms/step - loss: 0.5456 - accuracy: 0.7466 - val_loss: 0.5714 - val_accuracy: 0.8214\n",
            "Epoch 4/200\n",
            "141/141 [==============================] - 18s 127ms/step - loss: 0.5278 - accuracy: 0.7639 - val_loss: 0.5664 - val_accuracy: 0.7394\n",
            "Epoch 5/200\n",
            "141/141 [==============================] - 18s 126ms/step - loss: 0.5013 - accuracy: 0.7855 - val_loss: 0.5335 - val_accuracy: 0.7791\n",
            "Epoch 6/200\n",
            "141/141 [==============================] - 18s 126ms/step - loss: 0.4676 - accuracy: 0.8032 - val_loss: 0.4841 - val_accuracy: 0.7844\n",
            "Epoch 7/200\n",
            "141/141 [==============================] - 18s 126ms/step - loss: 0.4978 - accuracy: 0.7813 - val_loss: 0.4794 - val_accuracy: 0.8003\n",
            "Epoch 8/200\n",
            "141/141 [==============================] - 18s 128ms/step - loss: 0.4431 - accuracy: 0.8002 - val_loss: 0.5203 - val_accuracy: 0.7989\n",
            "Epoch 9/200\n",
            "141/141 [==============================] - 18s 129ms/step - loss: 0.4725 - accuracy: 0.8083 - val_loss: 0.4718 - val_accuracy: 0.8095\n",
            "Epoch 10/200\n",
            "141/141 [==============================] - 18s 129ms/step - loss: 0.4498 - accuracy: 0.8150 - val_loss: 0.4617 - val_accuracy: 0.8135\n",
            "Epoch 11/200\n",
            "141/141 [==============================] - 18s 129ms/step - loss: 0.4033 - accuracy: 0.8430 - val_loss: 0.4622 - val_accuracy: 0.8201\n",
            "Epoch 12/200\n",
            "141/141 [==============================] - 18s 130ms/step - loss: 0.4164 - accuracy: 0.8233 - val_loss: 0.4373 - val_accuracy: 0.8294\n",
            "Epoch 13/200\n",
            "141/141 [==============================] - 18s 131ms/step - loss: 0.3698 - accuracy: 0.8527 - val_loss: 0.4166 - val_accuracy: 0.8148\n",
            "Epoch 14/200\n",
            "141/141 [==============================] - 19s 132ms/step - loss: 0.3775 - accuracy: 0.8519 - val_loss: 0.4335 - val_accuracy: 0.8386\n",
            "Epoch 15/200\n",
            "141/141 [==============================] - 18s 131ms/step - loss: 0.3916 - accuracy: 0.8394 - val_loss: 0.4432 - val_accuracy: 0.8042\n",
            "Epoch 16/200\n",
            "141/141 [==============================] - 18s 131ms/step - loss: 0.3825 - accuracy: 0.8440 - val_loss: 0.4079 - val_accuracy: 0.8214\n",
            "Epoch 17/200\n",
            "141/141 [==============================] - 18s 129ms/step - loss: 0.3794 - accuracy: 0.8467 - val_loss: 0.4023 - val_accuracy: 0.8188\n",
            "Epoch 18/200\n",
            "141/141 [==============================] - 19s 132ms/step - loss: 0.3935 - accuracy: 0.8431 - val_loss: 0.4020 - val_accuracy: 0.8320\n",
            "Epoch 19/200\n",
            "141/141 [==============================] - 18s 130ms/step - loss: 0.3717 - accuracy: 0.8632 - val_loss: 0.3895 - val_accuracy: 0.8532\n",
            "Epoch 20/200\n",
            "141/141 [==============================] - 18s 129ms/step - loss: 0.3920 - accuracy: 0.8356 - val_loss: 0.4240 - val_accuracy: 0.8214\n",
            "Epoch 21/200\n",
            "141/141 [==============================] - 18s 128ms/step - loss: 0.3867 - accuracy: 0.8331 - val_loss: 0.3749 - val_accuracy: 0.8399\n",
            "Epoch 22/200\n",
            "141/141 [==============================] - 18s 128ms/step - loss: 0.3511 - accuracy: 0.8618 - val_loss: 0.3307 - val_accuracy: 0.8743\n",
            "Epoch 23/200\n",
            "141/141 [==============================] - 18s 128ms/step - loss: 0.3121 - accuracy: 0.8825 - val_loss: 0.3947 - val_accuracy: 0.8320\n",
            "Epoch 24/200\n",
            "141/141 [==============================] - 18s 128ms/step - loss: 0.3958 - accuracy: 0.8489 - val_loss: 0.3903 - val_accuracy: 0.8373\n",
            "Epoch 25/200\n",
            "141/141 [==============================] - 18s 128ms/step - loss: 0.3555 - accuracy: 0.8492 - val_loss: 0.3834 - val_accuracy: 0.8267\n",
            "Epoch 26/200\n",
            "141/141 [==============================] - 18s 127ms/step - loss: 0.3488 - accuracy: 0.8619 - val_loss: 0.3059 - val_accuracy: 0.8770\n",
            "Epoch 27/200\n",
            "141/141 [==============================] - 18s 127ms/step - loss: 0.3612 - accuracy: 0.8577 - val_loss: 0.3494 - val_accuracy: 0.8571\n",
            "Epoch 28/200\n",
            "141/141 [==============================] - 18s 127ms/step - loss: 0.3147 - accuracy: 0.8771 - val_loss: 0.3358 - val_accuracy: 0.8611\n",
            "Epoch 29/200\n",
            "141/141 [==============================] - 18s 126ms/step - loss: 0.3256 - accuracy: 0.8652 - val_loss: 0.3517 - val_accuracy: 0.8333\n",
            "Epoch 30/200\n",
            "141/141 [==============================] - 18s 127ms/step - loss: 0.3744 - accuracy: 0.8527 - val_loss: 0.3011 - val_accuracy: 0.8770\n",
            "Epoch 31/200\n",
            "141/141 [==============================] - 18s 128ms/step - loss: 0.2984 - accuracy: 0.8850 - val_loss: 0.3283 - val_accuracy: 0.8757\n",
            "Epoch 32/200\n",
            "141/141 [==============================] - 18s 128ms/step - loss: 0.3298 - accuracy: 0.8690 - val_loss: 0.3506 - val_accuracy: 0.8452\n",
            "Epoch 33/200\n",
            "141/141 [==============================] - 18s 127ms/step - loss: 0.3193 - accuracy: 0.8651 - val_loss: 0.3329 - val_accuracy: 0.8770\n",
            "Epoch 34/200\n",
            "141/141 [==============================] - 18s 127ms/step - loss: 0.2877 - accuracy: 0.8823 - val_loss: 0.3394 - val_accuracy: 0.8730\n",
            "Epoch 35/200\n",
            "141/141 [==============================] - 18s 130ms/step - loss: 0.3024 - accuracy: 0.8787 - val_loss: 0.3081 - val_accuracy: 0.8704\n",
            "Epoch 36/200\n",
            "141/141 [==============================] - 18s 129ms/step - loss: 0.2943 - accuracy: 0.8829 - val_loss: 0.3194 - val_accuracy: 0.8585\n",
            "Epoch 37/200\n",
            "141/141 [==============================] - 18s 127ms/step - loss: 0.2936 - accuracy: 0.8854 - val_loss: 0.3353 - val_accuracy: 0.8704\n",
            "Epoch 38/200\n",
            "141/141 [==============================] - 18s 127ms/step - loss: 0.2488 - accuracy: 0.9064 - val_loss: 0.3045 - val_accuracy: 0.8955\n",
            "Epoch 39/200\n",
            "141/141 [==============================] - 18s 128ms/step - loss: 0.2521 - accuracy: 0.9049 - val_loss: 0.3367 - val_accuracy: 0.8664\n",
            "Epoch 40/200\n",
            "141/141 [==============================] - 18s 128ms/step - loss: 0.2820 - accuracy: 0.8855 - val_loss: 0.2967 - val_accuracy: 0.8849\n",
            "Epoch 41/200\n",
            "141/141 [==============================] - 18s 129ms/step - loss: 0.2624 - accuracy: 0.9025 - val_loss: 0.2908 - val_accuracy: 0.8730\n",
            "Epoch 42/200\n",
            "141/141 [==============================] - 18s 130ms/step - loss: 0.2721 - accuracy: 0.8910 - val_loss: 0.3445 - val_accuracy: 0.8532\n",
            "Epoch 43/200\n",
            "141/141 [==============================] - 19s 131ms/step - loss: 0.2579 - accuracy: 0.9017 - val_loss: 0.2669 - val_accuracy: 0.8942\n",
            "Epoch 44/200\n",
            "141/141 [==============================] - 18s 130ms/step - loss: 0.2325 - accuracy: 0.8997 - val_loss: 0.2639 - val_accuracy: 0.9034\n",
            "Epoch 45/200\n",
            "141/141 [==============================] - 18s 130ms/step - loss: 0.2367 - accuracy: 0.9110 - val_loss: 0.2850 - val_accuracy: 0.9008\n",
            "Epoch 46/200\n",
            "141/141 [==============================] - 18s 128ms/step - loss: 0.2810 - accuracy: 0.8806 - val_loss: 0.3100 - val_accuracy: 0.8717\n",
            "Epoch 47/200\n",
            "141/141 [==============================] - 18s 129ms/step - loss: 0.2919 - accuracy: 0.8903 - val_loss: 0.3535 - val_accuracy: 0.8598\n",
            "Epoch 48/200\n",
            "141/141 [==============================] - 18s 130ms/step - loss: 0.2646 - accuracy: 0.8923 - val_loss: 0.2728 - val_accuracy: 0.8981\n",
            "Epoch 49/200\n",
            "141/141 [==============================] - 19s 132ms/step - loss: 0.2217 - accuracy: 0.9072 - val_loss: 0.3367 - val_accuracy: 0.8968\n",
            "Epoch 50/200\n",
            "141/141 [==============================] - 18s 131ms/step - loss: 0.2433 - accuracy: 0.8945 - val_loss: 0.2687 - val_accuracy: 0.9034\n",
            "Epoch 51/200\n",
            "141/141 [==============================] - 18s 129ms/step - loss: 0.2238 - accuracy: 0.9129 - val_loss: 0.2914 - val_accuracy: 0.9021\n",
            "Epoch 52/200\n",
            "141/141 [==============================] - 18s 130ms/step - loss: 0.2323 - accuracy: 0.9124 - val_loss: 0.2928 - val_accuracy: 0.8876\n",
            "Epoch 53/200\n",
            "141/141 [==============================] - 18s 127ms/step - loss: 0.2451 - accuracy: 0.9086 - val_loss: 0.3448 - val_accuracy: 0.8929\n",
            "Epoch 54/200\n",
            "141/141 [==============================] - 18s 131ms/step - loss: 0.2361 - accuracy: 0.9090 - val_loss: 0.2768 - val_accuracy: 0.8995\n",
            "Epoch 55/200\n",
            "141/141 [==============================] - 18s 127ms/step - loss: 0.2594 - accuracy: 0.8937 - val_loss: 0.2758 - val_accuracy: 0.8915\n",
            "Epoch 56/200\n",
            "141/141 [==============================] - 19s 132ms/step - loss: 0.1975 - accuracy: 0.9257 - val_loss: 0.2810 - val_accuracy: 0.8981\n",
            "Epoch 57/200\n",
            "141/141 [==============================] - 18s 131ms/step - loss: 0.2233 - accuracy: 0.9091 - val_loss: 0.2655 - val_accuracy: 0.8995\n",
            "Epoch 58/200\n",
            "141/141 [==============================] - 19s 135ms/step - loss: 0.2077 - accuracy: 0.9201 - val_loss: 0.2514 - val_accuracy: 0.9101\n",
            "Epoch 59/200\n",
            "141/141 [==============================] - 18s 128ms/step - loss: 0.1761 - accuracy: 0.9289 - val_loss: 0.2710 - val_accuracy: 0.8849\n",
            "Epoch 60/200\n",
            "141/141 [==============================] - 18s 129ms/step - loss: 0.1873 - accuracy: 0.9263 - val_loss: 0.2955 - val_accuracy: 0.8876\n",
            "Epoch 61/200\n",
            "141/141 [==============================] - 18s 129ms/step - loss: 0.2475 - accuracy: 0.8975 - val_loss: 0.2799 - val_accuracy: 0.8968\n",
            "Epoch 62/200\n",
            "141/141 [==============================] - 18s 127ms/step - loss: 0.2257 - accuracy: 0.9087 - val_loss: 0.3697 - val_accuracy: 0.8519\n",
            "Epoch 63/200\n",
            "141/141 [==============================] - 18s 129ms/step - loss: 0.3395 - accuracy: 0.8603 - val_loss: 0.2748 - val_accuracy: 0.8836\n",
            "Epoch 64/200\n",
            "141/141 [==============================] - 18s 128ms/step - loss: 0.2130 - accuracy: 0.9231 - val_loss: 0.2958 - val_accuracy: 0.8810\n",
            "Epoch 65/200\n",
            "141/141 [==============================] - 18s 129ms/step - loss: 0.2036 - accuracy: 0.9133 - val_loss: 0.3194 - val_accuracy: 0.8929\n",
            "Epoch 66/200\n",
            "141/141 [==============================] - 18s 128ms/step - loss: 0.2061 - accuracy: 0.9166 - val_loss: 0.3254 - val_accuracy: 0.8690\n",
            "Epoch 67/200\n",
            "141/141 [==============================] - 18s 128ms/step - loss: 0.1926 - accuracy: 0.9243 - val_loss: 0.2733 - val_accuracy: 0.9008\n",
            "Epoch 68/200\n",
            "141/141 [==============================] - 18s 126ms/step - loss: 0.2276 - accuracy: 0.9081 - val_loss: 0.2989 - val_accuracy: 0.8968\n",
            "Epoch 69/200\n",
            "141/141 [==============================] - 18s 127ms/step - loss: 0.2309 - accuracy: 0.9120 - val_loss: 0.2511 - val_accuracy: 0.8995\n",
            "Epoch 70/200\n",
            "141/141 [==============================] - 18s 127ms/step - loss: 0.2327 - accuracy: 0.9060 - val_loss: 0.3251 - val_accuracy: 0.8942\n",
            "Epoch 71/200\n",
            "141/141 [==============================] - 18s 128ms/step - loss: 0.2170 - accuracy: 0.9133 - val_loss: 0.2695 - val_accuracy: 0.8942\n",
            "Epoch 72/200\n",
            "141/141 [==============================] - 18s 128ms/step - loss: 0.2269 - accuracy: 0.9157 - val_loss: 0.2321 - val_accuracy: 0.9127\n",
            "Epoch 73/200\n",
            "141/141 [==============================] - 18s 128ms/step - loss: 0.1408 - accuracy: 0.9498 - val_loss: 0.2479 - val_accuracy: 0.9087\n",
            "Epoch 74/200\n",
            "141/141 [==============================] - 18s 130ms/step - loss: 0.1669 - accuracy: 0.9407 - val_loss: 0.2604 - val_accuracy: 0.8849\n",
            "Epoch 75/200\n",
            "141/141 [==============================] - 18s 130ms/step - loss: 0.1972 - accuracy: 0.9255 - val_loss: 0.2358 - val_accuracy: 0.9206\n",
            "Epoch 76/200\n",
            "141/141 [==============================] - 18s 130ms/step - loss: 0.1406 - accuracy: 0.9488 - val_loss: 0.2880 - val_accuracy: 0.8796\n",
            "Epoch 77/200\n",
            "141/141 [==============================] - 19s 131ms/step - loss: 0.2187 - accuracy: 0.9162 - val_loss: 0.2378 - val_accuracy: 0.9021\n",
            "Epoch 78/200\n",
            "141/141 [==============================] - 19s 131ms/step - loss: 0.1490 - accuracy: 0.9340 - val_loss: 0.3278 - val_accuracy: 0.8836\n",
            "Epoch 79/200\n",
            "141/141 [==============================] - 18s 131ms/step - loss: 0.1913 - accuracy: 0.9299 - val_loss: 0.2423 - val_accuracy: 0.8862\n",
            "Epoch 80/200\n",
            "141/141 [==============================] - 18s 131ms/step - loss: 0.2219 - accuracy: 0.9063 - val_loss: 0.2544 - val_accuracy: 0.9048\n",
            "Epoch 81/200\n",
            "141/141 [==============================] - 19s 131ms/step - loss: 0.1689 - accuracy: 0.9340 - val_loss: 0.3170 - val_accuracy: 0.9008\n",
            "Epoch 82/200\n",
            "141/141 [==============================] - 18s 130ms/step - loss: 0.1554 - accuracy: 0.9396 - val_loss: 0.3462 - val_accuracy: 0.8796\n",
            "Epoch 83/200\n",
            "141/141 [==============================] - 18s 129ms/step - loss: 0.1649 - accuracy: 0.9383 - val_loss: 0.2589 - val_accuracy: 0.9008\n",
            "Epoch 84/200\n",
            "141/141 [==============================] - 18s 130ms/step - loss: 0.1590 - accuracy: 0.9419 - val_loss: 0.2404 - val_accuracy: 0.9233\n",
            "Epoch 85/200\n",
            "141/141 [==============================] - 18s 129ms/step - loss: 0.1427 - accuracy: 0.9517 - val_loss: 0.2410 - val_accuracy: 0.9153\n",
            "Epoch 86/200\n",
            "141/141 [==============================] - 18s 129ms/step - loss: 0.1393 - accuracy: 0.9411 - val_loss: 0.2297 - val_accuracy: 0.9180\n",
            "Epoch 87/200\n",
            "141/141 [==============================] - 18s 130ms/step - loss: 0.1578 - accuracy: 0.9428 - val_loss: 0.3327 - val_accuracy: 0.8862\n",
            "Epoch 88/200\n",
            "141/141 [==============================] - 18s 131ms/step - loss: 0.2336 - accuracy: 0.9209 - val_loss: 0.2740 - val_accuracy: 0.8981\n",
            "Epoch 89/200\n",
            "141/141 [==============================] - 19s 132ms/step - loss: 0.1930 - accuracy: 0.9288 - val_loss: 0.2539 - val_accuracy: 0.9061\n",
            "Epoch 90/200\n",
            "141/141 [==============================] - 18s 131ms/step - loss: 0.1527 - accuracy: 0.9448 - val_loss: 0.2475 - val_accuracy: 0.9101\n",
            "Epoch 91/200\n",
            "141/141 [==============================] - 18s 129ms/step - loss: 0.1255 - accuracy: 0.9590 - val_loss: 0.3140 - val_accuracy: 0.8783\n",
            "Epoch 92/200\n",
            "141/141 [==============================] - 18s 129ms/step - loss: 0.1502 - accuracy: 0.9422 - val_loss: 0.2617 - val_accuracy: 0.9021\n",
            "Epoch 93/200\n",
            "141/141 [==============================] - 18s 128ms/step - loss: 0.1484 - accuracy: 0.9372 - val_loss: 0.3279 - val_accuracy: 0.8849\n",
            "Epoch 94/200\n",
            "141/141 [==============================] - 18s 128ms/step - loss: 0.1974 - accuracy: 0.9356 - val_loss: 0.2762 - val_accuracy: 0.9206\n",
            "Epoch 95/200\n",
            "141/141 [==============================] - 18s 127ms/step - loss: 0.1591 - accuracy: 0.9339 - val_loss: 0.2765 - val_accuracy: 0.9101\n",
            "Epoch 96/200\n",
            "141/141 [==============================] - 18s 129ms/step - loss: 0.1366 - accuracy: 0.9479 - val_loss: 0.2406 - val_accuracy: 0.9048\n",
            "Epoch 97/200\n",
            "141/141 [==============================] - 18s 128ms/step - loss: 0.1601 - accuracy: 0.9346 - val_loss: 0.2535 - val_accuracy: 0.9114\n",
            "Epoch 98/200\n",
            "141/141 [==============================] - 18s 128ms/step - loss: 0.1704 - accuracy: 0.9426 - val_loss: 0.2820 - val_accuracy: 0.9034\n",
            "Epoch 99/200\n",
            "141/141 [==============================] - 18s 127ms/step - loss: 0.1871 - accuracy: 0.9301 - val_loss: 0.2424 - val_accuracy: 0.9114\n",
            "Epoch 100/200\n",
            "141/141 [==============================] - 18s 127ms/step - loss: 0.1393 - accuracy: 0.9468 - val_loss: 0.2335 - val_accuracy: 0.9101\n",
            "Epoch 101/200\n",
            "141/141 [==============================] - 18s 129ms/step - loss: 0.1693 - accuracy: 0.9368 - val_loss: 0.2178 - val_accuracy: 0.9127\n",
            "Epoch 102/200\n",
            "141/141 [==============================] - 18s 128ms/step - loss: 0.1462 - accuracy: 0.9434 - val_loss: 0.2900 - val_accuracy: 0.8929\n",
            "Epoch 103/200\n",
            "141/141 [==============================] - 18s 129ms/step - loss: 0.1378 - accuracy: 0.9499 - val_loss: 0.3231 - val_accuracy: 0.8796\n",
            "Epoch 104/200\n",
            "141/141 [==============================] - 18s 130ms/step - loss: 0.1891 - accuracy: 0.9285 - val_loss: 0.2296 - val_accuracy: 0.9193\n",
            "Epoch 105/200\n",
            "141/141 [==============================] - 18s 130ms/step - loss: 0.1293 - accuracy: 0.9485 - val_loss: 0.2667 - val_accuracy: 0.9008\n",
            "Epoch 106/200\n",
            "141/141 [==============================] - 18s 131ms/step - loss: 0.1255 - accuracy: 0.9514 - val_loss: 0.2484 - val_accuracy: 0.9246\n",
            "Epoch 107/200\n",
            "141/141 [==============================] - 18s 129ms/step - loss: 0.1274 - accuracy: 0.9528 - val_loss: 0.3035 - val_accuracy: 0.8915\n",
            "Epoch 108/200\n",
            "141/141 [==============================] - 18s 130ms/step - loss: 0.1196 - accuracy: 0.9577 - val_loss: 0.2489 - val_accuracy: 0.9074\n",
            "Epoch 109/200\n",
            "141/141 [==============================] - 18s 131ms/step - loss: 0.1236 - accuracy: 0.9503 - val_loss: 0.2428 - val_accuracy: 0.9140\n",
            "Epoch 110/200\n",
            "141/141 [==============================] - 18s 130ms/step - loss: 0.1463 - accuracy: 0.9459 - val_loss: 0.2499 - val_accuracy: 0.9008\n",
            "Epoch 111/200\n",
            "141/141 [==============================] - 18s 129ms/step - loss: 0.1470 - accuracy: 0.9461 - val_loss: 0.3845 - val_accuracy: 0.8624\n",
            "Epoch 112/200\n",
            "141/141 [==============================] - 18s 129ms/step - loss: 0.2272 - accuracy: 0.9236 - val_loss: 0.2094 - val_accuracy: 0.9246\n",
            "Epoch 113/200\n",
            "141/141 [==============================] - 18s 129ms/step - loss: 0.1213 - accuracy: 0.9512 - val_loss: 0.2221 - val_accuracy: 0.9193\n",
            "Epoch 114/200\n",
            "141/141 [==============================] - 18s 128ms/step - loss: 0.1106 - accuracy: 0.9578 - val_loss: 0.2538 - val_accuracy: 0.9048\n",
            "Epoch 115/200\n",
            "141/141 [==============================] - 18s 128ms/step - loss: 0.1704 - accuracy: 0.9348 - val_loss: 0.3385 - val_accuracy: 0.9087\n",
            "Epoch 116/200\n",
            "141/141 [==============================] - 18s 128ms/step - loss: 0.1246 - accuracy: 0.9517 - val_loss: 0.2901 - val_accuracy: 0.8862\n",
            "Epoch 117/200\n",
            "141/141 [==============================] - 18s 128ms/step - loss: 0.1519 - accuracy: 0.9430 - val_loss: 0.2301 - val_accuracy: 0.9233\n",
            "Epoch 118/200\n",
            "141/141 [==============================] - 18s 129ms/step - loss: 0.1529 - accuracy: 0.9442 - val_loss: 0.2390 - val_accuracy: 0.9114\n",
            "Epoch 119/200\n",
            "141/141 [==============================] - 18s 129ms/step - loss: 0.1422 - accuracy: 0.9586 - val_loss: 0.2473 - val_accuracy: 0.9101\n",
            "Epoch 120/200\n",
            "141/141 [==============================] - 18s 130ms/step - loss: 0.1241 - accuracy: 0.9548 - val_loss: 0.2465 - val_accuracy: 0.9153\n",
            "Epoch 121/200\n",
            "141/141 [==============================] - 18s 129ms/step - loss: 0.0982 - accuracy: 0.9609 - val_loss: 0.2371 - val_accuracy: 0.9220\n",
            "Epoch 122/200\n",
            "141/141 [==============================] - 18s 129ms/step - loss: 0.0904 - accuracy: 0.9673 - val_loss: 0.2304 - val_accuracy: 0.9193\n",
            "Epoch 123/200\n",
            "141/141 [==============================] - 18s 128ms/step - loss: 0.1099 - accuracy: 0.9584 - val_loss: 0.2413 - val_accuracy: 0.9193\n",
            "Epoch 124/200\n",
            "141/141 [==============================] - 18s 127ms/step - loss: 0.0924 - accuracy: 0.9639 - val_loss: 0.2837 - val_accuracy: 0.8968\n",
            "Epoch 125/200\n",
            "141/141 [==============================] - 18s 128ms/step - loss: 0.1876 - accuracy: 0.9370 - val_loss: 0.4046 - val_accuracy: 0.8929\n",
            "Epoch 126/200\n",
            "141/141 [==============================] - 18s 128ms/step - loss: 0.1116 - accuracy: 0.9564 - val_loss: 0.2567 - val_accuracy: 0.9074\n",
            "Epoch 127/200\n",
            "141/141 [==============================] - 18s 129ms/step - loss: 0.1422 - accuracy: 0.9468 - val_loss: 0.2384 - val_accuracy: 0.9193\n",
            "Epoch 128/200\n",
            "141/141 [==============================] - 18s 127ms/step - loss: 0.0832 - accuracy: 0.9684 - val_loss: 0.3013 - val_accuracy: 0.9127\n",
            "Epoch 129/200\n",
            "141/141 [==============================] - 18s 128ms/step - loss: 0.0877 - accuracy: 0.9658 - val_loss: 0.3171 - val_accuracy: 0.8876\n",
            "Epoch 130/200\n",
            "141/141 [==============================] - 18s 129ms/step - loss: 0.1922 - accuracy: 0.9332 - val_loss: 0.2607 - val_accuracy: 0.9140\n",
            "Epoch 131/200\n",
            "141/141 [==============================] - 18s 127ms/step - loss: 0.1054 - accuracy: 0.9629 - val_loss: 0.2602 - val_accuracy: 0.9127\n",
            "Epoch 132/200\n",
            "141/141 [==============================] - 18s 127ms/step - loss: 0.1380 - accuracy: 0.9449 - val_loss: 0.2077 - val_accuracy: 0.9233\n",
            "Epoch 133/200\n",
            "141/141 [==============================] - 18s 128ms/step - loss: 0.0872 - accuracy: 0.9690 - val_loss: 0.2244 - val_accuracy: 0.9233\n",
            "Epoch 134/200\n",
            "141/141 [==============================] - 18s 129ms/step - loss: 0.1706 - accuracy: 0.9437 - val_loss: 0.2290 - val_accuracy: 0.9153\n",
            "Epoch 135/200\n",
            "141/141 [==============================] - 19s 131ms/step - loss: 0.1074 - accuracy: 0.9549 - val_loss: 0.2718 - val_accuracy: 0.9180\n",
            "Epoch 136/200\n",
            "141/141 [==============================] - 19s 132ms/step - loss: 0.1525 - accuracy: 0.9472 - val_loss: 0.2608 - val_accuracy: 0.8995\n",
            "Epoch 137/200\n",
            "141/141 [==============================] - 19s 132ms/step - loss: 0.1143 - accuracy: 0.9555 - val_loss: 0.2834 - val_accuracy: 0.9114\n",
            "Epoch 138/200\n",
            "141/141 [==============================] - 18s 131ms/step - loss: 0.1350 - accuracy: 0.9535 - val_loss: 0.2229 - val_accuracy: 0.9272\n",
            "Epoch 139/200\n",
            "141/141 [==============================] - 19s 132ms/step - loss: 0.1254 - accuracy: 0.9582 - val_loss: 0.2250 - val_accuracy: 0.9140\n",
            "Epoch 140/200\n",
            "141/141 [==============================] - 19s 132ms/step - loss: 0.1194 - accuracy: 0.9535 - val_loss: 0.3154 - val_accuracy: 0.8889\n",
            "Epoch 141/200\n",
            "141/141 [==============================] - 18s 130ms/step - loss: 0.1037 - accuracy: 0.9608 - val_loss: 0.2536 - val_accuracy: 0.9114\n",
            "Epoch 142/200\n",
            "141/141 [==============================] - 19s 132ms/step - loss: 0.1216 - accuracy: 0.9547 - val_loss: 0.2323 - val_accuracy: 0.9220\n",
            "Epoch 143/200\n",
            "141/141 [==============================] - 19s 132ms/step - loss: 0.1033 - accuracy: 0.9622 - val_loss: 0.2205 - val_accuracy: 0.9299\n",
            "Epoch 144/200\n",
            "141/141 [==============================] - 18s 131ms/step - loss: 0.0984 - accuracy: 0.9587 - val_loss: 0.2531 - val_accuracy: 0.9339\n",
            "Epoch 145/200\n",
            "141/141 [==============================] - 19s 131ms/step - loss: 0.1021 - accuracy: 0.9636 - val_loss: 0.2320 - val_accuracy: 0.9312\n",
            "Epoch 146/200\n",
            "141/141 [==============================] - 18s 130ms/step - loss: 0.0962 - accuracy: 0.9626 - val_loss: 0.2316 - val_accuracy: 0.9339\n",
            "Epoch 147/200\n",
            "141/141 [==============================] - 18s 130ms/step - loss: 0.0963 - accuracy: 0.9590 - val_loss: 0.2369 - val_accuracy: 0.9259\n",
            "Epoch 148/200\n",
            "141/141 [==============================] - 18s 129ms/step - loss: 0.1160 - accuracy: 0.9608 - val_loss: 0.2460 - val_accuracy: 0.9206\n",
            "Epoch 149/200\n",
            "141/141 [==============================] - 18s 129ms/step - loss: 0.1160 - accuracy: 0.9527 - val_loss: 0.2214 - val_accuracy: 0.9220\n",
            "Epoch 150/200\n",
            "141/141 [==============================] - 18s 131ms/step - loss: 0.0786 - accuracy: 0.9692 - val_loss: 0.3200 - val_accuracy: 0.9008\n",
            "Epoch 151/200\n",
            "141/141 [==============================] - 18s 130ms/step - loss: 0.1168 - accuracy: 0.9566 - val_loss: 0.2326 - val_accuracy: 0.9140\n",
            "Epoch 152/200\n",
            "141/141 [==============================] - 18s 130ms/step - loss: 0.1287 - accuracy: 0.9476 - val_loss: 0.2667 - val_accuracy: 0.9087\n",
            "Epoch 153/200\n",
            "141/141 [==============================] - 18s 130ms/step - loss: 0.1467 - accuracy: 0.9472 - val_loss: 0.2653 - val_accuracy: 0.9167\n",
            "Epoch 154/200\n",
            "141/141 [==============================] - 18s 131ms/step - loss: 0.0859 - accuracy: 0.9718 - val_loss: 0.2548 - val_accuracy: 0.9312\n",
            "Epoch 155/200\n",
            "141/141 [==============================] - 18s 129ms/step - loss: 0.0726 - accuracy: 0.9715 - val_loss: 0.4894 - val_accuracy: 0.8929\n",
            "Epoch 156/200\n",
            "141/141 [==============================] - 18s 129ms/step - loss: 0.0996 - accuracy: 0.9645 - val_loss: 0.2936 - val_accuracy: 0.9061\n",
            "Epoch 157/200\n",
            "141/141 [==============================] - 18s 128ms/step - loss: 0.1032 - accuracy: 0.9549 - val_loss: 0.2374 - val_accuracy: 0.9286\n",
            "Epoch 158/200\n",
            "141/141 [==============================] - 18s 126ms/step - loss: 0.1010 - accuracy: 0.9678 - val_loss: 0.4099 - val_accuracy: 0.9008\n",
            "Epoch 159/200\n",
            "141/141 [==============================] - 18s 128ms/step - loss: 0.1058 - accuracy: 0.9650 - val_loss: 0.2265 - val_accuracy: 0.9312\n",
            "Epoch 160/200\n",
            "141/141 [==============================] - 18s 129ms/step - loss: 0.0686 - accuracy: 0.9717 - val_loss: 0.2906 - val_accuracy: 0.9246\n",
            "Epoch 161/200\n",
            "141/141 [==============================] - 18s 129ms/step - loss: 0.0897 - accuracy: 0.9667 - val_loss: 0.3227 - val_accuracy: 0.9101\n",
            "Epoch 162/200\n",
            "141/141 [==============================] - 18s 127ms/step - loss: 0.0965 - accuracy: 0.9637 - val_loss: 0.2255 - val_accuracy: 0.9127\n",
            "Epoch 163/200\n",
            "141/141 [==============================] - 18s 127ms/step - loss: 0.1212 - accuracy: 0.9595 - val_loss: 0.2479 - val_accuracy: 0.9299\n",
            "Epoch 164/200\n",
            "141/141 [==============================] - 18s 127ms/step - loss: 0.1138 - accuracy: 0.9556 - val_loss: 0.2776 - val_accuracy: 0.9193\n",
            "Epoch 165/200\n",
            "141/141 [==============================] - 18s 129ms/step - loss: 0.1157 - accuracy: 0.9627 - val_loss: 0.3385 - val_accuracy: 0.9048\n",
            "Epoch 166/200\n",
            "141/141 [==============================] - 18s 130ms/step - loss: 0.1182 - accuracy: 0.9641 - val_loss: 0.2836 - val_accuracy: 0.9167\n",
            "Epoch 167/200\n",
            "141/141 [==============================] - 18s 130ms/step - loss: 0.1230 - accuracy: 0.9501 - val_loss: 0.2385 - val_accuracy: 0.9220\n",
            "Epoch 168/200\n",
            "141/141 [==============================] - 19s 131ms/step - loss: 0.1280 - accuracy: 0.9563 - val_loss: 0.2320 - val_accuracy: 0.9167\n",
            "Epoch 169/200\n",
            "141/141 [==============================] - 19s 131ms/step - loss: 0.1139 - accuracy: 0.9543 - val_loss: 0.2539 - val_accuracy: 0.9233\n",
            "Epoch 170/200\n",
            "141/141 [==============================] - 18s 131ms/step - loss: 0.1075 - accuracy: 0.9618 - val_loss: 0.2712 - val_accuracy: 0.8995\n",
            "Epoch 171/200\n",
            "141/141 [==============================] - 18s 129ms/step - loss: 0.1224 - accuracy: 0.9574 - val_loss: 0.2193 - val_accuracy: 0.9325\n",
            "Epoch 172/200\n",
            "141/141 [==============================] - 18s 129ms/step - loss: 0.0777 - accuracy: 0.9688 - val_loss: 0.2321 - val_accuracy: 0.9325\n",
            "Epoch 173/200\n",
            "141/141 [==============================] - 18s 130ms/step - loss: 0.1058 - accuracy: 0.9609 - val_loss: 0.2808 - val_accuracy: 0.9167\n",
            "Epoch 174/200\n",
            "141/141 [==============================] - 18s 128ms/step - loss: 0.0753 - accuracy: 0.9720 - val_loss: 0.3739 - val_accuracy: 0.9087\n",
            "Epoch 175/200\n",
            "141/141 [==============================] - 18s 127ms/step - loss: 0.0848 - accuracy: 0.9709 - val_loss: 0.2515 - val_accuracy: 0.9312\n",
            "Epoch 176/200\n",
            "141/141 [==============================] - 18s 127ms/step - loss: 0.1308 - accuracy: 0.9589 - val_loss: 0.2537 - val_accuracy: 0.9299\n",
            "Epoch 177/200\n",
            "141/141 [==============================] - 18s 127ms/step - loss: 0.0964 - accuracy: 0.9667 - val_loss: 0.2471 - val_accuracy: 0.9365\n",
            "Epoch 178/200\n",
            "141/141 [==============================] - 18s 127ms/step - loss: 0.1426 - accuracy: 0.9413 - val_loss: 0.2377 - val_accuracy: 0.9339\n",
            "Epoch 179/200\n",
            "141/141 [==============================] - 18s 127ms/step - loss: 0.0915 - accuracy: 0.9708 - val_loss: 0.2596 - val_accuracy: 0.9087\n",
            "Epoch 180/200\n",
            "141/141 [==============================] - 18s 129ms/step - loss: 0.0888 - accuracy: 0.9682 - val_loss: 0.2702 - val_accuracy: 0.9193\n",
            "Epoch 181/200\n",
            "141/141 [==============================] - 18s 130ms/step - loss: 0.0923 - accuracy: 0.9685 - val_loss: 0.2272 - val_accuracy: 0.9325\n",
            "Epoch 182/200\n",
            "141/141 [==============================] - 18s 129ms/step - loss: 0.1852 - accuracy: 0.9375 - val_loss: 0.2676 - val_accuracy: 0.9140\n",
            "Epoch 183/200\n",
            "141/141 [==============================] - 18s 128ms/step - loss: 0.1194 - accuracy: 0.9595 - val_loss: 0.3021 - val_accuracy: 0.9167\n",
            "Epoch 184/200\n",
            "141/141 [==============================] - 18s 126ms/step - loss: 0.1004 - accuracy: 0.9653 - val_loss: 0.2505 - val_accuracy: 0.9259\n",
            "Epoch 185/200\n",
            "141/141 [==============================] - 18s 127ms/step - loss: 0.0863 - accuracy: 0.9651 - val_loss: 0.2414 - val_accuracy: 0.9220\n",
            "Epoch 186/200\n",
            "141/141 [==============================] - 18s 127ms/step - loss: 0.1204 - accuracy: 0.9629 - val_loss: 0.2223 - val_accuracy: 0.9405\n",
            "Epoch 187/200\n",
            "141/141 [==============================] - 18s 127ms/step - loss: 0.0763 - accuracy: 0.9721 - val_loss: 0.2461 - val_accuracy: 0.9286\n",
            "Epoch 188/200\n",
            "141/141 [==============================] - 18s 127ms/step - loss: 0.0909 - accuracy: 0.9638 - val_loss: 0.2309 - val_accuracy: 0.9312\n",
            "Epoch 189/200\n",
            "141/141 [==============================] - 18s 126ms/step - loss: 0.0940 - accuracy: 0.9676 - val_loss: 0.3487 - val_accuracy: 0.9127\n",
            "Epoch 190/200\n",
            "141/141 [==============================] - 18s 127ms/step - loss: 0.1423 - accuracy: 0.9528 - val_loss: 0.2711 - val_accuracy: 0.9246\n",
            "Epoch 191/200\n",
            "141/141 [==============================] - 18s 126ms/step - loss: 0.1268 - accuracy: 0.9565 - val_loss: 0.2786 - val_accuracy: 0.9325\n",
            "Epoch 192/200\n",
            "141/141 [==============================] - 18s 126ms/step - loss: 0.0616 - accuracy: 0.9737 - val_loss: 0.2180 - val_accuracy: 0.9286\n",
            "Epoch 193/200\n",
            "141/141 [==============================] - 18s 127ms/step - loss: 0.0750 - accuracy: 0.9705 - val_loss: 0.2668 - val_accuracy: 0.9365\n",
            "Epoch 194/200\n",
            "141/141 [==============================] - 18s 126ms/step - loss: 0.1034 - accuracy: 0.9695 - val_loss: 0.3074 - val_accuracy: 0.9140\n",
            "Epoch 195/200\n",
            "141/141 [==============================] - 18s 128ms/step - loss: 0.1085 - accuracy: 0.9673 - val_loss: 0.3603 - val_accuracy: 0.9087\n",
            "Epoch 196/200\n",
            "141/141 [==============================] - 18s 128ms/step - loss: 0.1175 - accuracy: 0.9654 - val_loss: 0.2753 - val_accuracy: 0.9180\n",
            "Epoch 197/200\n",
            "141/141 [==============================] - 18s 129ms/step - loss: 0.1017 - accuracy: 0.9580 - val_loss: 0.2694 - val_accuracy: 0.9233\n",
            "Epoch 198/200\n",
            "141/141 [==============================] - 18s 130ms/step - loss: 0.0861 - accuracy: 0.9710 - val_loss: 0.2696 - val_accuracy: 0.9153\n",
            "Epoch 199/200\n",
            "141/141 [==============================] - 18s 130ms/step - loss: 0.1332 - accuracy: 0.9555 - val_loss: 0.2173 - val_accuracy: 0.9286\n",
            "Epoch 200/200\n",
            "141/141 [==============================] - 18s 130ms/step - loss: 0.1432 - accuracy: 0.9483 - val_loss: 0.2076 - val_accuracy: 0.9365\n"
          ],
          "name": "stdout"
        }
      ]
    },
    {
      "cell_type": "code",
      "metadata": {
        "id": "zEGaAtfxUlJ3",
        "colab": {
          "base_uri": "https://localhost:8080/"
        },
        "outputId": "5fc2803f-5043-4130-c608-5cb58b98b31a"
      },
      "source": [
        "TrainScore = model.evaluate(TrainImages,TrainLabels)\n",
        "print(\"Loss of Training: %{}\".format(TrainScore[0]*100))\n",
        "print(\"Accuracy of Training: %{}\".format(TrainScore[1]*100))"
      ],
      "execution_count": null,
      "outputs": [
        {
          "output_type": "stream",
          "text": [
            "71/71 [==============================] - 1s 17ms/step - loss: 0.0666 - accuracy: 0.9784\n",
            "Loss of Training: %6.6573843359947205\n",
            "Accuracy of Training: %97.83664345741272\n"
          ],
          "name": "stdout"
        }
      ]
    },
    {
      "cell_type": "code",
      "metadata": {
        "id": "Q5IZiaXdUqWl",
        "colab": {
          "base_uri": "https://localhost:8080/"
        },
        "outputId": "266dcab9-9f12-432b-f8ef-0482ebf693e0"
      },
      "source": [
        "ValidationScore = model.evaluate(ValidationImages,ValidationLabels)\n",
        "print(\"Loss of Validation: %{}\".format(ValidationScore[0]*100))\n",
        "print(\"Accuracy of Validation: %{}\".format(ValidationScore[1]*100))"
      ],
      "execution_count": null,
      "outputs": [
        {
          "output_type": "stream",
          "text": [
            "24/24 [==============================] - 0s 12ms/step - loss: 0.2076 - accuracy: 0.9365\n",
            "Loss of Validation: %20.762577652931213\n",
            "Accuracy of Validation: %93.65079402923584\n"
          ],
          "name": "stdout"
        }
      ]
    },
    {
      "cell_type": "code",
      "metadata": {
        "id": "AkkfdaumUsRl",
        "colab": {
          "base_uri": "https://localhost:8080/"
        },
        "outputId": "16c917e0-b506-4885-a68d-7c1f50aaaabd"
      },
      "source": [
        "TestScore = model.evaluate(TestImages,TestLabels)\n",
        "print(\"Loss of Test: %{}\".format(TestScore[0]*100))\n",
        "print(\"Accuracy of Test: %{}\".format(TestScore[1]*100))"
      ],
      "execution_count": null,
      "outputs": [
        {
          "output_type": "stream",
          "text": [
            "24/24 [==============================] - 0s 13ms/step - loss: 0.2934 - accuracy: 0.9167\n",
            "Loss of Test: %29.34255301952362\n",
            "Accuracy of Test: %91.66666865348816\n"
          ],
          "name": "stdout"
        }
      ]
    },
    {
      "cell_type": "code",
      "metadata": {
        "colab": {
          "base_uri": "https://localhost:8080/",
          "height": 312
        },
        "id": "qcKLH908AZiB",
        "outputId": "9503bbf1-c497-47bb-c796-c3c2d345e257"
      },
      "source": [
        "plt.plot(history.history['accuracy'], label='Training Accuracy')\n",
        "plt.plot(history.history['val_accuracy'], label = 'Validation Accuracy')\n",
        "plt.title('Training and Validation Accuracy'), plt.ylabel('Accuracy'), plt.xlabel('Epoch')\n",
        "plt.legend(loc='lower right'), plt.ylim([0.5, 1]), plt.grid()\n",
        "plt.savefig(\"/content/drive/MyDrive/PHOTOS/EightCodeWithTestAndValidationMatrix/ValidationTrainingAccuracy.png\")"
      ],
      "execution_count": null,
      "outputs": [
        {
          "output_type": "execute_result",
          "data": {
            "text/plain": [
              "(<matplotlib.legend.Legend at 0x7f3db3010a50>, (0.5, 1.0), None)"
            ]
          },
          "metadata": {
            "tags": []
          },
          "execution_count": 20
        },
        {
          "output_type": "display_data",
          "data": {
            "image/png": "[encoded data removed]",
            "text/plain": [
              "<Figure size 432x288 with 1 Axes>"
            ]
          },
          "metadata": {
            "tags": [],
            "needs_background": "light"
          }
        }
      ]
    },
    {
      "cell_type": "code",
      "metadata": {
        "colab": {
          "base_uri": "https://localhost:8080/",
          "height": 312
        },
        "id": "qLQeYij0AZvf",
        "outputId": "02c6eda9-468f-46b2-b871-2582760597ae"
      },
      "source": [
        "plt.plot(history.history['loss'], label='Training Loss')\n",
        "plt.plot(history.history['val_loss'], label = 'Validation Loss')\n",
        "plt.xlabel('Epoch'), plt.ylabel('Loss'), plt.title('Training and Validation Loss')\n",
        "plt.legend(loc='upper right'), plt.ylim([0, 3]), plt.grid()\n",
        "plt.savefig(\"/content/drive/MyDrive/PHOTOS/EightCodeWithTestAndValidationMatrix/ValidationTrainingLoss.png\")"
      ],
      "execution_count": null,
      "outputs": [
        {
          "output_type": "execute_result",
          "data": {
            "text/plain": [
              "(<matplotlib.legend.Legend at 0x7f3db30add90>, (0.0, 3.0), None)"
            ]
          },
          "metadata": {
            "tags": []
          },
          "execution_count": 21
        },
        {
          "output_type": "display_data",
          "data": {
            "image/png": "[encoded data removed]",
            "text/plain": [
              "<Figure size 432x288 with 1 Axes>"
            ]
          },
          "metadata": {
            "tags": [],
            "needs_background": "light"
          }
        }
      ]
    },
    {
      "cell_type": "code",
      "metadata": {
        "id": "FKYniupDJe-0",
        "colab": {
          "base_uri": "https://localhost:8080/"
        },
        "outputId": "79f3c2e3-2178-4b54-c0bf-06453d13b9a8"
      },
      "source": [
        "PredictionTestLabels = model.predict(TestImages)\n",
        "PredictionTestLabels=np.round(PredictionTestLabels)\n",
        "ConfusionTestMatrix = confusion_matrix(TestLabels, PredictionTestLabels)\n",
        "print(\"Confusion matrix : \\n\",ConfusionTestMatrix)\n",
        "\n",
        "TN, FP, FN, TP = confusion_matrix(TestLabels, PredictionTestLabels).ravel()\n",
        "print('\\nTrue Positive : {}\\nFalse Negative: {}\\nFalse Positive: {}\\nTrue Negative: {}'.format(TP, FN, FP, TN))\n",
        "\n",
        "TestPrecisionValue = TP / (TP+FP)\n",
        "TestRecallValue = TP / (TP+FN)\n",
        "TestAccurayValue = (TP + TN) /(TP + FN + FP + TN)\n",
        "TestF1Score =   2 * (TestPrecisionValue * TestRecallValue) / (TestPrecisionValue + TestRecallValue)\n",
        "print(\"\\nPresicion: %{:.2f}\\nRecall: %{:.2f}\\nAccuracy: %{:.2f}\\nF1-Score: %{:.2f}\".format(TestPrecisionValue*100,TestRecallValue*100,TestAccurayValue*100,TestF1Score*100))\n",
        "\n",
        "TestTable = classification_report(TestLabels,PredictionTestLabels,labels=[1,0])\n",
        "print(\"Classification report : \\n\\n\",TestTable)"
      ],
      "execution_count": null,
      "outputs": [
        {
          "output_type": "stream",
          "text": [
            "Confusion matrix : \n",
            " [[518  14]\n",
            " [ 49 175]]\n",
            "\n",
            "True Positive : 175\n",
            "False Negative: 49\n",
            "False Positive: 14\n",
            "True Negative: 518\n",
            "\n",
            "Presicion: %92.59\n",
            "Recall: %78.12\n",
            "Accuracy: %91.67\n",
            "F1-Score: %84.75\n",
            "Classification report : \n",
            "\n",
            "               precision    recall  f1-score   support\n",
            "\n",
            "           1       0.93      0.78      0.85       224\n",
            "           0       0.91      0.97      0.94       532\n",
            "\n",
            "    accuracy                           0.92       756\n",
            "   macro avg       0.92      0.88      0.90       756\n",
            "weighted avg       0.92      0.92      0.91       756\n",
            "\n"
          ],
          "name": "stdout"
        }
      ]
    }
  ]
}