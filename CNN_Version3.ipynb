{
  "nbformat": 4,
  "nbformat_minor": 0,
  "metadata": {
    "colab": {
      "name": "Version3.ipynb adlı not defterinin kopyası",
      "provenance": [],
      "collapsed_sections": []
    },
    "kernelspec": {
      "name": "python3",
      "display_name": "Python 3"
    },
    "language_info": {
      "name": "python"
    },
    "accelerator": "GPU"
  },
  "cells": [
    {
      "cell_type": "code",
      "metadata": {
        "id": "JALkbPEUKbHs"
      },
      "source": [
        "from keras.layers import Dense,Dropout,Flatten,Conv2D,MaxPool2D,Activation\n",
        "from keras.preprocessing.image import ImageDataGenerator\n",
        "from keras.models import Sequential, model_from_json\n",
        "from sklearn.model_selection import train_test_split\n",
        "from sklearn.metrics import classification_report\n",
        "from sklearn.preprocessing import LabelEncoder\n",
        "from sklearn.metrics import confusion_matrix\n",
        "import matplotlib.pyplot as plt\n",
        "import seaborn as sns\n",
        "import numpy as np\n",
        "import glob\n",
        "import cv2\n",
        "import os"
      ],
      "execution_count": null,
      "outputs": []
    },
    {
      "cell_type": "code",
      "metadata": {
        "id": "iHcbTNDHUL5f"
      },
      "source": [
        "Images = []\n",
        "Labels = []\n",
        "path = \"/content/drive/MyDrive/Resized Data\"\n",
        "DatasetFolders = os.listdir(path)\n",
        "MainFolder = os.getcwd()\n",
        "for SubFolders in DatasetFolders:\n",
        "    os.chdir(path)\n",
        "    if SubFolders == \"Negative Data\":  \n",
        "        os.chdir(SubFolders)\n",
        "        for img in glob.glob(os.getcwd() + \"/*.JPG\"):\n",
        "            Labels.append(\"Negative\")\n",
        "            img = cv2.imread(img,cv2.IMREAD_COLOR)\n",
        "            Images.append(np.array(img))\n",
        "        os.chdir(MainFolder)\n",
        "    else:\n",
        "        os.chdir(SubFolders)\n",
        "        for img in glob.glob(os.getcwd() + \"/*.JPG\"):\n",
        "            Labels.append(\"Positive\")\n",
        "            img = cv2.imread(img,cv2.IMREAD_COLOR)\n",
        "            Images.append(np.array(img))\n",
        "        os.chdir(MainFolder)"
      ],
      "execution_count": null,
      "outputs": []
    },
    {
      "cell_type": "code",
      "metadata": {
        "id": "7CE4ZRbyUQEO",
        "colab": {
          "base_uri": "https://localhost:8080/"
        },
        "outputId": "53d7673f-37da-472b-d8e4-aea620274cf3"
      },
      "source": [
        "print(\"Labels Vector:\",Labels)"
      ],
      "execution_count": null,
      "outputs": [
        {
          "output_type": "stream",
          "text": [
            "Labels Vector: ['Positive', 'Positive', 'Positive', 'Positive', 'Positive', 'Positive', 'Positive', 'Positive', 'Positive', 'Positive', 'Positive', 'Positive', 'Positive', 'Positive', 'Positive', 'Positive', 'Positive', 'Positive', 'Positive', 'Positive', 'Positive', 'Positive', 'Positive', 'Positive', 'Positive', 'Positive', 'Positive', 'Positive', 'Positive', 'Positive', 'Positive', 'Positive', 'Positive', 'Positive', 'Positive', 'Positive', 'Positive', 'Positive', 'Positive', 'Positive', 'Positive', 'Positive', 'Positive', 'Positive', 'Positive', 'Positive', 'Positive', 'Positive', 'Positive', 'Positive', 'Positive', 'Positive', 'Positive', 'Positive', 'Positive', 'Positive', 'Positive', 'Positive', 'Positive', 'Positive', 'Positive', 'Positive', 'Positive', 'Positive', 'Positive', 'Positive', 'Positive', 'Positive', 'Positive', 'Positive', 'Positive', 'Positive', 'Positive', 'Positive', 'Positive', 'Positive', 'Positive', 'Positive', 'Positive', 'Positive', 'Positive', 'Positive', 'Positive', 'Positive', 'Positive', 'Positive', 'Positive', 'Positive', 'Positive', 'Positive', 'Positive', 'Positive', 'Positive', 'Positive', 'Positive', 'Positive', 'Positive', 'Positive', 'Positive', 'Positive', 'Positive', 'Positive', 'Positive', 'Positive', 'Positive', 'Positive', 'Positive', 'Positive', 'Positive', 'Positive', 'Positive', 'Positive', 'Positive', 'Positive', 'Positive', 'Positive', 'Positive', 'Positive', 'Positive', 'Positive', 'Positive', 'Positive', 'Positive', 'Positive', 'Positive', 'Positive', 'Positive', 'Positive', 'Positive', 'Positive', 'Positive', 'Positive', 'Positive', 'Positive', 'Positive', 'Positive', 'Positive', 'Positive', 'Positive', 'Positive', 'Positive', 'Positive', 'Positive', 'Positive', 'Positive', 'Positive', 'Positive', 'Positive', 'Positive', 'Positive', 'Positive', 'Positive', 'Positive', 'Positive', 'Positive', 'Positive', 'Positive', 'Positive', 'Positive', 'Positive', 'Positive', 'Positive', 'Positive', 'Positive', 'Positive', 'Positive', 'Positive', 'Positive', 'Positive', 'Positive', 'Positive', 'Positive', 'Positive', 'Positive', 'Positive', 'Positive', 'Positive', 'Positive', 'Positive', 'Positive', 'Positive', 'Positive', 'Positive', 'Positive', 'Positive', 'Positive', 'Positive', 'Positive', 'Positive', 'Positive', 'Positive', 'Positive', 'Positive', 'Positive', 'Positive', 'Positive', 'Positive', 'Positive', 'Positive', 'Positive', 'Positive', 'Positive', 'Positive', 'Positive', 'Positive', 'Positive', 'Positive', 'Positive', 'Positive', 'Positive', 'Positive', 'Positive', 'Positive', 'Positive', 'Positive', 'Positive', 'Positive', 'Positive', 'Positive', 'Positive', 'Positive', 'Positive', 'Positive', 'Positive', 'Positive', 'Positive', 'Positive', 'Positive', 'Positive', 'Positive', 'Positive', 'Positive', 'Positive', 'Positive', 'Positive', 'Positive', 'Positive', 'Positive', 'Positive', 'Positive', 'Positive', 'Positive', 'Positive', 'Positive', 'Positive', 'Positive', 'Positive', 'Positive', 'Positive', 'Positive', 'Positive', 'Positive', 'Positive', 'Positive', 'Positive', 'Positive', 'Positive', 'Positive', 'Positive', 'Positive', 'Positive', 'Positive', 'Positive', 'Positive', 'Positive', 'Positive', 'Positive', 'Positive', 'Positive', 'Positive', 'Positive', 'Positive', 'Positive', 'Positive', 'Positive', 'Positive', 'Positive', 'Positive', 'Positive', 'Positive', 'Positive', 'Positive', 'Positive', 'Positive', 'Positive', 'Positive', 'Positive', 'Positive', 'Positive', 'Positive', 'Positive', 'Positive', 'Positive', 'Positive', 'Positive', 'Positive', 'Positive', 'Positive', 'Positive', 'Positive', 'Positive', 'Positive', 'Positive', 'Positive', 'Positive', 'Positive', 'Positive', 'Positive', 'Positive', 'Positive', 'Positive', 'Positive', 'Positive', 'Positive', 'Positive', 'Positive', 'Positive', 'Positive', 'Positive', 'Positive', 'Positive', 'Positive', 'Positive', 'Positive', 'Positive', 'Positive', 'Positive', 'Positive', 'Positive', 'Positive', 'Positive', 'Positive', 'Positive', 'Positive', 'Positive', 'Positive', 'Positive', 'Positive', 'Positive', 'Positive', 'Positive', 'Positive', 'Positive', 'Positive', 'Positive', 'Positive', 'Positive', 'Positive', 'Positive', 'Positive', 'Positive', 'Positive', 'Positive', 'Positive', 'Positive', 'Positive', 'Positive', 'Positive', 'Positive', 'Positive', 'Positive', 'Positive', 'Positive', 'Positive', 'Positive', 'Positive', 'Positive', 'Positive', 'Positive', 'Positive', 'Positive', 'Positive', 'Positive', 'Positive', 'Positive', 'Positive', 'Positive', 'Positive', 'Positive', 'Positive', 'Positive', 'Positive', 'Positive', 'Positive', 'Positive', 'Positive', 'Positive', 'Positive', 'Positive', 'Positive', 'Positive', 'Positive', 'Positive', 'Positive', 'Positive', 'Positive', 'Positive', 'Positive', 'Positive', 'Positive', 'Positive', 'Positive', 'Positive', 'Positive', 'Positive', 'Positive', 'Positive', 'Positive', 'Positive', 'Positive', 'Positive', 'Positive', 'Positive', 'Positive', 'Positive', 'Positive', 'Positive', 'Positive', 'Positive', 'Positive', 'Positive', 'Positive', 'Positive', 'Positive', 'Positive', 'Positive', 'Positive', 'Positive', 'Positive', 'Positive', 'Positive', 'Positive', 'Positive', 'Positive', 'Positive', 'Positive', 'Positive', 'Positive', 'Positive', 'Positive', 'Positive', 'Positive', 'Positive', 'Positive', 'Positive', 'Positive', 'Positive', 'Positive', 'Positive', 'Positive', 'Positive', 'Positive', 'Positive', 'Positive', 'Positive', 'Positive', 'Positive', 'Positive', 'Positive', 'Positive', 'Positive', 'Positive', 'Positive', 'Positive', 'Positive', 'Positive', 'Positive', 'Positive', 'Positive', 'Positive', 'Positive', 'Positive', 'Positive', 'Positive', 'Positive', 'Positive', 'Positive', 'Positive', 'Positive', 'Positive', 'Positive', 'Positive', 'Positive', 'Positive', 'Positive', 'Positive', 'Positive', 'Positive', 'Positive', 'Positive', 'Positive', 'Positive', 'Positive', 'Positive', 'Positive', 'Positive', 'Positive', 'Positive', 'Positive', 'Positive', 'Positive', 'Positive', 'Positive', 'Positive', 'Positive', 'Positive', 'Positive', 'Positive', 'Positive', 'Positive', 'Positive', 'Positive', 'Positive', 'Positive', 'Positive', 'Positive', 'Positive', 'Positive', 'Positive', 'Positive', 'Positive', 'Positive', 'Positive', 'Positive', 'Positive', 'Positive', 'Positive', 'Positive', 'Positive', 'Positive', 'Positive', 'Positive', 'Positive', 'Positive', 'Positive', 'Positive', 'Positive', 'Positive', 'Positive', 'Positive', 'Positive', 'Positive', 'Positive', 'Positive', 'Positive', 'Positive', 'Positive', 'Positive', 'Positive', 'Positive', 'Positive', 'Positive', 'Positive', 'Positive', 'Positive', 'Positive', 'Positive', 'Positive', 'Positive', 'Positive', 'Positive', 'Positive', 'Positive', 'Positive', 'Positive', 'Positive', 'Positive', 'Positive', 'Positive', 'Positive', 'Positive', 'Positive', 'Positive', 'Positive', 'Positive', 'Positive', 'Positive', 'Positive', 'Positive', 'Positive', 'Positive', 'Positive', 'Positive', 'Positive', 'Positive', 'Positive', 'Positive', 'Positive', 'Positive', 'Positive', 'Positive', 'Positive', 'Positive', 'Positive', 'Positive', 'Positive', 'Positive', 'Positive', 'Positive', 'Positive', 'Positive', 'Positive', 'Positive', 'Positive', 'Positive', 'Positive', 'Positive', 'Positive', 'Positive', 'Positive', 'Positive', 'Positive', 'Positive', 'Positive', 'Positive', 'Positive', 'Positive', 'Positive', 'Positive', 'Positive', 'Positive', 'Positive', 'Positive', 'Positive', 'Positive', 'Positive', 'Positive', 'Positive', 'Positive', 'Positive', 'Positive', 'Positive', 'Positive', 'Positive', 'Positive', 'Positive', 'Positive', 'Positive', 'Positive', 'Positive', 'Positive', 'Positive', 'Positive', 'Positive', 'Positive', 'Positive', 'Positive', 'Positive', 'Positive', 'Positive', 'Positive', 'Positive', 'Positive', 'Positive', 'Positive', 'Positive', 'Positive', 'Positive', 'Positive', 'Positive', 'Positive', 'Positive', 'Positive', 'Positive', 'Positive', 'Positive', 'Positive', 'Positive', 'Positive', 'Positive', 'Positive', 'Positive', 'Positive', 'Positive', 'Positive', 'Positive', 'Positive', 'Positive', 'Positive', 'Positive', 'Positive', 'Positive', 'Positive', 'Positive', 'Positive', 'Positive', 'Positive', 'Positive', 'Positive', 'Positive', 'Positive', 'Positive', 'Positive', 'Positive', 'Positive', 'Positive', 'Positive', 'Positive', 'Positive', 'Positive', 'Positive', 'Positive', 'Positive', 'Positive', 'Positive', 'Positive', 'Positive', 'Positive', 'Positive', 'Positive', 'Positive', 'Positive', 'Positive', 'Positive', 'Positive', 'Positive', 'Positive', 'Positive', 'Positive', 'Positive', 'Positive', 'Positive', 'Positive', 'Positive', 'Positive', 'Positive', 'Positive', 'Positive', 'Positive', 'Positive', 'Positive', 'Positive', 'Positive', 'Positive', 'Positive', 'Positive', 'Positive', 'Positive', 'Positive', 'Positive', 'Positive', 'Positive', 'Positive', 'Positive', 'Positive', 'Positive', 'Positive', 'Positive', 'Positive', 'Positive', 'Positive', 'Positive', 'Positive', 'Positive', 'Positive', 'Positive', 'Positive', 'Positive', 'Positive', 'Positive', 'Positive', 'Positive', 'Positive', 'Positive', 'Positive', 'Positive', 'Positive', 'Positive', 'Positive', 'Positive', 'Positive', 'Positive', 'Positive', 'Positive', 'Positive', 'Positive', 'Positive', 'Positive', 'Positive', 'Positive', 'Positive', 'Positive', 'Positive', 'Positive', 'Positive', 'Positive', 'Positive', 'Positive', 'Positive', 'Positive', 'Positive', 'Positive', 'Positive', 'Positive', 'Positive', 'Positive', 'Positive', 'Positive', 'Positive', 'Positive', 'Positive', 'Positive', 'Positive', 'Positive', 'Positive', 'Positive', 'Positive', 'Positive', 'Positive', 'Positive', 'Positive', 'Positive', 'Positive', 'Positive', 'Positive', 'Positive', 'Positive', 'Positive', 'Positive', 'Positive', 'Positive', 'Positive', 'Positive', 'Positive', 'Positive', 'Positive', 'Positive', 'Positive', 'Positive', 'Positive', 'Positive', 'Positive', 'Positive', 'Positive', 'Positive', 'Positive', 'Positive', 'Positive', 'Positive', 'Positive', 'Positive', 'Positive', 'Positive', 'Positive', 'Positive', 'Positive', 'Positive', 'Positive', 'Positive', 'Positive', 'Positive', 'Positive', 'Positive', 'Positive', 'Positive', 'Positive', 'Positive', 'Positive', 'Positive', 'Positive', 'Positive', 'Positive', 'Positive', 'Positive', 'Positive', 'Positive', 'Positive', 'Positive', 'Positive', 'Positive', 'Positive', 'Positive', 'Positive', 'Positive', 'Positive', 'Positive', 'Positive', 'Positive', 'Positive', 'Positive', 'Positive', 'Positive', 'Positive', 'Positive', 'Positive', 'Positive', 'Positive', 'Positive', 'Positive', 'Positive', 'Positive', 'Positive', 'Positive', 'Positive', 'Positive', 'Positive', 'Positive', 'Positive', 'Positive', 'Positive', 'Positive', 'Positive', 'Positive', 'Positive', 'Positive', 'Positive', 'Positive', 'Positive', 'Positive', 'Positive', 'Positive', 'Positive', 'Positive', 'Positive', 'Positive', 'Positive', 'Positive', 'Positive', 'Positive', 'Positive', 'Positive', 'Positive', 'Positive', 'Positive', 'Positive', 'Positive', 'Positive', 'Positive', 'Positive', 'Positive', 'Positive', 'Positive', 'Positive', 'Positive', 'Positive', 'Positive', 'Positive', 'Positive', 'Positive', 'Positive', 'Positive', 'Positive', 'Positive', 'Positive', 'Positive', 'Positive', 'Positive', 'Positive', 'Positive', 'Positive', 'Positive', 'Positive', 'Positive', 'Positive', 'Positive', 'Positive', 'Positive', 'Positive', 'Positive', 'Positive', 'Positive', 'Positive', 'Positive', 'Positive', 'Positive', 'Positive', 'Positive', 'Positive', 'Positive', 'Positive', 'Positive', 'Positive', 'Positive', 'Positive', 'Positive', 'Positive', 'Positive', 'Positive', 'Positive', 'Positive', 'Positive', 'Positive', 'Positive', 'Positive', 'Positive', 'Positive', 'Positive', 'Positive', 'Positive', 'Positive', 'Positive', 'Positive', 'Positive', 'Positive', 'Positive', 'Positive', 'Positive', 'Positive', 'Positive', 'Positive', 'Positive', 'Positive', 'Positive', 'Positive', 'Positive', 'Positive', 'Positive', 'Positive', 'Positive', 'Positive', 'Positive', 'Positive', 'Positive', 'Positive', 'Positive', 'Positive', 'Positive', 'Positive', 'Positive', 'Positive', 'Positive', 'Positive', 'Positive', 'Positive', 'Positive', 'Positive', 'Positive', 'Positive', 'Positive', 'Positive', 'Positive', 'Positive', 'Positive', 'Positive', 'Positive', 'Positive', 'Positive', 'Positive', 'Positive', 'Positive', 'Positive', 'Positive', 'Positive', 'Positive', 'Positive', 'Positive', 'Positive', 'Positive', 'Positive', 'Positive', 'Positive', 'Positive', 'Positive', 'Positive', 'Positive', 'Positive', 'Positive', 'Positive', 'Positive', 'Positive', 'Positive', 'Positive', 'Positive', 'Positive', 'Positive', 'Positive', 'Positive', 'Positive', 'Positive', 'Positive', 'Positive', 'Positive', 'Positive', 'Positive', 'Positive', 'Positive', 'Positive', 'Positive', 'Positive', 'Positive', 'Positive', 'Positive', 'Positive', 'Positive', 'Positive', 'Positive', 'Positive', 'Positive', 'Positive', 'Positive', 'Positive', 'Positive', 'Positive', 'Positive', 'Positive', 'Positive', 'Positive', 'Positive', 'Positive', 'Positive', 'Positive', 'Positive', 'Positive', 'Positive', 'Positive', 'Positive', 'Positive', 'Positive', 'Positive', 'Positive', 'Positive', 'Positive', 'Positive', 'Positive', 'Positive', 'Positive', 'Positive', 'Positive', 'Positive', 'Negative', 'Negative', 'Negative', 'Negative', 'Negative', 'Negative', 'Negative', 'Negative', 'Negative', 'Negative', 'Negative', 'Negative', 'Negative', 'Negative', 'Negative', 'Negative', 'Negative', 'Negative', 'Negative', 'Negative', 'Negative', 'Negative', 'Negative', 'Negative', 'Negative', 'Negative', 'Negative', 'Negative', 'Negative', 'Negative', 'Negative', 'Negative', 'Negative', 'Negative', 'Negative', 'Negative', 'Negative', 'Negative', 'Negative', 'Negative', 'Negative', 'Negative', 'Negative', 'Negative', 'Negative', 'Negative', 'Negative', 'Negative', 'Negative', 'Negative', 'Negative', 'Negative', 'Negative', 'Negative', 'Negative', 'Negative', 'Negative', 'Negative', 'Negative', 'Negative', 'Negative', 'Negative', 'Negative', 'Negative', 'Negative', 'Negative', 'Negative', 'Negative', 'Negative', 'Negative', 'Negative', 'Negative', 'Negative', 'Negative', 'Negative', 'Negative', 'Negative', 'Negative', 'Negative', 'Negative', 'Negative', 'Negative', 'Negative', 'Negative', 'Negative', 'Negative', 'Negative', 'Negative', 'Negative', 'Negative', 'Negative', 'Negative', 'Negative', 'Negative', 'Negative', 'Negative', 'Negative', 'Negative', 'Negative', 'Negative', 'Negative', 'Negative', 'Negative', 'Negative', 'Negative', 'Negative', 'Negative', 'Negative', 'Negative', 'Negative', 'Negative', 'Negative', 'Negative', 'Negative', 'Negative', 'Negative', 'Negative', 'Negative', 'Negative', 'Negative', 'Negative', 'Negative', 'Negative', 'Negative', 'Negative', 'Negative', 'Negative', 'Negative', 'Negative', 'Negative', 'Negative', 'Negative', 'Negative', 'Negative', 'Negative', 'Negative', 'Negative', 'Negative', 'Negative', 'Negative', 'Negative', 'Negative', 'Negative', 'Negative', 'Negative', 'Negative', 'Negative', 'Negative', 'Negative', 'Negative', 'Negative', 'Negative', 'Negative', 'Negative', 'Negative', 'Negative', 'Negative', 'Negative', 'Negative', 'Negative', 'Negative', 'Negative', 'Negative', 'Negative', 'Negative', 'Negative', 'Negative', 'Negative', 'Negative', 'Negative', 'Negative', 'Negative', 'Negative', 'Negative', 'Negative', 'Negative', 'Negative', 'Negative', 'Negative', 'Negative', 'Negative', 'Negative', 'Negative', 'Negative', 'Negative', 'Negative', 'Negative', 'Negative', 'Negative', 'Negative', 'Negative', 'Negative', 'Negative', 'Negative', 'Negative', 'Negative', 'Negative', 'Negative', 'Negative', 'Negative', 'Negative', 'Negative', 'Negative', 'Negative', 'Negative', 'Negative', 'Negative', 'Negative', 'Negative', 'Negative', 'Negative', 'Negative', 'Negative', 'Negative', 'Negative', 'Negative', 'Negative', 'Negative', 'Negative', 'Negative', 'Negative', 'Negative', 'Negative', 'Negative', 'Negative', 'Negative', 'Negative', 'Negative', 'Negative', 'Negative', 'Negative', 'Negative', 'Negative', 'Negative', 'Negative', 'Negative', 'Negative', 'Negative', 'Negative', 'Negative', 'Negative', 'Negative', 'Negative', 'Negative', 'Negative', 'Negative', 'Negative', 'Negative', 'Negative', 'Negative', 'Negative', 'Negative', 'Negative', 'Negative', 'Negative', 'Negative', 'Negative', 'Negative', 'Negative', 'Negative', 'Negative', 'Negative', 'Negative', 'Negative', 'Negative', 'Negative', 'Negative', 'Negative', 'Negative', 'Negative', 'Negative', 'Negative', 'Negative', 'Negative', 'Negative', 'Negative', 'Negative', 'Negative', 'Negative', 'Negative', 'Negative', 'Negative', 'Negative', 'Negative', 'Negative', 'Negative', 'Negative', 'Negative', 'Negative', 'Negative', 'Negative', 'Negative', 'Negative', 'Negative', 'Negative', 'Negative', 'Negative', 'Negative', 'Negative', 'Negative', 'Negative', 'Negative', 'Negative', 'Negative', 'Negative', 'Negative', 'Negative', 'Negative', 'Negative', 'Negative', 'Negative', 'Negative', 'Negative', 'Negative', 'Negative', 'Negative', 'Negative', 'Negative', 'Negative', 'Negative', 'Negative', 'Negative', 'Negative', 'Negative', 'Negative', 'Negative', 'Negative', 'Negative', 'Negative', 'Negative', 'Negative', 'Negative', 'Negative', 'Negative', 'Negative', 'Negative', 'Negative', 'Negative', 'Negative', 'Negative', 'Negative', 'Negative', 'Negative', 'Negative', 'Negative', 'Negative', 'Negative', 'Negative', 'Negative', 'Negative', 'Negative', 'Negative', 'Negative', 'Negative', 'Negative', 'Negative', 'Negative', 'Negative', 'Negative', 'Negative', 'Negative', 'Negative', 'Negative', 'Negative', 'Negative', 'Negative', 'Negative', 'Negative', 'Negative', 'Negative', 'Negative', 'Negative', 'Negative', 'Negative', 'Negative', 'Negative', 'Negative', 'Negative', 'Negative', 'Negative', 'Negative', 'Negative', 'Negative', 'Negative', 'Negative', 'Negative', 'Negative', 'Negative', 'Negative', 'Negative', 'Negative', 'Negative', 'Negative', 'Negative', 'Negative', 'Negative', 'Negative', 'Negative', 'Negative', 'Negative', 'Negative', 'Negative', 'Negative', 'Negative', 'Negative', 'Negative', 'Negative', 'Negative', 'Negative', 'Negative', 'Negative', 'Negative', 'Negative', 'Negative', 'Negative', 'Negative', 'Negative', 'Negative', 'Negative', 'Negative', 'Negative', 'Negative', 'Negative', 'Negative', 'Negative', 'Negative', 'Negative', 'Negative', 'Negative', 'Negative', 'Negative', 'Negative', 'Negative', 'Negative', 'Negative', 'Negative', 'Negative', 'Negative', 'Negative', 'Negative', 'Negative', 'Negative', 'Negative', 'Negative', 'Negative', 'Negative', 'Negative', 'Negative', 'Negative', 'Negative', 'Negative', 'Negative', 'Negative', 'Negative', 'Negative', 'Negative', 'Negative', 'Negative', 'Negative', 'Negative', 'Negative', 'Negative', 'Negative', 'Negative', 'Negative', 'Negative', 'Negative', 'Negative', 'Negative', 'Negative', 'Negative', 'Negative', 'Negative', 'Negative', 'Negative', 'Negative', 'Negative', 'Negative', 'Negative', 'Negative', 'Negative', 'Negative', 'Negative', 'Negative', 'Negative', 'Negative', 'Negative', 'Negative', 'Negative', 'Negative', 'Negative', 'Negative', 'Negative', 'Negative', 'Negative', 'Negative', 'Negative', 'Negative', 'Negative', 'Negative', 'Negative', 'Negative', 'Negative', 'Negative', 'Negative', 'Negative', 'Negative', 'Negative', 'Negative', 'Negative', 'Negative', 'Negative', 'Negative', 'Negative', 'Negative', 'Negative', 'Negative', 'Negative', 'Negative', 'Negative', 'Negative', 'Negative', 'Negative', 'Negative', 'Negative', 'Negative', 'Negative', 'Negative', 'Negative', 'Negative', 'Negative', 'Negative', 'Negative', 'Negative', 'Negative', 'Negative', 'Negative', 'Negative', 'Negative', 'Negative', 'Negative', 'Negative', 'Negative', 'Negative', 'Negative', 'Negative', 'Negative', 'Negative', 'Negative', 'Negative', 'Negative', 'Negative', 'Negative', 'Negative', 'Negative', 'Negative', 'Negative', 'Negative', 'Negative', 'Negative', 'Negative', 'Negative', 'Negative', 'Negative', 'Negative', 'Negative', 'Negative', 'Negative', 'Negative', 'Negative', 'Negative', 'Negative', 'Negative', 'Negative', 'Negative', 'Negative', 'Negative', 'Negative', 'Negative', 'Negative', 'Negative', 'Negative', 'Negative', 'Negative', 'Negative', 'Negative', 'Negative', 'Negative', 'Negative', 'Negative', 'Negative', 'Negative', 'Negative', 'Negative', 'Negative', 'Negative', 'Negative', 'Negative', 'Negative', 'Negative', 'Negative', 'Negative', 'Negative', 'Negative', 'Negative', 'Negative', 'Negative', 'Negative', 'Negative', 'Negative', 'Negative', 'Negative', 'Negative', 'Negative', 'Negative', 'Negative', 'Negative', 'Negative', 'Negative', 'Negative', 'Negative', 'Negative', 'Negative', 'Negative', 'Negative', 'Negative', 'Negative', 'Negative', 'Negative', 'Negative', 'Negative', 'Negative', 'Negative', 'Negative', 'Negative', 'Negative', 'Negative', 'Negative', 'Negative', 'Negative', 'Negative', 'Negative', 'Negative', 'Negative', 'Negative', 'Negative', 'Negative', 'Negative', 'Negative', 'Negative', 'Negative', 'Negative', 'Negative', 'Negative', 'Negative', 'Negative', 'Negative', 'Negative', 'Negative', 'Negative', 'Negative', 'Negative', 'Negative', 'Negative', 'Negative', 'Negative', 'Negative', 'Negative', 'Negative', 'Negative', 'Negative', 'Negative', 'Negative', 'Negative', 'Negative', 'Negative', 'Negative', 'Negative', 'Negative', 'Negative', 'Negative', 'Negative', 'Negative', 'Negative', 'Negative', 'Negative', 'Negative', 'Negative', 'Negative', 'Negative', 'Negative', 'Negative', 'Negative', 'Negative', 'Negative', 'Negative', 'Negative', 'Negative', 'Negative', 'Negative', 'Negative', 'Negative', 'Negative', 'Negative', 'Negative', 'Negative', 'Negative', 'Negative', 'Negative', 'Negative', 'Negative', 'Negative', 'Negative', 'Negative', 'Negative', 'Negative', 'Negative', 'Negative', 'Negative', 'Negative', 'Negative', 'Negative', 'Negative', 'Negative', 'Negative', 'Negative', 'Negative', 'Negative', 'Negative', 'Negative', 'Negative', 'Negative', 'Negative', 'Negative', 'Negative', 'Negative', 'Negative', 'Negative', 'Negative', 'Negative', 'Negative', 'Negative', 'Negative', 'Negative', 'Negative', 'Negative', 'Negative', 'Negative', 'Negative', 'Negative', 'Negative', 'Negative', 'Negative', 'Negative', 'Negative', 'Negative', 'Negative', 'Negative', 'Negative', 'Negative', 'Negative', 'Negative', 'Negative', 'Negative', 'Negative', 'Negative', 'Negative', 'Negative', 'Negative', 'Negative', 'Negative', 'Negative', 'Negative', 'Negative', 'Negative', 'Negative', 'Negative', 'Negative', 'Negative', 'Negative', 'Negative', 'Negative', 'Negative', 'Negative', 'Negative', 'Negative', 'Negative', 'Negative', 'Negative', 'Negative', 'Negative', 'Negative', 'Negative', 'Negative', 'Negative', 'Negative', 'Negative', 'Negative', 'Negative', 'Negative', 'Negative', 'Negative', 'Negative', 'Negative', 'Negative', 'Negative', 'Negative', 'Negative', 'Negative', 'Negative', 'Negative', 'Negative', 'Negative', 'Negative', 'Negative', 'Negative', 'Negative', 'Negative', 'Negative', 'Negative', 'Negative', 'Negative', 'Negative', 'Negative', 'Negative', 'Negative', 'Negative', 'Negative', 'Negative', 'Negative', 'Negative', 'Negative', 'Negative', 'Negative', 'Negative', 'Negative', 'Negative', 'Negative', 'Negative', 'Negative', 'Negative', 'Negative', 'Negative', 'Negative', 'Negative', 'Negative', 'Negative', 'Negative', 'Negative', 'Negative', 'Negative', 'Negative', 'Negative', 'Negative', 'Negative', 'Negative', 'Negative', 'Negative', 'Negative', 'Negative', 'Negative', 'Negative', 'Negative', 'Negative', 'Negative', 'Negative', 'Negative', 'Negative', 'Negative', 'Negative', 'Negative', 'Negative', 'Negative', 'Negative', 'Negative', 'Negative', 'Negative', 'Negative', 'Negative', 'Negative', 'Negative', 'Negative', 'Negative', 'Negative', 'Negative', 'Negative', 'Negative', 'Negative', 'Negative', 'Negative', 'Negative', 'Negative', 'Negative', 'Negative', 'Negative', 'Negative', 'Negative', 'Negative', 'Negative', 'Negative', 'Negative', 'Negative', 'Negative', 'Negative', 'Negative', 'Negative', 'Negative', 'Negative', 'Negative', 'Negative', 'Negative', 'Negative', 'Negative', 'Negative', 'Negative', 'Negative', 'Negative', 'Negative', 'Negative', 'Negative', 'Negative', 'Negative', 'Negative', 'Negative', 'Negative', 'Negative', 'Negative', 'Negative', 'Negative', 'Negative', 'Negative', 'Negative', 'Negative', 'Negative', 'Negative', 'Negative', 'Negative', 'Negative', 'Negative', 'Negative', 'Negative', 'Negative', 'Negative', 'Negative', 'Negative', 'Negative', 'Negative', 'Negative', 'Negative', 'Negative', 'Negative', 'Negative', 'Negative', 'Negative', 'Negative', 'Negative', 'Negative', 'Negative', 'Negative', 'Negative', 'Negative', 'Negative', 'Negative', 'Negative', 'Negative', 'Negative', 'Negative', 'Negative', 'Negative', 'Negative', 'Negative', 'Negative', 'Negative', 'Negative', 'Negative', 'Negative', 'Negative', 'Negative', 'Negative', 'Negative', 'Negative', 'Negative', 'Negative', 'Negative', 'Negative', 'Negative', 'Negative', 'Negative', 'Negative', 'Negative', 'Negative', 'Negative', 'Negative', 'Negative', 'Negative', 'Negative', 'Negative', 'Negative', 'Negative', 'Negative', 'Negative', 'Negative', 'Negative', 'Negative', 'Negative', 'Negative', 'Negative', 'Negative', 'Negative', 'Negative', 'Negative', 'Negative', 'Negative', 'Negative', 'Negative', 'Negative', 'Negative', 'Negative', 'Negative', 'Negative', 'Negative', 'Negative', 'Negative', 'Negative', 'Negative', 'Negative', 'Negative', 'Negative', 'Negative', 'Negative', 'Negative', 'Negative', 'Negative', 'Negative', 'Negative', 'Negative', 'Negative', 'Negative', 'Negative', 'Negative', 'Negative', 'Negative', 'Negative', 'Negative', 'Negative', 'Negative', 'Negative', 'Negative', 'Negative', 'Negative', 'Negative', 'Negative', 'Negative', 'Negative', 'Negative', 'Negative', 'Negative', 'Negative', 'Negative', 'Negative', 'Negative', 'Negative', 'Negative', 'Negative', 'Negative', 'Negative', 'Negative', 'Negative', 'Negative', 'Negative', 'Negative', 'Negative', 'Negative', 'Negative', 'Negative', 'Negative', 'Negative', 'Negative', 'Negative', 'Negative', 'Negative', 'Negative', 'Negative', 'Negative', 'Negative', 'Negative', 'Negative', 'Negative', 'Negative', 'Negative', 'Negative', 'Negative', 'Negative', 'Negative', 'Negative', 'Negative', 'Negative', 'Negative', 'Negative', 'Negative', 'Negative', 'Negative', 'Negative', 'Negative', 'Negative', 'Negative', 'Negative', 'Negative', 'Negative', 'Negative', 'Negative', 'Negative', 'Negative', 'Negative', 'Negative', 'Negative', 'Negative', 'Negative', 'Negative', 'Negative', 'Negative', 'Negative', 'Negative', 'Negative', 'Negative', 'Negative', 'Negative', 'Negative', 'Negative', 'Negative', 'Negative', 'Negative', 'Negative', 'Negative', 'Negative', 'Negative', 'Negative', 'Negative', 'Negative', 'Negative', 'Negative', 'Negative', 'Negative', 'Negative', 'Negative', 'Negative', 'Negative', 'Negative', 'Negative', 'Negative', 'Negative', 'Negative', 'Negative', 'Negative', 'Negative', 'Negative', 'Negative', 'Negative', 'Negative', 'Negative', 'Negative', 'Negative', 'Negative', 'Negative', 'Negative', 'Negative', 'Negative', 'Negative', 'Negative', 'Negative', 'Negative', 'Negative', 'Negative', 'Negative', 'Negative', 'Negative', 'Negative', 'Negative', 'Negative', 'Negative', 'Negative', 'Negative', 'Negative', 'Negative', 'Negative', 'Negative', 'Negative', 'Negative', 'Negative', 'Negative', 'Negative', 'Negative', 'Negative', 'Negative', 'Negative', 'Negative', 'Negative', 'Negative', 'Negative', 'Negative', 'Negative', 'Negative', 'Negative', 'Negative', 'Negative', 'Negative', 'Negative', 'Negative', 'Negative', 'Negative', 'Negative', 'Negative', 'Negative', 'Negative', 'Negative', 'Negative', 'Negative', 'Negative', 'Negative', 'Negative', 'Negative', 'Negative', 'Negative', 'Negative', 'Negative', 'Negative', 'Negative', 'Negative', 'Negative', 'Negative', 'Negative', 'Negative', 'Negative', 'Negative', 'Negative', 'Negative', 'Negative', 'Negative', 'Negative', 'Negative', 'Negative', 'Negative', 'Negative', 'Negative', 'Negative', 'Negative', 'Negative', 'Negative', 'Negative', 'Negative', 'Negative', 'Negative', 'Negative', 'Negative', 'Negative', 'Negative', 'Negative', 'Negative', 'Negative', 'Negative', 'Negative', 'Negative', 'Negative', 'Negative', 'Negative', 'Negative', 'Negative', 'Negative', 'Negative', 'Negative', 'Negative', 'Negative', 'Negative', 'Negative', 'Negative', 'Negative', 'Negative', 'Negative', 'Negative', 'Negative', 'Negative', 'Negative', 'Negative', 'Negative', 'Negative', 'Negative', 'Negative', 'Negative', 'Negative', 'Negative', 'Negative', 'Negative', 'Negative', 'Negative', 'Negative', 'Negative', 'Negative', 'Negative', 'Negative', 'Negative', 'Negative', 'Negative', 'Negative', 'Negative', 'Negative', 'Negative', 'Negative', 'Negative', 'Negative', 'Negative', 'Negative', 'Negative', 'Negative', 'Negative', 'Negative', 'Negative', 'Negative', 'Negative', 'Negative', 'Negative', 'Negative', 'Negative', 'Negative', 'Negative', 'Negative', 'Negative', 'Negative', 'Negative', 'Negative', 'Negative', 'Negative', 'Negative', 'Negative', 'Negative', 'Negative', 'Negative', 'Negative', 'Negative', 'Negative', 'Negative', 'Negative', 'Negative', 'Negative', 'Negative', 'Negative', 'Negative', 'Negative', 'Negative', 'Negative', 'Negative', 'Negative', 'Negative', 'Negative', 'Negative', 'Negative', 'Negative', 'Negative', 'Negative', 'Negative', 'Negative', 'Negative', 'Negative', 'Negative', 'Negative', 'Negative', 'Negative', 'Negative', 'Negative', 'Negative', 'Negative', 'Negative', 'Negative', 'Negative', 'Negative', 'Negative', 'Negative', 'Negative', 'Negative', 'Negative', 'Negative', 'Negative', 'Negative', 'Negative', 'Negative', 'Negative', 'Negative', 'Negative', 'Negative', 'Negative', 'Negative', 'Negative', 'Negative', 'Negative', 'Negative', 'Negative', 'Negative', 'Negative', 'Negative', 'Negative', 'Negative', 'Negative', 'Negative', 'Negative', 'Negative', 'Negative', 'Negative', 'Negative', 'Negative', 'Negative', 'Negative', 'Negative', 'Negative', 'Negative', 'Negative', 'Negative', 'Negative', 'Negative', 'Negative', 'Negative', 'Negative', 'Negative', 'Negative', 'Negative', 'Negative', 'Negative', 'Negative', 'Negative', 'Negative', 'Negative', 'Negative', 'Negative', 'Negative', 'Negative', 'Negative', 'Negative', 'Negative', 'Negative', 'Negative', 'Negative', 'Negative', 'Negative', 'Negative', 'Negative', 'Negative', 'Negative', 'Negative', 'Negative', 'Negative', 'Negative', 'Negative', 'Negative', 'Negative', 'Negative', 'Negative', 'Negative', 'Negative', 'Negative', 'Negative', 'Negative', 'Negative', 'Negative', 'Negative', 'Negative', 'Negative', 'Negative', 'Negative', 'Negative', 'Negative', 'Negative', 'Negative', 'Negative', 'Negative', 'Negative', 'Negative', 'Negative', 'Negative', 'Negative', 'Negative', 'Negative', 'Negative', 'Negative', 'Negative', 'Negative', 'Negative', 'Negative', 'Negative', 'Negative', 'Negative', 'Negative', 'Negative', 'Negative', 'Negative', 'Negative', 'Negative', 'Negative', 'Negative', 'Negative', 'Negative', 'Negative', 'Negative', 'Negative', 'Negative', 'Negative', 'Negative', 'Negative', 'Negative', 'Negative', 'Negative', 'Negative', 'Negative', 'Negative', 'Negative', 'Negative', 'Negative', 'Negative', 'Negative', 'Negative', 'Negative', 'Negative', 'Negative', 'Negative', 'Negative', 'Negative', 'Negative', 'Negative', 'Negative', 'Negative', 'Negative', 'Negative', 'Negative', 'Negative', 'Negative', 'Negative', 'Negative', 'Negative', 'Negative', 'Negative', 'Negative', 'Negative', 'Negative', 'Negative', 'Negative', 'Negative', 'Negative', 'Negative', 'Negative', 'Negative', 'Negative', 'Negative', 'Negative', 'Negative', 'Negative', 'Negative', 'Negative', 'Negative', 'Negative', 'Negative', 'Negative', 'Negative', 'Negative', 'Negative', 'Negative', 'Negative', 'Negative', 'Negative', 'Negative', 'Negative', 'Negative', 'Negative', 'Negative', 'Negative', 'Negative', 'Negative', 'Negative', 'Negative', 'Negative', 'Negative', 'Negative', 'Negative', 'Negative', 'Negative', 'Negative', 'Negative', 'Negative', 'Negative', 'Negative', 'Negative', 'Negative', 'Negative', 'Negative', 'Negative', 'Negative', 'Negative', 'Negative', 'Negative', 'Negative', 'Negative', 'Negative', 'Negative', 'Negative', 'Negative', 'Negative', 'Negative', 'Negative', 'Negative', 'Negative', 'Negative', 'Negative', 'Negative', 'Negative', 'Negative', 'Negative', 'Negative', 'Negative', 'Negative', 'Negative', 'Negative', 'Negative', 'Negative', 'Negative', 'Negative', 'Negative', 'Negative', 'Negative', 'Negative', 'Negative', 'Negative', 'Negative', 'Negative', 'Negative', 'Negative', 'Negative', 'Negative', 'Negative', 'Negative', 'Negative', 'Negative', 'Negative', 'Negative', 'Negative', 'Negative', 'Negative', 'Negative', 'Negative', 'Negative', 'Negative', 'Negative', 'Negative', 'Negative', 'Negative', 'Negative', 'Negative', 'Negative', 'Negative', 'Negative', 'Negative', 'Negative', 'Negative', 'Negative', 'Negative', 'Negative', 'Negative', 'Negative', 'Negative', 'Negative', 'Negative', 'Negative', 'Negative', 'Negative', 'Negative', 'Negative', 'Negative', 'Negative', 'Negative', 'Negative', 'Negative', 'Negative', 'Negative', 'Negative', 'Negative', 'Negative', 'Negative', 'Negative', 'Negative', 'Negative', 'Negative', 'Negative', 'Negative', 'Negative', 'Negative', 'Negative', 'Negative', 'Negative', 'Negative', 'Negative', 'Negative', 'Negative', 'Negative', 'Negative', 'Negative', 'Negative', 'Negative', 'Negative', 'Negative', 'Negative', 'Negative', 'Negative', 'Negative', 'Negative', 'Negative', 'Negative', 'Negative', 'Negative', 'Negative', 'Negative', 'Negative', 'Negative', 'Negative', 'Negative', 'Negative', 'Negative', 'Negative', 'Negative', 'Negative', 'Negative', 'Negative', 'Negative', 'Negative', 'Negative', 'Negative', 'Negative', 'Negative', 'Negative', 'Negative', 'Negative', 'Negative', 'Negative', 'Negative', 'Negative', 'Negative', 'Negative', 'Negative', 'Negative', 'Negative', 'Negative', 'Negative', 'Negative', 'Negative', 'Negative', 'Negative', 'Negative', 'Negative', 'Negative', 'Negative', 'Negative', 'Negative', 'Negative', 'Negative', 'Negative', 'Negative', 'Negative', 'Negative', 'Negative', 'Negative', 'Negative', 'Negative', 'Negative', 'Negative', 'Negative', 'Negative', 'Negative', 'Negative', 'Negative', 'Negative', 'Negative', 'Negative', 'Negative', 'Negative', 'Negative', 'Negative', 'Negative', 'Negative', 'Negative', 'Negative', 'Negative', 'Negative', 'Negative', 'Negative', 'Negative', 'Negative', 'Negative', 'Negative', 'Negative', 'Negative', 'Negative', 'Negative', 'Negative', 'Negative', 'Negative', 'Negative', 'Negative', 'Negative', 'Negative', 'Negative', 'Negative', 'Negative', 'Negative', 'Negative', 'Negative', 'Negative', 'Negative', 'Negative', 'Negative', 'Negative', 'Negative', 'Negative', 'Negative', 'Negative', 'Negative', 'Negative', 'Negative', 'Negative', 'Negative', 'Negative', 'Negative', 'Negative', 'Negative', 'Negative', 'Negative', 'Negative', 'Negative', 'Negative', 'Negative', 'Negative', 'Negative', 'Negative', 'Negative', 'Negative', 'Negative', 'Negative', 'Negative', 'Negative', 'Negative', 'Negative', 'Negative', 'Negative', 'Negative', 'Negative', 'Negative', 'Negative', 'Negative', 'Negative', 'Negative', 'Negative', 'Negative', 'Negative', 'Negative', 'Negative', 'Negative', 'Negative', 'Negative', 'Negative', 'Negative', 'Negative', 'Negative', 'Negative', 'Negative', 'Negative', 'Negative', 'Negative', 'Negative', 'Negative', 'Negative', 'Negative', 'Negative', 'Negative', 'Negative', 'Negative', 'Negative', 'Negative', 'Negative', 'Negative', 'Negative', 'Negative', 'Negative', 'Negative', 'Negative', 'Negative', 'Negative', 'Negative', 'Negative', 'Negative', 'Negative', 'Negative', 'Negative', 'Negative', 'Negative', 'Negative', 'Negative', 'Negative', 'Negative', 'Negative', 'Negative', 'Negative', 'Negative', 'Negative', 'Negative', 'Negative', 'Negative', 'Negative', 'Negative', 'Negative', 'Negative', 'Negative', 'Negative', 'Negative', 'Negative', 'Negative', 'Negative', 'Negative', 'Negative', 'Negative', 'Negative', 'Negative', 'Negative', 'Negative', 'Negative', 'Negative', 'Negative', 'Negative', 'Negative', 'Negative', 'Negative', 'Negative', 'Negative', 'Negative', 'Negative', 'Negative', 'Negative', 'Negative', 'Negative', 'Negative', 'Negative', 'Negative', 'Negative', 'Negative', 'Negative', 'Negative', 'Negative', 'Negative', 'Negative', 'Negative', 'Negative', 'Negative', 'Negative', 'Negative', 'Negative', 'Negative', 'Negative', 'Negative', 'Negative', 'Negative', 'Negative', 'Negative', 'Negative', 'Negative', 'Negative', 'Negative', 'Negative', 'Negative', 'Negative', 'Negative', 'Negative', 'Negative', 'Negative', 'Negative', 'Negative', 'Negative', 'Negative', 'Negative', 'Negative', 'Negative', 'Negative', 'Negative', 'Negative', 'Negative', 'Negative', 'Negative', 'Negative', 'Negative', 'Negative', 'Negative', 'Negative', 'Negative', 'Negative', 'Negative', 'Negative', 'Negative', 'Negative', 'Negative', 'Negative', 'Negative', 'Negative', 'Negative', 'Negative', 'Negative', 'Negative', 'Negative', 'Negative', 'Negative', 'Negative', 'Negative', 'Negative', 'Negative', 'Negative', 'Negative', 'Negative', 'Negative', 'Negative', 'Negative', 'Negative', 'Negative', 'Negative', 'Negative', 'Negative', 'Negative', 'Negative', 'Negative', 'Negative', 'Negative', 'Negative', 'Negative', 'Negative', 'Negative', 'Negative', 'Negative', 'Negative', 'Negative', 'Negative', 'Negative', 'Negative', 'Negative', 'Negative', 'Negative', 'Negative', 'Negative', 'Negative', 'Negative', 'Negative', 'Negative', 'Negative', 'Negative', 'Negative', 'Negative', 'Negative', 'Negative', 'Negative', 'Negative', 'Negative', 'Negative', 'Negative', 'Negative', 'Negative', 'Negative', 'Negative', 'Negative', 'Negative', 'Negative', 'Negative', 'Negative', 'Negative', 'Negative', 'Negative', 'Negative', 'Negative', 'Negative', 'Negative', 'Negative', 'Negative', 'Negative', 'Negative', 'Negative', 'Negative', 'Negative', 'Negative', 'Negative', 'Negative', 'Negative', 'Negative', 'Negative', 'Negative', 'Negative', 'Negative', 'Negative', 'Negative', 'Negative', 'Negative', 'Negative', 'Negative', 'Negative', 'Negative', 'Negative', 'Negative', 'Negative', 'Negative', 'Negative', 'Negative', 'Negative', 'Negative', 'Negative', 'Negative', 'Negative', 'Negative', 'Negative', 'Negative', 'Negative', 'Negative', 'Negative', 'Negative', 'Negative', 'Negative', 'Negative', 'Negative', 'Negative', 'Negative', 'Negative', 'Negative', 'Negative', 'Negative', 'Negative', 'Negative', 'Negative', 'Negative', 'Negative', 'Negative', 'Negative', 'Negative', 'Negative', 'Negative', 'Negative', 'Negative', 'Negative', 'Negative', 'Negative', 'Negative', 'Negative', 'Negative', 'Negative', 'Negative', 'Negative', 'Negative', 'Negative', 'Negative', 'Negative', 'Negative', 'Negative', 'Negative', 'Negative', 'Negative', 'Negative', 'Negative', 'Negative', 'Negative', 'Negative', 'Negative', 'Negative', 'Negative', 'Negative', 'Negative', 'Negative', 'Negative', 'Negative', 'Negative', 'Negative', 'Negative', 'Negative', 'Negative', 'Negative', 'Negative', 'Negative', 'Negative', 'Negative', 'Negative', 'Negative', 'Negative', 'Negative', 'Negative', 'Negative', 'Negative', 'Negative', 'Negative', 'Negative', 'Negative', 'Negative', 'Negative', 'Negative', 'Negative', 'Negative', 'Negative', 'Negative', 'Negative', 'Negative', 'Negative', 'Negative', 'Negative', 'Negative', 'Negative', 'Negative', 'Negative', 'Negative', 'Negative', 'Negative', 'Negative', 'Negative', 'Negative', 'Negative', 'Negative', 'Negative', 'Negative', 'Negative', 'Negative', 'Negative', 'Negative', 'Negative', 'Negative', 'Negative', 'Negative', 'Negative', 'Negative', 'Negative', 'Negative', 'Negative', 'Negative', 'Negative', 'Negative', 'Negative', 'Negative', 'Negative', 'Negative', 'Negative', 'Negative', 'Negative', 'Negative', 'Negative', 'Negative', 'Negative', 'Negative', 'Negative', 'Negative', 'Negative', 'Negative', 'Negative', 'Negative', 'Negative', 'Negative', 'Negative', 'Negative', 'Negative', 'Negative', 'Negative', 'Negative', 'Negative', 'Negative', 'Negative', 'Negative', 'Negative', 'Negative', 'Negative', 'Negative', 'Negative', 'Negative', 'Negative', 'Negative', 'Negative', 'Negative', 'Negative', 'Negative', 'Negative', 'Negative', 'Negative', 'Negative', 'Negative', 'Negative', 'Negative', 'Negative', 'Negative', 'Negative', 'Negative', 'Negative', 'Negative', 'Negative', 'Negative', 'Negative', 'Negative', 'Negative', 'Negative', 'Negative', 'Negative', 'Negative', 'Negative', 'Negative', 'Negative', 'Negative', 'Negative', 'Negative', 'Negative', 'Negative', 'Negative', 'Negative', 'Negative', 'Negative', 'Negative', 'Negative', 'Negative', 'Negative', 'Negative', 'Negative', 'Negative', 'Negative', 'Negative', 'Negative', 'Negative', 'Negative', 'Negative', 'Negative', 'Negative', 'Negative', 'Negative', 'Negative', 'Negative', 'Negative', 'Negative', 'Negative', 'Negative', 'Negative', 'Negative', 'Negative', 'Negative', 'Negative', 'Negative', 'Negative', 'Negative', 'Negative', 'Negative', 'Negative', 'Negative', 'Negative', 'Negative', 'Negative', 'Negative', 'Negative', 'Negative', 'Negative', 'Negative', 'Negative', 'Negative', 'Negative', 'Negative', 'Negative', 'Negative', 'Negative', 'Negative', 'Negative', 'Negative', 'Negative', 'Negative', 'Negative', 'Negative', 'Negative', 'Negative', 'Negative', 'Negative', 'Negative', 'Negative', 'Negative', 'Negative', 'Negative', 'Negative', 'Negative', 'Negative', 'Negative', 'Negative', 'Negative', 'Negative', 'Negative', 'Negative', 'Negative', 'Negative', 'Negative', 'Negative', 'Negative', 'Negative', 'Negative', 'Negative', 'Negative', 'Negative', 'Negative', 'Negative', 'Negative', 'Negative', 'Negative', 'Negative', 'Negative', 'Negative', 'Negative', 'Negative', 'Negative', 'Negative', 'Negative', 'Negative', 'Negative', 'Negative', 'Negative', 'Negative', 'Negative', 'Negative', 'Negative', 'Negative', 'Negative', 'Negative', 'Negative', 'Negative', 'Negative', 'Negative', 'Negative', 'Negative', 'Negative', 'Negative', 'Negative', 'Negative', 'Negative', 'Negative', 'Negative', 'Negative', 'Negative', 'Negative', 'Negative', 'Negative', 'Negative', 'Negative', 'Negative', 'Negative', 'Negative', 'Negative', 'Negative', 'Negative', 'Negative', 'Negative', 'Negative', 'Negative', 'Negative', 'Negative', 'Negative', 'Negative', 'Negative', 'Negative', 'Negative', 'Negative', 'Negative', 'Negative', 'Negative', 'Negative', 'Negative', 'Negative', 'Negative', 'Negative', 'Negative', 'Negative', 'Negative', 'Negative', 'Negative', 'Negative', 'Negative', 'Negative', 'Negative', 'Negative', 'Negative', 'Negative', 'Negative', 'Negative', 'Negative', 'Negative', 'Negative', 'Negative', 'Negative', 'Negative', 'Negative', 'Negative', 'Negative', 'Negative', 'Negative', 'Negative', 'Negative', 'Negative', 'Negative', 'Negative', 'Negative', 'Negative', 'Negative', 'Negative', 'Negative', 'Negative', 'Negative', 'Negative', 'Negative', 'Negative', 'Negative', 'Negative', 'Negative', 'Negative', 'Negative', 'Negative', 'Negative', 'Negative', 'Negative', 'Negative', 'Negative', 'Negative', 'Negative', 'Negative', 'Negative', 'Negative', 'Negative', 'Negative', 'Negative', 'Negative', 'Negative', 'Negative', 'Negative', 'Negative', 'Negative', 'Negative', 'Negative', 'Negative', 'Negative', 'Negative', 'Negative', 'Negative', 'Negative', 'Negative', 'Negative', 'Negative', 'Negative', 'Negative', 'Negative', 'Negative', 'Negative', 'Negative', 'Negative', 'Negative', 'Negative', 'Negative', 'Negative', 'Negative', 'Negative', 'Negative', 'Negative', 'Negative', 'Negative', 'Negative', 'Negative', 'Negative', 'Negative', 'Negative', 'Negative', 'Negative', 'Negative', 'Negative', 'Negative', 'Negative', 'Negative', 'Negative', 'Negative', 'Negative', 'Negative', 'Negative', 'Negative', 'Negative', 'Negative', 'Negative', 'Negative', 'Negative', 'Negative', 'Negative', 'Negative', 'Negative', 'Negative', 'Negative', 'Negative', 'Negative', 'Negative', 'Negative', 'Negative', 'Negative', 'Negative', 'Negative', 'Negative', 'Negative', 'Negative', 'Negative', 'Negative', 'Negative', 'Negative', 'Negative', 'Negative', 'Negative', 'Negative', 'Negative', 'Negative', 'Negative', 'Negative', 'Negative', 'Negative', 'Negative', 'Negative', 'Negative', 'Negative', 'Negative', 'Negative', 'Negative', 'Negative', 'Negative', 'Negative', 'Negative', 'Negative', 'Negative', 'Negative', 'Negative', 'Negative', 'Negative', 'Negative', 'Negative', 'Negative', 'Negative', 'Negative', 'Negative', 'Negative', 'Negative', 'Negative', 'Negative', 'Negative', 'Negative', 'Negative', 'Negative', 'Negative', 'Negative', 'Negative', 'Negative', 'Negative', 'Negative', 'Negative', 'Negative', 'Negative', 'Negative', 'Negative', 'Negative', 'Negative', 'Negative']\n"
          ],
          "name": "stdout"
        }
      ]
    },
    {
      "cell_type": "code",
      "metadata": {
        "id": "G7rKo-Q6UQ6x"
      },
      "source": [
        "le=LabelEncoder()\n",
        "Labels=le.fit_transform(Labels)"
      ],
      "execution_count": null,
      "outputs": []
    },
    {
      "cell_type": "code",
      "metadata": {
        "id": "qWom9j2IUTa9"
      },
      "source": [
        "Images = np.array(Images)"
      ],
      "execution_count": null,
      "outputs": []
    },
    {
      "cell_type": "code",
      "metadata": {
        "id": "XzybP-qYUXuf",
        "colab": {
          "base_uri": "https://localhost:8080/"
        },
        "outputId": "98dd4f8c-81b3-4730-b1ad-86fdc6876d33"
      },
      "source": [
        "print(\"Label Vector:\",Labels)\n",
        "print(\"Length of Labels Vector:\",len(Labels))\n",
        "print(\"Shape of Images\",Images.shape)\n",
        "print(\"Number of Images:\",Images.shape[0])\n",
        "print(\"Size of Images: ({},{},{})\".format(Images.shape[1],Images.shape[2],Images.shape[3]))"
      ],
      "execution_count": null,
      "outputs": [
        {
          "output_type": "stream",
          "text": [
            "Label Vector: [1 1 1 ... 0 0 0]\n",
            "Length of Labels Vector: 3777\n",
            "Shape of Images (3777, 200, 200, 3)\n",
            "Number of Images: 3777\n",
            "Size of Images: (200,200,3)\n"
          ],
          "name": "stdout"
        }
      ]
    },
    {
      "cell_type": "code",
      "metadata": {
        "id": "VM5lOPvdUbfU"
      },
      "source": [
        "TrainImages , TestImages, TrainLabels, TestLabels = train_test_split(Images, Labels, test_size = 0.2, random_state = 2)\n",
        "TrainImages , ValidationImages, TrainLabels, ValidationLabels = train_test_split(TrainImages, TrainLabels, test_size = 0.25, random_state = 2)"
      ],
      "execution_count": null,
      "outputs": []
    },
    {
      "cell_type": "code",
      "metadata": {
        "id": "cegv8ppkUd3i",
        "colab": {
          "base_uri": "https://localhost:8080/"
        },
        "outputId": "aba85052-5af2-4df6-e592-4bcc75cc646f"
      },
      "source": [
        "print(\"Shape of Train Imgaes is:\",TrainImages.shape)\n",
        "print(\"Shape of Test Imgaes is:\",TestImages.shape)\n",
        "print(\"Shape of Validation Imgaes is:\",ValidationImages.shape)\n",
        "print(\"Length of Train Label Vector is:\",len(TrainLabels))\n",
        "print(\"Length of Test Label Vector is:\",len(TestLabels))\n",
        "print(\"Length of Validation Label Vector is:\",len(ValidationLabels))"
      ],
      "execution_count": null,
      "outputs": [
        {
          "output_type": "stream",
          "text": [
            "Shape of Train Imgaes is: (2265, 200, 200, 3)\n",
            "Shape of Test Imgaes is: (756, 200, 200, 3)\n",
            "Shape of Validation Imgaes is: (756, 200, 200, 3)\n",
            "Length of Train Label Vector is: 2265\n",
            "Length of Test Label Vector is: 756\n",
            "Length of Validation Label Vector is: 756\n"
          ],
          "name": "stdout"
        }
      ]
    },
    {
      "cell_type": "code",
      "metadata": {
        "id": "h5l-gEacUghm"
      },
      "source": [
        "dataGen = ImageDataGenerator(shear_range = 0.2,\n",
        "                             zoom_range = 0.1,\n",
        "                             validation_split=0.2)\n",
        "dataGen.fit(TrainImages)"
      ],
      "execution_count": null,
      "outputs": []
    },
    {
      "cell_type": "code",
      "metadata": {
        "id": "1gVqBkwbUi2Y",
        "colab": {
          "base_uri": "https://localhost:8080/"
        },
        "outputId": "073174e4-ca93-4ce2-8303-fc14ec2c279e"
      },
      "source": [
        "BatchSize = 32\n",
        "model = Sequential()\n",
        "\n",
        "model.add(Conv2D(32, (3,3), activation = 'relu', input_shape=(200,200,3)))\n",
        "model.add(MaxPool2D((2,2)))\n",
        "\n",
        "model.add(Dropout(0.2))\n",
        "\n",
        "model.add(Conv2D(64, (3, 3), activation='relu')) \n",
        "model.add(MaxPool2D((2, 2)))\n",
        "\n",
        "model.add(Dropout(0.2))\n",
        "\n",
        "model.add(Conv2D(128, (3, 3), activation='relu')) \n",
        "model.add(MaxPool2D((2, 2)))\n",
        "\n",
        "model.add(Dropout(0.2))\n",
        "\n",
        "model.add(Conv2D(128, (3, 3), activation='relu')) \n",
        "model.add(MaxPool2D((2, 2)))\n",
        "\n",
        "model.add(Dropout(0.2))\n",
        "\n",
        "model.add(Conv2D(128, (3, 3), activation='relu')) \n",
        "model.add(MaxPool2D((2, 2)))\n",
        "\n",
        "model.add(Dropout(0.2))\n",
        "\n",
        "model.add(Flatten())\n",
        "\n",
        "model.add(Dropout(0.2))\n",
        "\n",
        "model.add(Dense(128, activation='relu'))\n",
        "\n",
        "model.add(Dropout(0.2))\n",
        "\n",
        "model.add(Dense(1, activation='sigmoid')) #softmax\n",
        "\n",
        "model.compile(loss = \"binary_crossentropy\", optimizer = \"Adam\", metrics = [\"accuracy\"])\n",
        "\n",
        "history = model.fit(dataGen.flow(TrainImages, TrainLabels, batch_size = BatchSize), \n",
        "                                           validation_data = (ValidationImages, ValidationLabels), epochs = 100,\n",
        "                                           steps_per_epoch = TrainImages.shape[0]//BatchSize, shuffle =1)"
      ],
      "execution_count": null,
      "outputs": [
        {
          "output_type": "stream",
          "text": [
            "Epoch 1/100\n",
            "70/70 [==============================] - 18s 238ms/step - loss: 11.1450 - accuracy: 0.6362 - val_loss: 0.6655 - val_accuracy: 0.7169\n",
            "Epoch 2/100\n",
            "70/70 [==============================] - 16s 229ms/step - loss: 0.6284 - accuracy: 0.6912 - val_loss: 0.6662 - val_accuracy: 0.7169\n",
            "Epoch 3/100\n",
            "70/70 [==============================] - 16s 229ms/step - loss: 0.6081 - accuracy: 0.7070 - val_loss: 0.5390 - val_accuracy: 0.7328\n",
            "Epoch 4/100\n",
            "70/70 [==============================] - 16s 230ms/step - loss: 0.5777 - accuracy: 0.7396 - val_loss: 0.4936 - val_accuracy: 0.7698\n",
            "Epoch 5/100\n",
            "70/70 [==============================] - 16s 228ms/step - loss: 0.5171 - accuracy: 0.7835 - val_loss: 0.4969 - val_accuracy: 0.7937\n",
            "Epoch 6/100\n",
            "70/70 [==============================] - 16s 230ms/step - loss: 0.4524 - accuracy: 0.8173 - val_loss: 0.4832 - val_accuracy: 0.7817\n",
            "Epoch 7/100\n",
            "70/70 [==============================] - 16s 229ms/step - loss: 0.4613 - accuracy: 0.8117 - val_loss: 0.4478 - val_accuracy: 0.7937\n",
            "Epoch 8/100\n",
            "70/70 [==============================] - 16s 230ms/step - loss: 0.4327 - accuracy: 0.8337 - val_loss: 0.4300 - val_accuracy: 0.8135\n",
            "Epoch 9/100\n",
            "70/70 [==============================] - 16s 230ms/step - loss: 0.3931 - accuracy: 0.8364 - val_loss: 0.4482 - val_accuracy: 0.7923\n",
            "Epoch 10/100\n",
            "70/70 [==============================] - 16s 229ms/step - loss: 0.3885 - accuracy: 0.8450 - val_loss: 0.4197 - val_accuracy: 0.8122\n",
            "Epoch 11/100\n",
            "70/70 [==============================] - 16s 229ms/step - loss: 0.3790 - accuracy: 0.8462 - val_loss: 0.4155 - val_accuracy: 0.8082\n",
            "Epoch 12/100\n",
            "70/70 [==============================] - 16s 228ms/step - loss: 0.4121 - accuracy: 0.8335 - val_loss: 0.3884 - val_accuracy: 0.8413\n",
            "Epoch 13/100\n",
            "70/70 [==============================] - 16s 228ms/step - loss: 0.4000 - accuracy: 0.8405 - val_loss: 0.4025 - val_accuracy: 0.8148\n",
            "Epoch 14/100\n",
            "70/70 [==============================] - 16s 228ms/step - loss: 0.3807 - accuracy: 0.8476 - val_loss: 0.4372 - val_accuracy: 0.7989\n",
            "Epoch 15/100\n",
            "70/70 [==============================] - 16s 228ms/step - loss: 0.3974 - accuracy: 0.8428 - val_loss: 0.4527 - val_accuracy: 0.8505\n",
            "Epoch 16/100\n",
            "70/70 [==============================] - 16s 227ms/step - loss: 0.3851 - accuracy: 0.8458 - val_loss: 0.3359 - val_accuracy: 0.8532\n",
            "Epoch 17/100\n",
            "70/70 [==============================] - 16s 230ms/step - loss: 0.3581 - accuracy: 0.8632 - val_loss: 0.3454 - val_accuracy: 0.8571\n",
            "Epoch 18/100\n",
            "70/70 [==============================] - 16s 228ms/step - loss: 0.4112 - accuracy: 0.8220 - val_loss: 0.3804 - val_accuracy: 0.8254\n",
            "Epoch 19/100\n",
            "70/70 [==============================] - 16s 228ms/step - loss: 0.4050 - accuracy: 0.8380 - val_loss: 0.3085 - val_accuracy: 0.8651\n",
            "Epoch 20/100\n",
            "70/70 [==============================] - 16s 228ms/step - loss: 0.4025 - accuracy: 0.8271 - val_loss: 0.3182 - val_accuracy: 0.8571\n",
            "Epoch 21/100\n",
            "70/70 [==============================] - 16s 229ms/step - loss: 0.3654 - accuracy: 0.8496 - val_loss: 0.3912 - val_accuracy: 0.8254\n",
            "Epoch 22/100\n",
            "70/70 [==============================] - 16s 227ms/step - loss: 0.3638 - accuracy: 0.8459 - val_loss: 0.3904 - val_accuracy: 0.8333\n",
            "Epoch 23/100\n",
            "70/70 [==============================] - 16s 230ms/step - loss: 0.3536 - accuracy: 0.8508 - val_loss: 0.3225 - val_accuracy: 0.8558\n",
            "Epoch 24/100\n",
            "70/70 [==============================] - 16s 228ms/step - loss: 0.3359 - accuracy: 0.8709 - val_loss: 0.2883 - val_accuracy: 0.8743\n",
            "Epoch 25/100\n",
            "70/70 [==============================] - 16s 228ms/step - loss: 0.3486 - accuracy: 0.8447 - val_loss: 0.3218 - val_accuracy: 0.8598\n",
            "Epoch 26/100\n",
            "70/70 [==============================] - 16s 229ms/step - loss: 0.2995 - accuracy: 0.8751 - val_loss: 0.2955 - val_accuracy: 0.8743\n",
            "Epoch 27/100\n",
            "70/70 [==============================] - 16s 230ms/step - loss: 0.3410 - accuracy: 0.8554 - val_loss: 0.3340 - val_accuracy: 0.8783\n",
            "Epoch 28/100\n",
            "70/70 [==============================] - 16s 230ms/step - loss: 0.3422 - accuracy: 0.8619 - val_loss: 0.3706 - val_accuracy: 0.8161\n",
            "Epoch 29/100\n",
            "70/70 [==============================] - 16s 229ms/step - loss: 0.3540 - accuracy: 0.8578 - val_loss: 0.3144 - val_accuracy: 0.8704\n",
            "Epoch 30/100\n",
            "70/70 [==============================] - 16s 231ms/step - loss: 0.3434 - accuracy: 0.8483 - val_loss: 0.3420 - val_accuracy: 0.8545\n",
            "Epoch 31/100\n",
            "70/70 [==============================] - 16s 229ms/step - loss: 0.3510 - accuracy: 0.8509 - val_loss: 0.3016 - val_accuracy: 0.8717\n",
            "Epoch 32/100\n",
            "70/70 [==============================] - 16s 228ms/step - loss: 0.3096 - accuracy: 0.8732 - val_loss: 0.3076 - val_accuracy: 0.8876\n",
            "Epoch 33/100\n",
            "70/70 [==============================] - 16s 228ms/step - loss: 0.3102 - accuracy: 0.8738 - val_loss: 0.3221 - val_accuracy: 0.8810\n",
            "Epoch 34/100\n",
            "70/70 [==============================] - 16s 229ms/step - loss: 0.3308 - accuracy: 0.8549 - val_loss: 0.2899 - val_accuracy: 0.8783\n",
            "Epoch 35/100\n",
            "70/70 [==============================] - 16s 229ms/step - loss: 0.3174 - accuracy: 0.8661 - val_loss: 0.2592 - val_accuracy: 0.9140\n",
            "Epoch 36/100\n",
            "70/70 [==============================] - 16s 229ms/step - loss: 0.3057 - accuracy: 0.8719 - val_loss: 0.2594 - val_accuracy: 0.8942\n",
            "Epoch 37/100\n",
            "70/70 [==============================] - 16s 230ms/step - loss: 0.2991 - accuracy: 0.8814 - val_loss: 0.2846 - val_accuracy: 0.8862\n",
            "Epoch 38/100\n",
            "70/70 [==============================] - 16s 229ms/step - loss: 0.2986 - accuracy: 0.8788 - val_loss: 0.3472 - val_accuracy: 0.8558\n",
            "Epoch 39/100\n",
            "70/70 [==============================] - 16s 231ms/step - loss: 0.3097 - accuracy: 0.8716 - val_loss: 0.2666 - val_accuracy: 0.8849\n",
            "Epoch 40/100\n",
            "70/70 [==============================] - 16s 231ms/step - loss: 0.3035 - accuracy: 0.8779 - val_loss: 0.2572 - val_accuracy: 0.9008\n",
            "Epoch 41/100\n",
            "70/70 [==============================] - 16s 229ms/step - loss: 0.2718 - accuracy: 0.8924 - val_loss: 0.2948 - val_accuracy: 0.9048\n",
            "Epoch 42/100\n",
            "70/70 [==============================] - 16s 230ms/step - loss: 0.2958 - accuracy: 0.8838 - val_loss: 0.2613 - val_accuracy: 0.8942\n",
            "Epoch 43/100\n",
            "70/70 [==============================] - 16s 231ms/step - loss: 0.2687 - accuracy: 0.8956 - val_loss: 0.3469 - val_accuracy: 0.8677\n",
            "Epoch 44/100\n",
            "70/70 [==============================] - 16s 234ms/step - loss: 0.3112 - accuracy: 0.8808 - val_loss: 0.3025 - val_accuracy: 0.8796\n",
            "Epoch 45/100\n",
            "70/70 [==============================] - 16s 230ms/step - loss: 0.2716 - accuracy: 0.8912 - val_loss: 0.2586 - val_accuracy: 0.8849\n",
            "Epoch 46/100\n",
            "70/70 [==============================] - 16s 231ms/step - loss: 0.2502 - accuracy: 0.8914 - val_loss: 0.2860 - val_accuracy: 0.8823\n",
            "Epoch 47/100\n",
            "70/70 [==============================] - 16s 229ms/step - loss: 0.2788 - accuracy: 0.8918 - val_loss: 0.2681 - val_accuracy: 0.9008\n",
            "Epoch 48/100\n",
            "70/70 [==============================] - 16s 229ms/step - loss: 0.2251 - accuracy: 0.9113 - val_loss: 0.2317 - val_accuracy: 0.9167\n",
            "Epoch 49/100\n",
            "70/70 [==============================] - 16s 231ms/step - loss: 0.2349 - accuracy: 0.9115 - val_loss: 0.2529 - val_accuracy: 0.8968\n",
            "Epoch 50/100\n",
            "70/70 [==============================] - 16s 229ms/step - loss: 0.2398 - accuracy: 0.9081 - val_loss: 0.2463 - val_accuracy: 0.9021\n",
            "Epoch 51/100\n",
            "70/70 [==============================] - 16s 230ms/step - loss: 0.2437 - accuracy: 0.8897 - val_loss: 0.2362 - val_accuracy: 0.9259\n",
            "Epoch 52/100\n",
            "70/70 [==============================] - 16s 232ms/step - loss: 0.2277 - accuracy: 0.9040 - val_loss: 0.2636 - val_accuracy: 0.8968\n",
            "Epoch 53/100\n",
            "70/70 [==============================] - 16s 235ms/step - loss: 0.2161 - accuracy: 0.9229 - val_loss: 0.2727 - val_accuracy: 0.8942\n",
            "Epoch 54/100\n",
            "70/70 [==============================] - 17s 240ms/step - loss: 0.2540 - accuracy: 0.9000 - val_loss: 0.2634 - val_accuracy: 0.9008\n",
            "Epoch 55/100\n",
            "70/70 [==============================] - 17s 241ms/step - loss: 0.2470 - accuracy: 0.8960 - val_loss: 0.2424 - val_accuracy: 0.9220\n",
            "Epoch 56/100\n",
            "70/70 [==============================] - 16s 232ms/step - loss: 0.2192 - accuracy: 0.9207 - val_loss: 0.2609 - val_accuracy: 0.9074\n",
            "Epoch 57/100\n",
            "70/70 [==============================] - 16s 232ms/step - loss: 0.2142 - accuracy: 0.9110 - val_loss: 0.2974 - val_accuracy: 0.8942\n",
            "Epoch 58/100\n",
            "70/70 [==============================] - 16s 232ms/step - loss: 0.2745 - accuracy: 0.8915 - val_loss: 0.2300 - val_accuracy: 0.9206\n",
            "Epoch 59/100\n",
            "70/70 [==============================] - 16s 231ms/step - loss: 0.1965 - accuracy: 0.9244 - val_loss: 0.2396 - val_accuracy: 0.9127\n",
            "Epoch 60/100\n",
            "70/70 [==============================] - 16s 231ms/step - loss: 0.2148 - accuracy: 0.9077 - val_loss: 0.3113 - val_accuracy: 0.8638\n",
            "Epoch 61/100\n",
            "70/70 [==============================] - 16s 233ms/step - loss: 0.2384 - accuracy: 0.8980 - val_loss: 0.2330 - val_accuracy: 0.9259\n",
            "Epoch 62/100\n",
            "70/70 [==============================] - 16s 230ms/step - loss: 0.2909 - accuracy: 0.8782 - val_loss: 0.2702 - val_accuracy: 0.9246\n",
            "Epoch 63/100\n",
            "70/70 [==============================] - 16s 229ms/step - loss: 0.2129 - accuracy: 0.9140 - val_loss: 0.2600 - val_accuracy: 0.9140\n",
            "Epoch 64/100\n",
            "70/70 [==============================] - 16s 228ms/step - loss: 0.2367 - accuracy: 0.9045 - val_loss: 0.2603 - val_accuracy: 0.9220\n",
            "Epoch 65/100\n",
            "70/70 [==============================] - 16s 230ms/step - loss: 0.2331 - accuracy: 0.9098 - val_loss: 0.2264 - val_accuracy: 0.9220\n",
            "Epoch 66/100\n",
            "70/70 [==============================] - 16s 230ms/step - loss: 0.2051 - accuracy: 0.9148 - val_loss: 0.2225 - val_accuracy: 0.9259\n",
            "Epoch 67/100\n",
            "70/70 [==============================] - 16s 229ms/step - loss: 0.2109 - accuracy: 0.9067 - val_loss: 0.2468 - val_accuracy: 0.9061\n",
            "Epoch 68/100\n",
            "70/70 [==============================] - 16s 227ms/step - loss: 0.2110 - accuracy: 0.9101 - val_loss: 0.2826 - val_accuracy: 0.8981\n",
            "Epoch 69/100\n",
            "70/70 [==============================] - 16s 228ms/step - loss: 0.2335 - accuracy: 0.9077 - val_loss: 0.2180 - val_accuracy: 0.9233\n",
            "Epoch 70/100\n",
            "70/70 [==============================] - 16s 228ms/step - loss: 0.1799 - accuracy: 0.9429 - val_loss: 0.2394 - val_accuracy: 0.9180\n",
            "Epoch 71/100\n",
            "70/70 [==============================] - 16s 229ms/step - loss: 0.1944 - accuracy: 0.9181 - val_loss: 0.2268 - val_accuracy: 0.9114\n",
            "Epoch 72/100\n",
            "70/70 [==============================] - 16s 233ms/step - loss: 0.1936 - accuracy: 0.9153 - val_loss: 0.2518 - val_accuracy: 0.9127\n",
            "Epoch 73/100\n",
            "70/70 [==============================] - 16s 230ms/step - loss: 0.1605 - accuracy: 0.9337 - val_loss: 0.2160 - val_accuracy: 0.9339\n",
            "Epoch 74/100\n",
            "70/70 [==============================] - 16s 232ms/step - loss: 0.1772 - accuracy: 0.9330 - val_loss: 0.2502 - val_accuracy: 0.9193\n",
            "Epoch 75/100\n",
            "70/70 [==============================] - 16s 231ms/step - loss: 0.1827 - accuracy: 0.9207 - val_loss: 0.2311 - val_accuracy: 0.9206\n",
            "Epoch 76/100\n",
            "70/70 [==============================] - 16s 230ms/step - loss: 0.1962 - accuracy: 0.9181 - val_loss: 0.2583 - val_accuracy: 0.9246\n",
            "Epoch 77/100\n",
            "70/70 [==============================] - 16s 230ms/step - loss: 0.1805 - accuracy: 0.9250 - val_loss: 0.2643 - val_accuracy: 0.9180\n",
            "Epoch 78/100\n",
            "70/70 [==============================] - 16s 232ms/step - loss: 0.1926 - accuracy: 0.9205 - val_loss: 0.2509 - val_accuracy: 0.9246\n",
            "Epoch 79/100\n",
            "70/70 [==============================] - 16s 229ms/step - loss: 0.1903 - accuracy: 0.9238 - val_loss: 0.2332 - val_accuracy: 0.9405\n",
            "Epoch 80/100\n",
            "70/70 [==============================] - 16s 230ms/step - loss: 0.1750 - accuracy: 0.9272 - val_loss: 0.2274 - val_accuracy: 0.9299\n",
            "Epoch 81/100\n",
            "70/70 [==============================] - 16s 230ms/step - loss: 0.1708 - accuracy: 0.9289 - val_loss: 0.2663 - val_accuracy: 0.9167\n",
            "Epoch 82/100\n",
            "70/70 [==============================] - 16s 233ms/step - loss: 0.1740 - accuracy: 0.9322 - val_loss: 0.2590 - val_accuracy: 0.8981\n",
            "Epoch 83/100\n",
            "70/70 [==============================] - 16s 232ms/step - loss: 0.1615 - accuracy: 0.9411 - val_loss: 0.2299 - val_accuracy: 0.9272\n",
            "Epoch 84/100\n",
            "70/70 [==============================] - 16s 230ms/step - loss: 0.1657 - accuracy: 0.9316 - val_loss: 0.2332 - val_accuracy: 0.9352\n",
            "Epoch 85/100\n",
            "70/70 [==============================] - 16s 233ms/step - loss: 0.1345 - accuracy: 0.9512 - val_loss: 0.2471 - val_accuracy: 0.9180\n",
            "Epoch 86/100\n",
            "70/70 [==============================] - 16s 229ms/step - loss: 0.1601 - accuracy: 0.9411 - val_loss: 0.2387 - val_accuracy: 0.9140\n",
            "Epoch 87/100\n",
            "70/70 [==============================] - 16s 230ms/step - loss: 0.1843 - accuracy: 0.9281 - val_loss: 0.2912 - val_accuracy: 0.9034\n",
            "Epoch 88/100\n",
            "70/70 [==============================] - 16s 232ms/step - loss: 0.1808 - accuracy: 0.9299 - val_loss: 0.2389 - val_accuracy: 0.9312\n",
            "Epoch 89/100\n",
            "70/70 [==============================] - 16s 230ms/step - loss: 0.1458 - accuracy: 0.9481 - val_loss: 0.2286 - val_accuracy: 0.9299\n",
            "Epoch 90/100\n",
            "70/70 [==============================] - 16s 231ms/step - loss: 0.1423 - accuracy: 0.9463 - val_loss: 0.2646 - val_accuracy: 0.9246\n",
            "Epoch 91/100\n",
            "70/70 [==============================] - 16s 229ms/step - loss: 0.1585 - accuracy: 0.9355 - val_loss: 0.2662 - val_accuracy: 0.9325\n",
            "Epoch 92/100\n",
            "70/70 [==============================] - 16s 231ms/step - loss: 0.1422 - accuracy: 0.9366 - val_loss: 0.2531 - val_accuracy: 0.9167\n",
            "Epoch 93/100\n",
            "70/70 [==============================] - 16s 230ms/step - loss: 0.1985 - accuracy: 0.9233 - val_loss: 0.2373 - val_accuracy: 0.9286\n",
            "Epoch 94/100\n",
            "70/70 [==============================] - 16s 230ms/step - loss: 0.1817 - accuracy: 0.9336 - val_loss: 0.2421 - val_accuracy: 0.9312\n",
            "Epoch 95/100\n",
            "70/70 [==============================] - 16s 229ms/step - loss: 0.1407 - accuracy: 0.9325 - val_loss: 0.2656 - val_accuracy: 0.9312\n",
            "Epoch 96/100\n",
            "70/70 [==============================] - 16s 231ms/step - loss: 0.1212 - accuracy: 0.9596 - val_loss: 0.2146 - val_accuracy: 0.9339\n",
            "Epoch 97/100\n",
            "70/70 [==============================] - 16s 232ms/step - loss: 0.1434 - accuracy: 0.9435 - val_loss: 0.2560 - val_accuracy: 0.9325\n",
            "Epoch 98/100\n",
            "70/70 [==============================] - 16s 231ms/step - loss: 0.1531 - accuracy: 0.9378 - val_loss: 0.2218 - val_accuracy: 0.9392\n",
            "Epoch 99/100\n",
            "70/70 [==============================] - 16s 230ms/step - loss: 0.1244 - accuracy: 0.9508 - val_loss: 0.2470 - val_accuracy: 0.9153\n",
            "Epoch 100/100\n",
            "70/70 [==============================] - 16s 230ms/step - loss: 0.1390 - accuracy: 0.9415 - val_loss: 0.2507 - val_accuracy: 0.9339\n"
          ],
          "name": "stdout"
        }
      ]
    },
    {
      "cell_type": "code",
      "metadata": {
        "id": "zEGaAtfxUlJ3",
        "colab": {
          "base_uri": "https://localhost:8080/"
        },
        "outputId": "5a9557bb-2d23-45f4-d7d4-c7bbbd04c7a4"
      },
      "source": [
        "TrainScore = model.evaluate(TrainImages,TrainLabels)\n",
        "print(\"Loss of Training: %{}\".format(TrainScore[0]*100))\n",
        "print(\"Accuracy of Training: %{}\".format(TrainScore[1]*100))"
      ],
      "execution_count": null,
      "outputs": [
        {
          "output_type": "stream",
          "text": [
            "71/71 [==============================] - 1s 13ms/step - loss: 0.0651 - accuracy: 0.9801\n",
            "Loss of Training: %6.509099155664444\n",
            "Accuracy of Training: %98.01324605941772\n"
          ],
          "name": "stdout"
        }
      ]
    },
    {
      "cell_type": "code",
      "metadata": {
        "id": "Q5IZiaXdUqWl",
        "colab": {
          "base_uri": "https://localhost:8080/"
        },
        "outputId": "d67ddb62-b054-4baf-f968-acb10b411f49"
      },
      "source": [
        "ValidationScore = model.evaluate(ValidationImages,ValidationLabels)\n",
        "print(\"Loss of Validation: %{}\".format(ValidationScore[0]*100))\n",
        "print(\"Accuracy of Validation: %{}\".format(ValidationScore[1]*100))"
      ],
      "execution_count": null,
      "outputs": [
        {
          "output_type": "stream",
          "text": [
            "24/24 [==============================] - 0s 13ms/step - loss: 0.2507 - accuracy: 0.9339\n",
            "Loss of Validation: %25.071480870246887\n",
            "Accuracy of Validation: %93.38624477386475\n"
          ],
          "name": "stdout"
        }
      ]
    },
    {
      "cell_type": "code",
      "metadata": {
        "id": "AkkfdaumUsRl",
        "colab": {
          "base_uri": "https://localhost:8080/"
        },
        "outputId": "e644eb33-5a30-4798-f64b-cfe4fa7cfff5"
      },
      "source": [
        "TestScore = model.evaluate(TestImages,TestLabels)\n",
        "print(\"Loss of Test: %{}\".format(TestScore[0]*100))\n",
        "print(\"Accuracy of Test: %{}\".format(TestScore[1]*100))"
      ],
      "execution_count": null,
      "outputs": [
        {
          "output_type": "stream",
          "text": [
            "24/24 [==============================] - 0s 13ms/step - loss: 0.2935 - accuracy: 0.9286\n",
            "Loss of Test: %29.34941053390503\n",
            "Accuracy of Test: %92.85714030265808\n"
          ],
          "name": "stdout"
        }
      ]
    },
    {
      "cell_type": "code",
      "metadata": {
        "id": "qcKLH908AZiB",
        "colab": {
          "base_uri": "https://localhost:8080/",
          "height": 312
        },
        "outputId": "b43938cb-039b-4d56-d7ce-5560b1bad9ed"
      },
      "source": [
        "plt.plot(history.history['accuracy'], label='Training Accuracy')\n",
        "plt.plot(history.history['val_accuracy'], label = 'Validation Accuracy')\n",
        "plt.title('Training and Validation Accuracy'), plt.ylabel('Accuracy'), plt.xlabel('Epoch')\n",
        "plt.legend(loc='lower right'), plt.ylim([0.5, 1]), plt.grid()\n",
        "plt.savefig(\"/content/drive/MyDrive/PHOTOS/EightCodeWithTestAndValidationMatrix/ValidationTrainingAccuracy.png\")"
      ],
      "execution_count": null,
      "outputs": [
        {
          "output_type": "execute_result",
          "data": {
            "text/plain": [
              "(<matplotlib.legend.Legend at 0x7f52ca2c24d0>, (0.5, 1.0), None)"
            ]
          },
          "metadata": {
            "tags": []
          },
          "execution_count": 47
        },
        {
          "output_type": "display_data",
          "data": {
            "image/png": "[encoded data removed]",
            "text/plain": [
              "<Figure size 432x288 with 1 Axes>"
            ]
          },
          "metadata": {
            "tags": [],
            "needs_background": "light"
          }
        }
      ]
    },
    {
      "cell_type": "code",
      "metadata": {
        "id": "qLQeYij0AZvf",
        "colab": {
          "base_uri": "https://localhost:8080/",
          "height": 312
        },
        "outputId": "f8fac476-a3e4-47ea-b045-a15764895227"
      },
      "source": [
        "plt.plot(history.history['loss'], label='Training Loss')\n",
        "plt.plot(history.history['val_loss'], label = 'Validation Loss')\n",
        "plt.xlabel('Epoch'), plt.ylabel('Loss'), plt.title('Training and Validation Loss')\n",
        "plt.legend(loc='upper right'), plt.ylim([0, 3]), plt.grid()\n",
        "plt.savefig(\"/content/drive/MyDrive/PHOTOS/EightCodeWithTestAndValidationMatrix/ValidationTrainingLoss.png\")"
      ],
      "execution_count": null,
      "outputs": [
        {
          "output_type": "execute_result",
          "data": {
            "text/plain": [
              "(<matplotlib.legend.Legend at 0x7f52ca259710>, (0.0, 3.0), None)"
            ]
          },
          "metadata": {
            "tags": []
          },
          "execution_count": 48
        },
        {
          "output_type": "display_data",
          "data": {
            "image/png": "[encoded data removed]",
            "text/plain": [
              "<Figure size 432x288 with 1 Axes>"
            ]
          },
          "metadata": {
            "tags": [],
            "needs_background": "light"
          }
        }
      ]
    },
    {
      "cell_type": "code",
      "metadata": {
        "id": "FKYniupDJe-0",
        "colab": {
          "base_uri": "https://localhost:8080/"
        },
        "outputId": "b5816052-747e-4084-9430-e414864ea757"
      },
      "source": [
        "PredictionTestLabels = model.predict(TestImages)\n",
        "PredictionTestLabels=np.round(PredictionTestLabels)\n",
        "ConfusionTestMatrix = confusion_matrix(TestLabels, PredictionTestLabels)\n",
        "print(\"Confusion matrix : \\n\",ConfusionTestMatrix)\n",
        "\n",
        "TN, FP, FN, TP = confusion_matrix(TestLabels, PredictionTestLabels).ravel()\n",
        "print('\\nTrue Positive : {}\\nFalse Negative: {}\\nFalse Positive: {}\\nTrue Negative: {}'.format(TP, FN, FP, TN))\n",
        "\n",
        "TestPrecisionValue = TP / (TP+FP)\n",
        "TestRecallValue = TP / (TP+FN)\n",
        "TestAccurayValue = (TP + TN) /(TP + FN + FP + TN)\n",
        "TestF1Score =   2 * (TestPrecisionValue * TestRecallValue) / (TestPrecisionValue + TestRecallValue)\n",
        "print(\"\\nPresicion: %{:.2f}\\nRecall: %{:.2f}\\nAccuracy: %{:.2f}\\nF1-Score: %{:.2f}\".format(TestPrecisionValue*100,TestRecallValue*100,TestAccurayValue*100,TestF1Score*100))\n",
        "\n",
        "TestTable = classification_report(TestLabels,PredictionTestLabels,labels=[1,0])\n",
        "print(\"Classification report : \\n\\n\",TestTable)"
      ],
      "execution_count": null,
      "outputs": [
        {
          "output_type": "stream",
          "text": [
            "Confusion matrix : \n",
            " [[513  19]\n",
            " [ 35 189]]\n",
            "\n",
            "True Positive : 189\n",
            "False Negative: 35\n",
            "False Positive: 19\n",
            "True Negative: 513\n",
            "\n",
            "Presicion: %90.87\n",
            "Recall: %84.38\n",
            "Accuracy: %92.86\n",
            "F1-Score: %87.50\n",
            "Classification report : \n",
            "\n",
            "               precision    recall  f1-score   support\n",
            "\n",
            "           1       0.91      0.84      0.88       224\n",
            "           0       0.94      0.96      0.95       532\n",
            "\n",
            "    accuracy                           0.93       756\n",
            "   macro avg       0.92      0.90      0.91       756\n",
            "weighted avg       0.93      0.93      0.93       756\n",
            "\n"
          ],
          "name": "stdout"
        }
      ]
    }
  ]
}